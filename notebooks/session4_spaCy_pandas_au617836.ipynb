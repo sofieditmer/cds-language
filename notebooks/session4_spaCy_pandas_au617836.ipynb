{
 "cells": [
  {
   "cell_type": "markdown",
   "metadata": {},
   "source": [
    "## More `spaCy` and `pandas`"
   ]
  },
  {
   "cell_type": "markdown",
   "metadata": {},
   "source": [
    "__Load dependencies__"
   ]
  },
  {
   "cell_type": "code",
   "execution_count": 2,
   "metadata": {},
   "outputs": [
    {
     "ename": "OSError",
     "evalue": "[E050] Can't find model 'en_core_web_sm'. It doesn't seem to be a shortcut link, a Python package or a valid path to a data directory.",
     "output_type": "error",
     "traceback": [
      "\u001b[0;31m---------------------------------------------------------------------------\u001b[0m",
      "\u001b[0;31mOSError\u001b[0m                                   Traceback (most recent call last)",
      "\u001b[0;32m<ipython-input-2-743f7ae3c29c>\u001b[0m in \u001b[0;36m<module>\u001b[0;34m\u001b[0m\n\u001b[1;32m      5\u001b[0m \u001b[0;34m\u001b[0m\u001b[0m\n\u001b[1;32m      6\u001b[0m \u001b[0;31m# Initialize spaCy by creating a spaCy object\u001b[0m\u001b[0;34m\u001b[0m\u001b[0;34m\u001b[0m\u001b[0;34m\u001b[0m\u001b[0m\n\u001b[0;32m----> 7\u001b[0;31m \u001b[0mnlp\u001b[0m \u001b[0;34m=\u001b[0m \u001b[0mspacy\u001b[0m\u001b[0;34m.\u001b[0m\u001b[0mload\u001b[0m\u001b[0;34m(\u001b[0m\u001b[0;34m\"en_core_web_sm\"\u001b[0m\u001b[0;34m)\u001b[0m\u001b[0;34m\u001b[0m\u001b[0;34m\u001b[0m\u001b[0m\n\u001b[0m\u001b[1;32m      8\u001b[0m \u001b[0;34m\u001b[0m\u001b[0m\n\u001b[1;32m      9\u001b[0m \u001b[0;31m# Initializing spacytextblob and adding it to the pipeline\u001b[0m\u001b[0;34m\u001b[0m\u001b[0;34m\u001b[0m\u001b[0;34m\u001b[0m\u001b[0m\n",
      "\u001b[0;32m~/cds-language-forked/lang101/lib/python3.6/site-packages/spacy/__init__.py\u001b[0m in \u001b[0;36mload\u001b[0;34m(name, **overrides)\u001b[0m\n\u001b[1;32m     28\u001b[0m     \u001b[0;32mif\u001b[0m \u001b[0mdepr_path\u001b[0m \u001b[0;32mnot\u001b[0m \u001b[0;32min\u001b[0m \u001b[0;34m(\u001b[0m\u001b[0;32mTrue\u001b[0m\u001b[0;34m,\u001b[0m \u001b[0;32mFalse\u001b[0m\u001b[0;34m,\u001b[0m \u001b[0;32mNone\u001b[0m\u001b[0;34m)\u001b[0m\u001b[0;34m:\u001b[0m\u001b[0;34m\u001b[0m\u001b[0;34m\u001b[0m\u001b[0m\n\u001b[1;32m     29\u001b[0m         \u001b[0mwarnings\u001b[0m\u001b[0;34m.\u001b[0m\u001b[0mwarn\u001b[0m\u001b[0;34m(\u001b[0m\u001b[0mWarnings\u001b[0m\u001b[0;34m.\u001b[0m\u001b[0mW001\u001b[0m\u001b[0;34m.\u001b[0m\u001b[0mformat\u001b[0m\u001b[0;34m(\u001b[0m\u001b[0mpath\u001b[0m\u001b[0;34m=\u001b[0m\u001b[0mdepr_path\u001b[0m\u001b[0;34m)\u001b[0m\u001b[0;34m,\u001b[0m \u001b[0mDeprecationWarning\u001b[0m\u001b[0;34m)\u001b[0m\u001b[0;34m\u001b[0m\u001b[0;34m\u001b[0m\u001b[0m\n\u001b[0;32m---> 30\u001b[0;31m     \u001b[0;32mreturn\u001b[0m \u001b[0mutil\u001b[0m\u001b[0;34m.\u001b[0m\u001b[0mload_model\u001b[0m\u001b[0;34m(\u001b[0m\u001b[0mname\u001b[0m\u001b[0;34m,\u001b[0m \u001b[0;34m**\u001b[0m\u001b[0moverrides\u001b[0m\u001b[0;34m)\u001b[0m\u001b[0;34m\u001b[0m\u001b[0;34m\u001b[0m\u001b[0m\n\u001b[0m\u001b[1;32m     31\u001b[0m \u001b[0;34m\u001b[0m\u001b[0m\n\u001b[1;32m     32\u001b[0m \u001b[0;34m\u001b[0m\u001b[0m\n",
      "\u001b[0;32m~/cds-language-forked/lang101/lib/python3.6/site-packages/spacy/util.py\u001b[0m in \u001b[0;36mload_model\u001b[0;34m(name, **overrides)\u001b[0m\n\u001b[1;32m    173\u001b[0m     \u001b[0;32melif\u001b[0m \u001b[0mhasattr\u001b[0m\u001b[0;34m(\u001b[0m\u001b[0mname\u001b[0m\u001b[0;34m,\u001b[0m \u001b[0;34m\"exists\"\u001b[0m\u001b[0;34m)\u001b[0m\u001b[0;34m:\u001b[0m  \u001b[0;31m# Path or Path-like to model data\u001b[0m\u001b[0;34m\u001b[0m\u001b[0;34m\u001b[0m\u001b[0m\n\u001b[1;32m    174\u001b[0m         \u001b[0;32mreturn\u001b[0m \u001b[0mload_model_from_path\u001b[0m\u001b[0;34m(\u001b[0m\u001b[0mname\u001b[0m\u001b[0;34m,\u001b[0m \u001b[0;34m**\u001b[0m\u001b[0moverrides\u001b[0m\u001b[0;34m)\u001b[0m\u001b[0;34m\u001b[0m\u001b[0;34m\u001b[0m\u001b[0m\n\u001b[0;32m--> 175\u001b[0;31m     \u001b[0;32mraise\u001b[0m \u001b[0mIOError\u001b[0m\u001b[0;34m(\u001b[0m\u001b[0mErrors\u001b[0m\u001b[0;34m.\u001b[0m\u001b[0mE050\u001b[0m\u001b[0;34m.\u001b[0m\u001b[0mformat\u001b[0m\u001b[0;34m(\u001b[0m\u001b[0mname\u001b[0m\u001b[0;34m=\u001b[0m\u001b[0mname\u001b[0m\u001b[0;34m)\u001b[0m\u001b[0;34m)\u001b[0m\u001b[0;34m\u001b[0m\u001b[0;34m\u001b[0m\u001b[0m\n\u001b[0m\u001b[1;32m    176\u001b[0m \u001b[0;34m\u001b[0m\u001b[0m\n\u001b[1;32m    177\u001b[0m \u001b[0;34m\u001b[0m\u001b[0m\n",
      "\u001b[0;31mOSError\u001b[0m: [E050] Can't find model 'en_core_web_sm'. It doesn't seem to be a shortcut link, a Python package or a valid path to a data directory."
     ]
    }
   ],
   "source": [
    "import os\n",
    "import spacy\n",
    "import pandas as pd\n",
    "import matplotlib.pyplot as plt\n",
    "\n",
    "# Initialize spaCy by creating a spaCy object\n",
    "nlp = spacy.load(\"en_core_web_sm\")\n",
    "\n",
    "# Initializing spacytextblob and adding it to the pipeline\n",
    "from spacytextblob.spacytextblob import SpacyTextBlob\n",
    "spacy_text_blob = SpacyTextBlob()\n",
    "nlp.add_pipe(spacy_text_blob)"
   ]
  },
  {
   "cell_type": "code",
   "execution_count": 2,
   "metadata": {
    "scrolled": false
   },
   "outputs": [
    {
     "data": {
      "text/plain": [
       "spacy.lang.en.English"
      ]
     },
     "execution_count": 2,
     "metadata": {},
     "output_type": "execute_result"
    }
   ],
   "source": [
    "type(nlp)"
   ]
  },
  {
   "cell_type": "markdown",
   "metadata": {},
   "source": [
    "What we did last week:"
   ]
  },
  {
   "cell_type": "code",
   "execution_count": 3,
   "metadata": {},
   "outputs": [],
   "source": [
    "# Create example string\n",
    "example = \"This is a sentence written in English\""
   ]
  },
  {
   "cell_type": "code",
   "execution_count": 4,
   "metadata": {},
   "outputs": [],
   "source": [
    "# Creating a doc with nlp object\n",
    "doc = nlp(example)"
   ]
  },
  {
   "cell_type": "code",
   "execution_count": 5,
   "metadata": {
    "scrolled": true
   },
   "outputs": [
    {
     "name": "stdout",
     "output_type": "stream",
     "text": [
      "This DET DT this\n",
      "is AUX VBZ be\n",
      "a DET DT a\n",
      "sentence NOUN NN sentence\n",
      "written VERB VBN write\n",
      "in ADP IN in\n",
      "English PROPN NNP English\n"
     ]
    }
   ],
   "source": [
    "# Iterate through the doc \n",
    "for token in doc:\n",
    "    print(token.text, token.pos_, token.tag_, token.lemma_)"
   ]
  },
  {
   "cell_type": "markdown",
   "metadata": {},
   "source": [
    "__Reading data with `pandas`__"
   ]
  },
  {
   "cell_type": "markdown",
   "metadata": {},
   "source": [
    "When we create a doc with the nlp-object and the dataset is very large, it becomes very computationally intensive because of the immensive amount of iterations it has to do.\n",
    "We can instead tell spacy to bundle together and we can do tis with pandas."
   ]
  },
  {
   "cell_type": "markdown",
   "metadata": {},
   "source": [
    "pandas can bundle up functionality to single methods, which makes it easier to work with csv-files. Pandas is a dataframe library for Python, and it is becoming one of the default tools for python data analysis. It is similar to the `tidyverse`package for R. \n",
    "With pandas we can mix different data types which is nice."
   ]
  },
  {
   "cell_type": "code",
   "execution_count": 6,
   "metadata": {},
   "outputs": [],
   "source": [
    "# Import data with pandas\n",
    "in_file = os.path.join(\"..\", \"data\", \"labelled_data\", \"fake_or_real_news.csv\")"
   ]
  },
  {
   "cell_type": "code",
   "execution_count": 7,
   "metadata": {},
   "outputs": [],
   "source": [
    "# Create a dataframe\n",
    "data = pd.read_csv(in_file)"
   ]
  },
  {
   "cell_type": "code",
   "execution_count": 8,
   "metadata": {
    "scrolled": true
   },
   "outputs": [
    {
     "data": {
      "text/html": [
       "<div>\n",
       "<style scoped>\n",
       "    .dataframe tbody tr th:only-of-type {\n",
       "        vertical-align: middle;\n",
       "    }\n",
       "\n",
       "    .dataframe tbody tr th {\n",
       "        vertical-align: top;\n",
       "    }\n",
       "\n",
       "    .dataframe thead th {\n",
       "        text-align: right;\n",
       "    }\n",
       "</style>\n",
       "<table border=\"1\" class=\"dataframe\">\n",
       "  <thead>\n",
       "    <tr style=\"text-align: right;\">\n",
       "      <th></th>\n",
       "      <th>Unnamed: 0</th>\n",
       "      <th>title</th>\n",
       "      <th>text</th>\n",
       "      <th>label</th>\n",
       "    </tr>\n",
       "  </thead>\n",
       "  <tbody>\n",
       "    <tr>\n",
       "      <th>3905</th>\n",
       "      <td>10384</td>\n",
       "      <td>Nigel Farage held at Heathrow on return from T...</td>\n",
       "      <td>Monday 14 November 2016 by Benedict Farkerhaus...</td>\n",
       "      <td>FAKE</td>\n",
       "    </tr>\n",
       "    <tr>\n",
       "      <th>2306</th>\n",
       "      <td>223</td>\n",
       "      <td>Paul Ryan, a highway bill, and the political v...</td>\n",
       "      <td>A long-term highway bill, passed by the House ...</td>\n",
       "      <td>REAL</td>\n",
       "    </tr>\n",
       "    <tr>\n",
       "      <th>440</th>\n",
       "      <td>4359</td>\n",
       "      <td>Obama seeks global climate pact in Paris, amid...</td>\n",
       "      <td>President Obama set out Monday to help seal a ...</td>\n",
       "      <td>REAL</td>\n",
       "    </tr>\n",
       "    <tr>\n",
       "      <th>4763</th>\n",
       "      <td>4733</td>\n",
       "      <td>5 Questions That Now Loom Over Tonight's Debate</td>\n",
       "      <td>5 Questions That Now Loom Over Tonight's Debat...</td>\n",
       "      <td>REAL</td>\n",
       "    </tr>\n",
       "    <tr>\n",
       "      <th>420</th>\n",
       "      <td>317</td>\n",
       "      <td>'Blue and Brave': Illinois town rallies around...</td>\n",
       "      <td>Dozens of police officers searched without suc...</td>\n",
       "      <td>REAL</td>\n",
       "    </tr>\n",
       "    <tr>\n",
       "      <th>4345</th>\n",
       "      <td>3752</td>\n",
       "      <td>Baltimore prosecutor charges police with murde...</td>\n",
       "      <td>One Baltimore police officer was charged Frida...</td>\n",
       "      <td>REAL</td>\n",
       "    </tr>\n",
       "    <tr>\n",
       "      <th>688</th>\n",
       "      <td>9102</td>\n",
       "      <td>A guide to the Paradoxroutine</td>\n",
       "      <td>A guide to the Paradoxroutine page: 1 Hah I'm ...</td>\n",
       "      <td>FAKE</td>\n",
       "    </tr>\n",
       "    <tr>\n",
       "      <th>5596</th>\n",
       "      <td>2694</td>\n",
       "      <td>Bernie Sanders vs. the Lamestream Media</td>\n",
       "      <td>Tuesday’s first-of-the-season Democratic debat...</td>\n",
       "      <td>REAL</td>\n",
       "    </tr>\n",
       "    <tr>\n",
       "      <th>4682</th>\n",
       "      <td>1581</td>\n",
       "      <td>Clinton’s 2016 makeover the latest in long lin...</td>\n",
       "      <td>Another campaign, another reset for Hillary Cl...</td>\n",
       "      <td>REAL</td>\n",
       "    </tr>\n",
       "    <tr>\n",
       "      <th>1454</th>\n",
       "      <td>8366</td>\n",
       "      <td>Badass Patriot Has MASSIVE Surprise For Thieve...</td>\n",
       "      <td>Badass Patriot Has MASSIVE Surprise For Thieve...</td>\n",
       "      <td>FAKE</td>\n",
       "    </tr>\n",
       "    <tr>\n",
       "      <th>1668</th>\n",
       "      <td>224</td>\n",
       "      <td>Ryan flexes muscles in Ways and Means showdown</td>\n",
       "      <td>Top Dems want White House to call off Part B d...</td>\n",
       "      <td>REAL</td>\n",
       "    </tr>\n",
       "    <tr>\n",
       "      <th>1334</th>\n",
       "      <td>3981</td>\n",
       "      <td>21 dead at Radison Blu hotel in Mali</td>\n",
       "      <td>(CNN) Heavily armed gunmen on Friday fired ind...</td>\n",
       "      <td>REAL</td>\n",
       "    </tr>\n",
       "    <tr>\n",
       "      <th>4172</th>\n",
       "      <td>8166</td>\n",
       "      <td>Politicians, NATO Officials Furious as Spain P...</td>\n",
       "      <td>Politicians, NATO Officials Furious as Spain P...</td>\n",
       "      <td>FAKE</td>\n",
       "    </tr>\n",
       "    <tr>\n",
       "      <th>2455</th>\n",
       "      <td>7735</td>\n",
       "      <td>Even Democratic Voters Don’t Trust Hillary</td>\n",
       "      <td>\\n \\n\\n \\nEven the Democrats don’t trust Hilla...</td>\n",
       "      <td>FAKE</td>\n",
       "    </tr>\n",
       "    <tr>\n",
       "      <th>2483</th>\n",
       "      <td>2106</td>\n",
       "      <td>Two°: readers pick story on meat and climate c...</td>\n",
       "      <td>CNN columnist John D. Sutter is reporting on a...</td>\n",
       "      <td>REAL</td>\n",
       "    </tr>\n",
       "    <tr>\n",
       "      <th>157</th>\n",
       "      <td>1329</td>\n",
       "      <td>How Clinton plans to stop Sanders' momentum</td>\n",
       "      <td>Killing Obama administration rules, dismantlin...</td>\n",
       "      <td>REAL</td>\n",
       "    </tr>\n",
       "    <tr>\n",
       "      <th>2643</th>\n",
       "      <td>1810</td>\n",
       "      <td>Exodus from Puerto Rico could upend Florida vo...</td>\n",
       "      <td>Puerto Rico’s economic crisis meant Jeffrey Ro...</td>\n",
       "      <td>REAL</td>\n",
       "    </tr>\n",
       "    <tr>\n",
       "      <th>5299</th>\n",
       "      <td>1412</td>\n",
       "      <td>Donald Trump throws a grand old party</td>\n",
       "      <td>Des Moines, Iowa (CNN) No one ever really doub...</td>\n",
       "      <td>REAL</td>\n",
       "    </tr>\n",
       "    <tr>\n",
       "      <th>4034</th>\n",
       "      <td>6388</td>\n",
       "      <td>War on the Streets of Paris: Armed Migrants Fi...</td>\n",
       "      <td>War on the Streets of Paris: Armed Migrants Fi...</td>\n",
       "      <td>FAKE</td>\n",
       "    </tr>\n",
       "    <tr>\n",
       "      <th>1759</th>\n",
       "      <td>6315</td>\n",
       "      <td>New French Law Makes It Illegal To Contact Emp...</td>\n",
       "      <td>By Amanda Froelich at trueactivist.com\\nThe ne...</td>\n",
       "      <td>FAKE</td>\n",
       "    </tr>\n",
       "  </tbody>\n",
       "</table>\n",
       "</div>"
      ],
      "text/plain": [
       "      Unnamed: 0                                              title  \\\n",
       "3905       10384  Nigel Farage held at Heathrow on return from T...   \n",
       "2306         223  Paul Ryan, a highway bill, and the political v...   \n",
       "440         4359  Obama seeks global climate pact in Paris, amid...   \n",
       "4763        4733    5 Questions That Now Loom Over Tonight's Debate   \n",
       "420          317  'Blue and Brave': Illinois town rallies around...   \n",
       "4345        3752  Baltimore prosecutor charges police with murde...   \n",
       "688         9102                      A guide to the Paradoxroutine   \n",
       "5596        2694            Bernie Sanders vs. the Lamestream Media   \n",
       "4682        1581  Clinton’s 2016 makeover the latest in long lin...   \n",
       "1454        8366  Badass Patriot Has MASSIVE Surprise For Thieve...   \n",
       "1668         224     Ryan flexes muscles in Ways and Means showdown   \n",
       "1334        3981               21 dead at Radison Blu hotel in Mali   \n",
       "4172        8166  Politicians, NATO Officials Furious as Spain P...   \n",
       "2455        7735         Even Democratic Voters Don’t Trust Hillary   \n",
       "2483        2106  Two°: readers pick story on meat and climate c...   \n",
       "157         1329        How Clinton plans to stop Sanders' momentum   \n",
       "2643        1810  Exodus from Puerto Rico could upend Florida vo...   \n",
       "5299        1412              Donald Trump throws a grand old party   \n",
       "4034        6388  War on the Streets of Paris: Armed Migrants Fi...   \n",
       "1759        6315  New French Law Makes It Illegal To Contact Emp...   \n",
       "\n",
       "                                                   text label  \n",
       "3905  Monday 14 November 2016 by Benedict Farkerhaus...  FAKE  \n",
       "2306  A long-term highway bill, passed by the House ...  REAL  \n",
       "440   President Obama set out Monday to help seal a ...  REAL  \n",
       "4763  5 Questions That Now Loom Over Tonight's Debat...  REAL  \n",
       "420   Dozens of police officers searched without suc...  REAL  \n",
       "4345  One Baltimore police officer was charged Frida...  REAL  \n",
       "688   A guide to the Paradoxroutine page: 1 Hah I'm ...  FAKE  \n",
       "5596  Tuesday’s first-of-the-season Democratic debat...  REAL  \n",
       "4682  Another campaign, another reset for Hillary Cl...  REAL  \n",
       "1454  Badass Patriot Has MASSIVE Surprise For Thieve...  FAKE  \n",
       "1668  Top Dems want White House to call off Part B d...  REAL  \n",
       "1334  (CNN) Heavily armed gunmen on Friday fired ind...  REAL  \n",
       "4172  Politicians, NATO Officials Furious as Spain P...  FAKE  \n",
       "2455  \\n \\n\\n \\nEven the Democrats don’t trust Hilla...  FAKE  \n",
       "2483  CNN columnist John D. Sutter is reporting on a...  REAL  \n",
       "157   Killing Obama administration rules, dismantlin...  REAL  \n",
       "2643  Puerto Rico’s economic crisis meant Jeffrey Ro...  REAL  \n",
       "5299  Des Moines, Iowa (CNN) No one ever really doub...  REAL  \n",
       "4034  War on the Streets of Paris: Armed Migrants Fi...  FAKE  \n",
       "1759  By Amanda Froelich at trueactivist.com\\nThe ne...  FAKE  "
      ]
     },
     "execution_count": 8,
     "metadata": {},
     "output_type": "execute_result"
    }
   ],
   "source": [
    "# Taking a random sample of the data\n",
    "data.sample(20)\n",
    "# sample() uses a random number generator to take a sample from the data"
   ]
  },
  {
   "cell_type": "code",
   "execution_count": 9,
   "metadata": {},
   "outputs": [],
   "source": [
    "# Remove the column \"unnamed: 0\" \n",
    "del data[\"Unnamed: 0\"]"
   ]
  },
  {
   "cell_type": "code",
   "execution_count": 10,
   "metadata": {
    "scrolled": true
   },
   "outputs": [
    {
     "data": {
      "text/html": [
       "<div>\n",
       "<style scoped>\n",
       "    .dataframe tbody tr th:only-of-type {\n",
       "        vertical-align: middle;\n",
       "    }\n",
       "\n",
       "    .dataframe tbody tr th {\n",
       "        vertical-align: top;\n",
       "    }\n",
       "\n",
       "    .dataframe thead th {\n",
       "        text-align: right;\n",
       "    }\n",
       "</style>\n",
       "<table border=\"1\" class=\"dataframe\">\n",
       "  <thead>\n",
       "    <tr style=\"text-align: right;\">\n",
       "      <th></th>\n",
       "      <th>title</th>\n",
       "      <th>text</th>\n",
       "      <th>label</th>\n",
       "    </tr>\n",
       "  </thead>\n",
       "  <tbody>\n",
       "    <tr>\n",
       "      <th>1376</th>\n",
       "      <td>Cahill vs. Kalma Debut Album Out Now!</td>\n",
       "      <td>We Are Change \\n\\nThe debut album by Cahill vs...</td>\n",
       "      <td>FAKE</td>\n",
       "    </tr>\n",
       "    <tr>\n",
       "      <th>3197</th>\n",
       "      <td>DOJ: Guardsman, cousin charged with supporting...</td>\n",
       "      <td>WASHINGTON -- An Illinois Army guardsman and h...</td>\n",
       "      <td>REAL</td>\n",
       "    </tr>\n",
       "    <tr>\n",
       "      <th>3503</th>\n",
       "      <td>PIERS MORGAN: “Get Off Your High Horse, Hillar...</td>\n",
       "      <td>Breaking News PIERS MORGAN: “Get Off Your High...</td>\n",
       "      <td>FAKE</td>\n",
       "    </tr>\n",
       "    <tr>\n",
       "      <th>2715</th>\n",
       "      <td>Refusal to Acknowledge Uniqueness of Holocaust...</td>\n",
       "      <td>Diversity Macht Frei October 27, 2016 \\nThe Je...</td>\n",
       "      <td>FAKE</td>\n",
       "    </tr>\n",
       "    <tr>\n",
       "      <th>5466</th>\n",
       "      <td>Fox News built a f**ked-up Frankenstein, dumb,...</td>\n",
       "      <td>Donald Trump is practically a mirror image of ...</td>\n",
       "      <td>REAL</td>\n",
       "    </tr>\n",
       "  </tbody>\n",
       "</table>\n",
       "</div>"
      ],
      "text/plain": [
       "                                                  title  \\\n",
       "1376              Cahill vs. Kalma Debut Album Out Now!   \n",
       "3197  DOJ: Guardsman, cousin charged with supporting...   \n",
       "3503  PIERS MORGAN: “Get Off Your High Horse, Hillar...   \n",
       "2715  Refusal to Acknowledge Uniqueness of Holocaust...   \n",
       "5466  Fox News built a f**ked-up Frankenstein, dumb,...   \n",
       "\n",
       "                                                   text label  \n",
       "1376  We Are Change \\n\\nThe debut album by Cahill vs...  FAKE  \n",
       "3197  WASHINGTON -- An Illinois Army guardsman and h...  REAL  \n",
       "3503  Breaking News PIERS MORGAN: “Get Off Your High...  FAKE  \n",
       "2715  Diversity Macht Frei October 27, 2016 \\nThe Je...  FAKE  \n",
       "5466  Donald Trump is practically a mirror image of ...  REAL  "
      ]
     },
     "execution_count": 10,
     "metadata": {},
     "output_type": "execute_result"
    }
   ],
   "source": [
    "data.sample(5)\n",
    "# Now the column is gone"
   ]
  },
  {
   "cell_type": "markdown",
   "metadata": {},
   "source": [
    "With pandas we can finding the distribution of labels:"
   ]
  },
  {
   "cell_type": "code",
   "execution_count": 11,
   "metadata": {
    "scrolled": false
   },
   "outputs": [
    {
     "data": {
      "text/plain": [
       "REAL    3171\n",
       "FAKE    3164\n",
       "Name: label, dtype: int64"
      ]
     },
     "execution_count": 11,
     "metadata": {},
     "output_type": "execute_result"
    }
   ],
   "source": [
    "# Get a count for each value\n",
    "data[\"label\"].value_counts()"
   ]
  },
  {
   "cell_type": "markdown",
   "metadata": {},
   "source": [
    "__Filter on columns__"
   ]
  },
  {
   "cell_type": "code",
   "execution_count": 12,
   "metadata": {
    "scrolled": true
   },
   "outputs": [
    {
     "data": {
      "text/plain": [
       "0        True\n",
       "1        True\n",
       "2       False\n",
       "3        True\n",
       "4       False\n",
       "        ...  \n",
       "6330    False\n",
       "6331     True\n",
       "6332     True\n",
       "6333    False\n",
       "6334    False\n",
       "Name: label, Length: 6335, dtype: bool"
      ]
     },
     "execution_count": 12,
     "metadata": {},
     "output_type": "execute_result"
    }
   ],
   "source": [
    "# Separate real and fake news by filtering on columns\n",
    "# We want to know whether the label is fake or real\n",
    "data[\"label\"]==\"FAKE\"\n",
    "# We get a true/false "
   ]
  },
  {
   "cell_type": "code",
   "execution_count": 13,
   "metadata": {},
   "outputs": [
    {
     "data": {
      "text/plain": [
       "0        True\n",
       "1        True\n",
       "2       False\n",
       "3        True\n",
       "4       False\n",
       "        ...  \n",
       "6330    False\n",
       "6331     True\n",
       "6332     True\n",
       "6333    False\n",
       "6334    False\n",
       "Name: label, Length: 6335, dtype: bool"
      ]
     },
     "execution_count": 13,
     "metadata": {},
     "output_type": "execute_result"
    }
   ],
   "source": [
    "data[\"label\"]==\"FAKE\""
   ]
  },
  {
   "cell_type": "code",
   "execution_count": 14,
   "metadata": {},
   "outputs": [],
   "source": [
    "# Construct a new dataset based on the above\n",
    "# From original data only gives us the fake/real data\n",
    "fake_news_df = data[data[\"label\"]==\"FAKE\"]\n",
    "real_news_df = data[data[\"label\"]==\"REAL\"]"
   ]
  },
  {
   "cell_type": "code",
   "execution_count": 15,
   "metadata": {
    "scrolled": true
   },
   "outputs": [
    {
     "data": {
      "text/html": [
       "<div>\n",
       "<style scoped>\n",
       "    .dataframe tbody tr th:only-of-type {\n",
       "        vertical-align: middle;\n",
       "    }\n",
       "\n",
       "    .dataframe tbody tr th {\n",
       "        vertical-align: top;\n",
       "    }\n",
       "\n",
       "    .dataframe thead th {\n",
       "        text-align: right;\n",
       "    }\n",
       "</style>\n",
       "<table border=\"1\" class=\"dataframe\">\n",
       "  <thead>\n",
       "    <tr style=\"text-align: right;\">\n",
       "      <th></th>\n",
       "      <th>title</th>\n",
       "      <th>text</th>\n",
       "      <th>label</th>\n",
       "    </tr>\n",
       "  </thead>\n",
       "  <tbody>\n",
       "    <tr>\n",
       "      <th>5270</th>\n",
       "      <td>Exploding E-Cigarette Engulfs Man in Flames on...</td>\n",
       "      <td>posted by Eddie More evidence has emerged that...</td>\n",
       "      <td>FAKE</td>\n",
       "    </tr>\n",
       "    <tr>\n",
       "      <th>3306</th>\n",
       "      <td>Kind Samaritan Pays Off All Overdue Lunch Fees...</td>\n",
       "      <td>It’s difficult to comprehend, but an estimated...</td>\n",
       "      <td>FAKE</td>\n",
       "    </tr>\n",
       "    <tr>\n",
       "      <th>1892</th>\n",
       "      <td>‘That’s the CRAP young people pay attention to...</td>\n",
       "      <td>‘That’s the CRAP young people pay attention to...</td>\n",
       "      <td>FAKE</td>\n",
       "    </tr>\n",
       "    <tr>\n",
       "      <th>3350</th>\n",
       "      <td>Thomas Frank Explores Whether Hillary Clinton ...</td>\n",
       "      <td></td>\n",
       "      <td>FAKE</td>\n",
       "    </tr>\n",
       "    <tr>\n",
       "      <th>521</th>\n",
       "      <td>Election 2016 and the Weaponization of the Ame...</td>\n",
       "      <td>Waking Times \\nWith the election behind us, an...</td>\n",
       "      <td>FAKE</td>\n",
       "    </tr>\n",
       "    <tr>\n",
       "      <th>999</th>\n",
       "      <td>Climate Engineering And Cryosphere Collapse</td>\n",
       "      <td>geoengineeringwatch.org \\nGlobal climate engin...</td>\n",
       "      <td>FAKE</td>\n",
       "    </tr>\n",
       "    <tr>\n",
       "      <th>3936</th>\n",
       "      <td>The Top 100 WikiLeaks That Should Destroy Hill...</td>\n",
       "      <td>BOMBSHELL AUDIO: Hillary Clinton Herself Recor...</td>\n",
       "      <td>FAKE</td>\n",
       "    </tr>\n",
       "    <tr>\n",
       "      <th>264</th>\n",
       "      <td>Buchanan Smashes CNN Shill</td>\n",
       "      <td>October 27, 2016 \\nI don't think it's possible...</td>\n",
       "      <td>FAKE</td>\n",
       "    </tr>\n",
       "    <tr>\n",
       "      <th>5056</th>\n",
       "      <td>Democratic decay</td>\n",
       "      <td>FBI reopens Hillary investigation – with evide...</td>\n",
       "      <td>FAKE</td>\n",
       "    </tr>\n",
       "    <tr>\n",
       "      <th>2610</th>\n",
       "      <td>Police Investigate Fraud after Voter Registrat...</td>\n",
       "      <td>Police Investigate Fraud after Voter Registrat...</td>\n",
       "      <td>FAKE</td>\n",
       "    </tr>\n",
       "  </tbody>\n",
       "</table>\n",
       "</div>"
      ],
      "text/plain": [
       "                                                  title  \\\n",
       "5270  Exploding E-Cigarette Engulfs Man in Flames on...   \n",
       "3306  Kind Samaritan Pays Off All Overdue Lunch Fees...   \n",
       "1892  ‘That’s the CRAP young people pay attention to...   \n",
       "3350  Thomas Frank Explores Whether Hillary Clinton ...   \n",
       "521   Election 2016 and the Weaponization of the Ame...   \n",
       "999         Climate Engineering And Cryosphere Collapse   \n",
       "3936  The Top 100 WikiLeaks That Should Destroy Hill...   \n",
       "264                          Buchanan Smashes CNN Shill   \n",
       "5056                                   Democratic decay   \n",
       "2610  Police Investigate Fraud after Voter Registrat...   \n",
       "\n",
       "                                                   text label  \n",
       "5270  posted by Eddie More evidence has emerged that...  FAKE  \n",
       "3306  It’s difficult to comprehend, but an estimated...  FAKE  \n",
       "1892  ‘That’s the CRAP young people pay attention to...  FAKE  \n",
       "3350                                                     FAKE  \n",
       "521   Waking Times \\nWith the election behind us, an...  FAKE  \n",
       "999   geoengineeringwatch.org \\nGlobal climate engin...  FAKE  \n",
       "3936  BOMBSHELL AUDIO: Hillary Clinton Herself Recor...  FAKE  \n",
       "264   October 27, 2016 \\nI don't think it's possible...  FAKE  \n",
       "5056  FBI reopens Hillary investigation – with evide...  FAKE  \n",
       "2610  Police Investigate Fraud after Voter Registrat...  FAKE  "
      ]
     },
     "execution_count": 15,
     "metadata": {},
     "output_type": "execute_result"
    }
   ],
   "source": [
    "# Take a sample\n",
    "fake_news_df.sample(10)\n",
    "# Now we only have fake news"
   ]
  },
  {
   "cell_type": "code",
   "execution_count": 16,
   "metadata": {
    "scrolled": true
   },
   "outputs": [
    {
     "data": {
      "text/plain": [
       "FAKE    3164\n",
       "Name: label, dtype: int64"
      ]
     },
     "execution_count": 16,
     "metadata": {},
     "output_type": "execute_result"
    }
   ],
   "source": [
    "fake_news_df[\"label\"].value_counts()"
   ]
  },
  {
   "cell_type": "code",
   "execution_count": 17,
   "metadata": {
    "scrolled": true
   },
   "outputs": [
    {
     "data": {
      "text/plain": [
       "REAL    3171\n",
       "Name: label, dtype: int64"
      ]
     },
     "execution_count": 17,
     "metadata": {},
     "output_type": "execute_result"
    }
   ],
   "source": [
    "# Do the same for real\n",
    "real_news_df.sample(10)\n",
    "real_news_df[\"label\"].value_counts()"
   ]
  },
  {
   "cell_type": "markdown",
   "metadata": {},
   "source": [
    "__Counting features in data__"
   ]
  },
  {
   "cell_type": "markdown",
   "metadata": {},
   "source": [
    "How counters work:"
   ]
  },
  {
   "cell_type": "code",
   "execution_count": 18,
   "metadata": {},
   "outputs": [],
   "source": [
    "counter = 0\n",
    "test_list = range(0,100)\n",
    "\n",
    "# Go through the test list and add 1 to the counter for each adjective\n",
    "for entry in test_list:\n",
    "    counter += entry"
   ]
  },
  {
   "cell_type": "markdown",
   "metadata": {},
   "source": [
    "Applying it to fake news titles:"
   ]
  },
  {
   "cell_type": "code",
   "execution_count": 1,
   "metadata": {},
   "outputs": [
    {
     "ename": "NameError",
     "evalue": "name 'nlp' is not defined",
     "output_type": "error",
     "traceback": [
      "\u001b[0;31m---------------------------------------------------------------------------\u001b[0m",
      "\u001b[0;31mNameError\u001b[0m                                 Traceback (most recent call last)",
      "\u001b[0;32m<ipython-input-1-596fa5e0b87f>\u001b[0m in \u001b[0;36m<module>\u001b[0;34m\u001b[0m\n\u001b[1;32m      9\u001b[0m \u001b[0;31m# For every doc in the pipe we want to find the number of adjectives\u001b[0m\u001b[0;34m\u001b[0m\u001b[0;34m\u001b[0m\u001b[0;34m\u001b[0m\u001b[0m\n\u001b[1;32m     10\u001b[0m \u001b[0;31m# The batch size is the number of entries in the dataframe that are being processed at a time - hence, we have 500 entries that are processed at once\u001b[0m\u001b[0;34m\u001b[0m\u001b[0;34m\u001b[0m\u001b[0;34m\u001b[0m\u001b[0m\n\u001b[0;32m---> 11\u001b[0;31m \u001b[0;32mfor\u001b[0m \u001b[0mdoc\u001b[0m \u001b[0;32min\u001b[0m \u001b[0mnlp\u001b[0m\u001b[0;34m.\u001b[0m\u001b[0mpipe\u001b[0m\u001b[0;34m(\u001b[0m\u001b[0mfake_news_df\u001b[0m\u001b[0;34m[\u001b[0m\u001b[0;34m\"title\"\u001b[0m\u001b[0;34m]\u001b[0m\u001b[0;34m,\u001b[0m \u001b[0mbatch_size\u001b[0m \u001b[0;34m=\u001b[0m \u001b[0;36m500\u001b[0m\u001b[0;34m)\u001b[0m\u001b[0;34m:\u001b[0m\u001b[0;34m\u001b[0m\u001b[0;34m\u001b[0m\u001b[0m\n\u001b[0m\u001b[1;32m     12\u001b[0m     \u001b[0mprint\u001b[0m\u001b[0;34m(\u001b[0m\u001b[0mdoc\u001b[0m\u001b[0;34m)\u001b[0m\u001b[0;34m\u001b[0m\u001b[0;34m\u001b[0m\u001b[0m\n\u001b[1;32m     13\u001b[0m     \u001b[0;31m# Going through each token in each doc\u001b[0m\u001b[0;34m\u001b[0m\u001b[0;34m\u001b[0m\u001b[0;34m\u001b[0m\u001b[0m\n",
      "\u001b[0;31mNameError\u001b[0m: name 'nlp' is not defined"
     ]
    }
   ],
   "source": [
    "# Now we want to know how many times do adjectives appear in the headlines?\n",
    "# Create adjective counters\n",
    "adj_count = 0\n",
    "\n",
    "# We want to process the data efficiently by going through it in batches which is something spaCy is good at\n",
    "# Process the text titles in a batch\n",
    "# We make a pipeline that we can feed data\n",
    "# We process 500 at a time (this is the batch)\n",
    "# For every doc in the pipe we want to find the number of adjectives\n",
    "# The batch size is the number of entries in the dataframe that are being processed at a time - hence, we have 500 entries that are processed at once\n",
    "for doc in nlp.pipe(fake_news_df[\"title\"], batch_size = 500):\n",
    "    print(doc)\n",
    "    # Going through each token in each doc \n",
    "    for token in doc:\n",
    "        # For every adjective (JJ)\n",
    "        if token.tag_ == \"JJ\":\n",
    "            # We add 1 to the adj_count for every adjective we encoutner\n",
    "            adj_count += 1\n",
    "            \n",
    "# When we print adj_count we will see how many adjectives occur in the titles of the fake news"
   ]
  },
  {
   "cell_type": "markdown",
   "metadata": {},
   "source": [
    "Why use batches?\n",
    "\n",
    "Because it is more efficient. Instead of processing one at a time, we can process an entire batch at once. The batch size determines how many entries are processed at once."
   ]
  },
  {
   "cell_type": "code",
   "execution_count": 20,
   "metadata": {},
   "outputs": [
    {
     "name": "stdout",
     "output_type": "stream",
     "text": [
      "1794\n"
     ]
    }
   ],
   "source": [
    "print(adj_count)\n",
    "# There are 1472 adjectives in the titles in the fake news"
   ]
  },
  {
   "cell_type": "markdown",
   "metadata": {},
   "source": [
    "## Sentiment with `spaCy`"
   ]
  },
  {
   "cell_type": "code",
   "execution_count": 21,
   "metadata": {},
   "outputs": [],
   "source": [
    "text_file = os.path.join(\"..\", \"data\", \"100_english_novels\", \"corpus\", \"Woolf_Lighthouse_1927.txt\")"
   ]
  },
  {
   "cell_type": "code",
   "execution_count": 22,
   "metadata": {},
   "outputs": [],
   "source": [
    "with open(text_file, \"r\", encoding = \"utf-8\") as file:\n",
    "    text = file.read()"
   ]
  },
  {
   "cell_type": "code",
   "execution_count": 23,
   "metadata": {
    "scrolled": true
   },
   "outputs": [
    {
     "name": "stdout",
     "output_type": "stream",
     "text": [
      "﻿To the Lighthouse\n",
      "\n",
      "\n",
      "THE WINDOW\n",
      "\n",
      "\n",
      "1\n",
      "\n",
      "\n",
      "\"Yes, of course, if it's fine tomorrow,\" said Mrs. Ramsay. \"But you'll\n",
      "have to be up with the lark,\" she added.\n",
      "\n",
      "To her son these words conveyed an extraordinary joy, as if it were\n",
      "settled, the expedition were bound to take place, and the wonder to which\n",
      "he had looked forward, for years and years it seemed, was, after a night's\n",
      "darkness and a day's sail, within touch. Since he belonged, even at the\n",
      "age of six, to that great clan which cannot keep this feeling separate\n",
      "from that, but must let future prospects, with their joys and sorrows,\n",
      "cloud what is actually at hand, since to such people even in earliest\n",
      "childhood any turn in the wheel of sensation has the power to crystallise\n",
      "and transfix the moment upon which its gloom or radiance rests, James\n",
      "Ramsay, sitting on the floor cutting out pictures from the illustrated\n",
      "catalogue of the Army and Navy stores, endowed the picture of a\n",
      "refrigerator, as his mother spoke, with heavenly bliss. It was fringe\n"
     ]
    }
   ],
   "source": [
    "print(text[:1000])"
   ]
  },
  {
   "cell_type": "code",
   "execution_count": 24,
   "metadata": {},
   "outputs": [],
   "source": [
    "doc = nlp(text)"
   ]
  },
  {
   "cell_type": "markdown",
   "metadata": {},
   "source": [
    "Because the above takes a long time, we can split the text up into chunks separated by new lines (paragraph chunks) "
   ]
  },
  {
   "cell_type": "code",
   "execution_count": 25,
   "metadata": {},
   "outputs": [],
   "source": [
    "# Create empty list that we can later append to\n",
    "polarity = []\n",
    "\n",
    "for sentence in doc.sents:\n",
    "    # Get sentiment score\n",
    "    score = sentence._.sentiment.polarity\n",
    "    # Append to list\n",
    "    polarity.append(score)"
   ]
  },
  {
   "cell_type": "code",
   "execution_count": 26,
   "metadata": {
    "scrolled": true
   },
   "outputs": [
    {
     "data": {
      "text/plain": [
       "[0.0,\n",
       " 0.0,\n",
       " 0.4166666666666667,\n",
       " 0.0,\n",
       " 0.5666666666666667,\n",
       " 0.4,\n",
       " -0.18333333333333332,\n",
       " 0.8,\n",
       " 0.4,\n",
       " 0.0006926406926406867]"
      ]
     },
     "execution_count": 26,
     "metadata": {},
     "output_type": "execute_result"
    }
   ],
   "source": [
    "# Look at the sentiment score for the first 10 entries\n",
    "polarity[:10]"
   ]
  },
  {
   "cell_type": "markdown",
   "metadata": {},
   "source": [
    "Plotting using matplotlib:"
   ]
  },
  {
   "cell_type": "code",
   "execution_count": 27,
   "metadata": {
    "scrolled": false
   },
   "outputs": [
    {
     "data": {
      "text/plain": [
       "[<matplotlib.lines.Line2D at 0x7f80f105d2b0>]"
      ]
     },
     "execution_count": 27,
     "metadata": {},
     "output_type": "execute_result"
    },
    {
     "data": {
      "image/png": "[encoded data removed]",
      "text/plain": [
       "<Figure size 432x288 with 1 Axes>"
      ]
     },
     "metadata": {
      "needs_background": "light"
     },
     "output_type": "display_data"
    }
   ],
   "source": [
    "plt.plot(polarity)"
   ]
  },
  {
   "cell_type": "markdown",
   "metadata": {},
   "source": [
    "There is a general trend of ups and downs.\n",
    "We want to calculate the average over time (smoothing). We can do this using pandas. Each column in a pandas dataframe is called a \"series\" which is like a list, but it has more methods attached to it (it is more flexible). From the series we can create the average over a particular window which allows us to smooth. A series in pandas is basically just a list. A column in a dataframe is a series. Hence, what we call a column, pandas calls a \"series\". A dataframe in pandas is basically just series grouped together. A series is like a list, but it has its own methods. "
   ]
  },
  {
   "cell_type": "markdown",
   "metadata": {},
   "source": [
    "__Smoothing__"
   ]
  },
  {
   "cell_type": "code",
   "execution_count": 28,
   "metadata": {},
   "outputs": [],
   "source": [
    "# Creating a series based on the polarity list with a window of 500 sentences\n",
    "smoothed_sentiment = pd.Series(polarity).rolling(500).mean()\n",
    "# rolling().mean() is used to calculate a rolling mean over a particular window"
   ]
  },
  {
   "cell_type": "code",
   "execution_count": 29,
   "metadata": {
    "scrolled": true
   },
   "outputs": [
    {
     "data": {
      "text/plain": [
       "[<matplotlib.lines.Line2D at 0x7f80f109cda0>]"
      ]
     },
     "execution_count": 29,
     "metadata": {},
     "output_type": "execute_result"
    },
    {
     "data": {
      "image/png": "[encoded data removed]",
      "text/plain": [
       "<Figure size 432x288 with 1 Axes>"
      ]
     },
     "metadata": {
      "needs_background": "light"
     },
     "output_type": "display_data"
    }
   ],
   "source": [
    "# Plotting the smoothed sentiment\n",
    "plt.plot(smoothed_sentiment)"
   ]
  },
  {
   "cell_type": "markdown",
   "metadata": {},
   "source": [
    "We can see similar ups and downs over time. The average has been smoothed and lies between 0 and 0.08. Hence, with smoothing we have filtered out noise and found a trend-line of sentimetn in the data. Using different window sizes will reveal different granularities in the data. "
   ]
  }
 ],
 "metadata": {
  "kernelspec": {
   "display_name": "lang101",
   "language": "python",
   "name": "lang101"
  },
  "language_info": {
   "codemirror_mode": {
    "name": "ipython",
    "version": 3
   },
   "file_extension": ".py",
   "mimetype": "text/x-python",
   "name": "python",
   "nbconvert_exporter": "python",
   "pygments_lexer": "ipython3",
   "version": "3.6.9"
  }
 },
 "nbformat": 4,
 "nbformat_minor": 4
}
