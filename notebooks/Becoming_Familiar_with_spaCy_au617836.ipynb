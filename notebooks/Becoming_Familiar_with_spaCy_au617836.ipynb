{
 "cells": [
  {
   "cell_type": "markdown",
   "metadata": {},
   "source": [
    "## Becoming Familiar with spaCy\n",
    "\n",
    "Become familiar with spaCy and how to create and iterate over Doc objects. <br> \n",
    "Here are some general things to think about: <br>\n",
    "1. Does spaCy scale easily? How would one iterate over multiple texts?\n",
    "2. If you have experience with another language, download and experiment with different language models. Does spaCy offer the same functionality for all languages?\n",
    "3. Do different language models all perform as well as the English models offered by spaCy?"
   ]
  }
 ],
 "metadata": {
  "kernelspec": {
   "display_name": "lang101",
   "language": "python",
   "name": "lang101"
  },
  "language_info": {
   "codemirror_mode": {
    "name": "ipython",
    "version": 3
   },
   "file_extension": ".py",
   "mimetype": "text/x-python",
   "name": "python",
   "nbconvert_exporter": "python",
   "pygments_lexer": "ipython3",
   "version": "3.6.9"
  }
 },
 "nbformat": 4,
 "nbformat_minor": 4
}
