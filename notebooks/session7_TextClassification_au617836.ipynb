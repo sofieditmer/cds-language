{
 "cells": [
  {
   "cell_type": "markdown",
   "metadata": {},
   "source": [
    "## Import packages\n"
   ]
  },
  {
   "cell_type": "code",
   "execution_count": 29,
   "metadata": {},
   "outputs": [],
   "source": [
    "# system tools\n",
    "import os\n",
    "import sys\n",
    "sys.path.append(os.path.join(\"..\"))\n",
    "\n",
    "# data munging tools\n",
    "import pandas as pd\n",
    "import utils.classifier_utils as clf\n",
    "\n",
    "# Machine learning stuff\n",
    "from sklearn.model_selection import train_test_split\n",
    "from sklearn.feature_extraction.text import CountVectorizer, TfidfVectorizer\n",
    "from sklearn.linear_model import LogisticRegression\n",
    "from sklearn.model_selection import ShuffleSplit\n",
    "from sklearn import metrics\n",
    "\n",
    "# Visualisation\n",
    "import matplotlib.pyplot as plt\n",
    "import seaborn as sns"
   ]
  },
  {
   "cell_type": "markdown",
   "metadata": {},
   "source": [
    "## Reading in the data"
   ]
  },
  {
   "cell_type": "code",
   "execution_count": 30,
   "metadata": {},
   "outputs": [],
   "source": [
    "filename = os.path.join(\"..\", \"data\", \"labelled_data\", \"fake_or_real_news.csv\")\n",
    "\n",
    "DATA = pd.read_csv(filename, index_col=0)"
   ]
  },
  {
   "cell_type": "markdown",
   "metadata": {},
   "source": [
    "__Inspect data__"
   ]
  },
  {
   "cell_type": "code",
   "execution_count": 31,
   "metadata": {},
   "outputs": [
    {
     "data": {
      "text/html": [
       "<div>\n",
       "<style scoped>\n",
       "    .dataframe tbody tr th:only-of-type {\n",
       "        vertical-align: middle;\n",
       "    }\n",
       "\n",
       "    .dataframe tbody tr th {\n",
       "        vertical-align: top;\n",
       "    }\n",
       "\n",
       "    .dataframe thead th {\n",
       "        text-align: right;\n",
       "    }\n",
       "</style>\n",
       "<table border=\"1\" class=\"dataframe\">\n",
       "  <thead>\n",
       "    <tr style=\"text-align: right;\">\n",
       "      <th></th>\n",
       "      <th>title</th>\n",
       "      <th>text</th>\n",
       "      <th>label</th>\n",
       "    </tr>\n",
       "  </thead>\n",
       "  <tbody>\n",
       "    <tr>\n",
       "      <th>5238</th>\n",
       "      <td>Who will Hillary Clinton’s ‘basket of deplorab...</td>\n",
       "      <td>\"To just be grossly generalistic, you could pu...</td>\n",
       "      <td>REAL</td>\n",
       "    </tr>\n",
       "    <tr>\n",
       "      <th>595</th>\n",
       "      <td>Koch-backed network aims to spend nearly $1 bi...</td>\n",
       "      <td>— A network of conservative advocacy groups ba...</td>\n",
       "      <td>REAL</td>\n",
       "    </tr>\n",
       "    <tr>\n",
       "      <th>3821</th>\n",
       "      <td>Obama’s trip to Ethiopia alarms some human rig...</td>\n",
       "      <td>President Obama embarks on a trip to Africa on...</td>\n",
       "      <td>REAL</td>\n",
       "    </tr>\n",
       "    <tr>\n",
       "      <th>7389</th>\n",
       "      <td>Trump’s HUGE Rally Crowds vs HIllary Clinton’s...</td>\n",
       "      <td>Migrant Crisis Disclaimer \\nWe here at the Dai...</td>\n",
       "      <td>FAKE</td>\n",
       "    </tr>\n",
       "    <tr>\n",
       "      <th>8776</th>\n",
       "      <td>The path to total Dictatorship: America’s Shad...</td>\n",
       "      <td>The path to total Dictatorship: America’s Shad...</td>\n",
       "      <td>FAKE</td>\n",
       "    </tr>\n",
       "    <tr>\n",
       "      <th>3517</th>\n",
       "      <td>Footage shows suspects in Brussels attack</td>\n",
       "      <td>Brussels, Belgium (CNN) In grainy images from ...</td>\n",
       "      <td>REAL</td>\n",
       "    </tr>\n",
       "    <tr>\n",
       "      <th>101</th>\n",
       "      <td>Rachel Dolezal has a right to be black (Opinion)</td>\n",
       "      <td>On Monday, Rachel Dolezal, the head of the Spo...</td>\n",
       "      <td>REAL</td>\n",
       "    </tr>\n",
       "    <tr>\n",
       "      <th>9831</th>\n",
       "      <td>Debunked: The Photo Of Obama With A Speech Bal...</td>\n",
       "      <td>Email \\nIn an age where information can be spr...</td>\n",
       "      <td>FAKE</td>\n",
       "    </tr>\n",
       "    <tr>\n",
       "      <th>10057</th>\n",
       "      <td>How the election battle shapes up</td>\n",
       "      <td>1 Comment on \"How the election battle shapes u...</td>\n",
       "      <td>FAKE</td>\n",
       "    </tr>\n",
       "    <tr>\n",
       "      <th>2487</th>\n",
       "      <td>Boehner's preparing to sue Obama again — over ...</td>\n",
       "      <td>It's hard to argue that the existing Deferred ...</td>\n",
       "      <td>REAL</td>\n",
       "    </tr>\n",
       "  </tbody>\n",
       "</table>\n",
       "</div>"
      ],
      "text/plain": [
       "                                                   title  \\\n",
       "5238   Who will Hillary Clinton’s ‘basket of deplorab...   \n",
       "595    Koch-backed network aims to spend nearly $1 bi...   \n",
       "3821   Obama’s trip to Ethiopia alarms some human rig...   \n",
       "7389   Trump’s HUGE Rally Crowds vs HIllary Clinton’s...   \n",
       "8776   The path to total Dictatorship: America’s Shad...   \n",
       "3517           Footage shows suspects in Brussels attack   \n",
       "101     Rachel Dolezal has a right to be black (Opinion)   \n",
       "9831   Debunked: The Photo Of Obama With A Speech Bal...   \n",
       "10057                  How the election battle shapes up   \n",
       "2487   Boehner's preparing to sue Obama again — over ...   \n",
       "\n",
       "                                                    text label  \n",
       "5238   \"To just be grossly generalistic, you could pu...  REAL  \n",
       "595    — A network of conservative advocacy groups ba...  REAL  \n",
       "3821   President Obama embarks on a trip to Africa on...  REAL  \n",
       "7389   Migrant Crisis Disclaimer \\nWe here at the Dai...  FAKE  \n",
       "8776   The path to total Dictatorship: America’s Shad...  FAKE  \n",
       "3517   Brussels, Belgium (CNN) In grainy images from ...  REAL  \n",
       "101    On Monday, Rachel Dolezal, the head of the Spo...  REAL  \n",
       "9831   Email \\nIn an age where information can be spr...  FAKE  \n",
       "10057  1 Comment on \"How the election battle shapes u...  FAKE  \n",
       "2487   It's hard to argue that the existing Deferred ...  REAL  "
      ]
     },
     "execution_count": 31,
     "metadata": {},
     "output_type": "execute_result"
    }
   ],
   "source": [
    "DATA.sample(10)"
   ]
  },
  {
   "cell_type": "code",
   "execution_count": 32,
   "metadata": {},
   "outputs": [
    {
     "data": {
      "text/plain": [
       "(6335, 3)"
      ]
     },
     "execution_count": 32,
     "metadata": {},
     "output_type": "execute_result"
    }
   ],
   "source": [
    "DATA.shape"
   ]
  },
  {
   "cell_type": "markdown",
   "metadata": {},
   "source": [
    "The data has 6335 rows (individual instances of news) and 3 columns. "
   ]
  },
  {
   "cell_type": "markdown",
   "metadata": {},
   "source": [
    "<br>\n",
    "Q: How many examples of each label do we have?"
   ]
  },
  {
   "cell_type": "code",
   "execution_count": 33,
   "metadata": {
    "scrolled": true
   },
   "outputs": [
    {
     "data": {
      "text/plain": [
       "REAL    3171\n",
       "FAKE    3164\n",
       "Name: label, dtype: int64"
      ]
     },
     "execution_count": 33,
     "metadata": {},
     "output_type": "execute_result"
    }
   ],
   "source": [
    "DATA[\"label\"].value_counts()"
   ]
  },
  {
   "cell_type": "markdown",
   "metadata": {},
   "source": [
    "The dataset is almost perfectly balanced. We have a bit more real news than fake news, but otherwise it is almost 50/50."
   ]
  },
  {
   "cell_type": "markdown",
   "metadata": {},
   "source": [
    "## Create balanced data"
   ]
  },
  {
   "cell_type": "markdown",
   "metadata": {},
   "source": [
    "We always want the classes to be balanced, otherwise the classifier will weight the most common type of data more. Hence, we want balanced data in order for the classifier to actually learn patterns instead of relying on the most common data type.\n",
    "\n",
    "We can use the function ```balance``` to create a more even dataset."
   ]
  },
  {
   "cell_type": "code",
   "execution_count": 34,
   "metadata": {},
   "outputs": [],
   "source": [
    "DATA_balanced = clf.balance(DATA, 1000) # we are taking 1000 of each class in the data (real and fake news)\n",
    "# The balance() function uses a random sampling process which means that we get a difference sample of news each time"
   ]
  },
  {
   "cell_type": "code",
   "execution_count": 35,
   "metadata": {
    "scrolled": true
   },
   "outputs": [
    {
     "data": {
      "text/plain": [
       "(2000, 3)"
      ]
     },
     "execution_count": 35,
     "metadata": {},
     "output_type": "execute_result"
    }
   ],
   "source": [
    "DATA_balanced.shape"
   ]
  },
  {
   "cell_type": "markdown",
   "metadata": {},
   "source": [
    "Now we have 1000 of each data type - hence, 1000 real news and 1000 fake news."
   ]
  },
  {
   "cell_type": "code",
   "execution_count": 36,
   "metadata": {
    "scrolled": true
   },
   "outputs": [
    {
     "data": {
      "text/plain": [
       "REAL    1000\n",
       "FAKE    1000\n",
       "Name: label, dtype: int64"
      ]
     },
     "execution_count": 36,
     "metadata": {},
     "output_type": "execute_result"
    }
   ],
   "source": [
    "DATA_balanced[\"label\"].value_counts()"
   ]
  },
  {
   "cell_type": "markdown",
   "metadata": {},
   "source": [
    "<br>\n",
    "\n",
    "What do the label counts look like now?"
   ]
  },
  {
   "cell_type": "code",
   "execution_count": 37,
   "metadata": {},
   "outputs": [
    {
     "data": {
      "text/plain": [
       "REAL    1000\n",
       "FAKE    1000\n",
       "Name: label, dtype: int64"
      ]
     },
     "execution_count": 37,
     "metadata": {},
     "output_type": "execute_result"
    }
   ],
   "source": [
    "DATA_balanced[\"label\"].value_counts()"
   ]
  },
  {
   "cell_type": "markdown",
   "metadata": {},
   "source": [
    "<br>\n",
    "\n",
    "Let's now create new variables called ```texts``` and ```lables```, taking the data out of the dataframe so that we can mess around with them."
   ]
  },
  {
   "cell_type": "code",
   "execution_count": 38,
   "metadata": {},
   "outputs": [],
   "source": [
    "texts = DATA_balanced[\"text\"]\n",
    "labels = DATA_balanced[\"label\"]"
   ]
  },
  {
   "cell_type": "code",
   "execution_count": 39,
   "metadata": {},
   "outputs": [
    {
     "data": {
      "text/plain": [
       "0    FAKE\n",
       "1    FAKE\n",
       "2    FAKE\n",
       "3    FAKE\n",
       "4    FAKE\n",
       "5    FAKE\n",
       "6    FAKE\n",
       "7    FAKE\n",
       "8    FAKE\n",
       "9    FAKE\n",
       "Name: label, dtype: object"
      ]
     },
     "execution_count": 39,
     "metadata": {},
     "output_type": "execute_result"
    }
   ],
   "source": [
    "texts[:10]\n",
    "labels[:10]"
   ]
  },
  {
   "cell_type": "markdown",
   "metadata": {},
   "source": [
    "# Train-test split"
   ]
  },
  {
   "cell_type": "markdown",
   "metadata": {},
   "source": [
    "Now we take the data and the labels and create a training and test set. "
   ]
  },
  {
   "cell_type": "markdown",
   "metadata": {},
   "source": [
    "I've included most of the 'hard work' for you here already, because these are long cells which might be easy to mess up while live-coding.\n",
    "\n",
    "Instead, we'll discuss what's happening. If you have questions, don't be shy!"
   ]
  },
  {
   "cell_type": "code",
   "execution_count": 40,
   "metadata": {},
   "outputs": [],
   "source": [
    "X_train, X_test, y_train, y_test = train_test_split(texts,           # texts for the model\n",
    "                                                    labels,          # classification labels\n",
    "                                                    test_size=0.2,   # create an 80/20 split - rather than defining an integer value, we are specifying a percentage value (0.2 = 20% of the data)\n",
    "                                                    random_state=42) # random state for reproducibility"
   ]
  },
  {
   "cell_type": "markdown",
   "metadata": {},
   "source": [
    "# Vectorizing and Feature Extraction"
   ]
  },
  {
   "cell_type": "markdown",
   "metadata": {},
   "source": [
    "Vectorization. What is it and why are all the cool kids talking about it?\n",
    "\n",
    "Essentially, vectorization is the process whereby textual or visual data is 'transformed' into some kind of numerical representation. One of the easiest ways to do this is to simple count how often individual features appear in a document.\n",
    "\n",
    "Take the following text: \n",
    "<br><br>\n",
    "<i>My father’s family name being Pirrip, and my Christian name Philip, my infant tongue could make of both names nothing longer or more explicit than Pip. So, I called myself Pip, and came to be called Pip.</i>\n",
    "<br>\n",
    "\n",
    "We can convert this into the following vector\n",
    "\n",
    "| and | be | being | both | called | came | christian | could | explicit | family | father | i | infant | longer | make | more | my | myself | name | names | nothing | of | or | philip | pip | pirrip | s | so | than | to | tongue|\n",
    "| --- | --- | --- | --- | --- | --- | --- | --- | --- | --- | --- | --- | --- | --- | --- | --- | --- | --- | --- | --- | --- | --- | --- | --- | --- | --- | --- | --- | --- | --- |  --- |\n",
    "| 2 | 1 | 1 | 1 | 2 | 1 | 1 | 1 | 1 | 1 | 1 | 1 | 1 | 1 | 1 | 1 | 3 | 1 | 2 | 1 | 1 | 1 | 1 | 1 | 3 | 1 | 1 | 1 | 1 | 1 | 1 |\n",
    "\n",
    "<br>\n",
    "Our textual data is hence reduced to a jumbled-up 'vector' of numbers, known somewhat quaintly as a <i>bag-of-words</i>.\n",
    "<br>\n",
    "<br>\n",
    "To do this in practice, we first need to create a vectorizer. \n",
    "\n",
    "Tfidf vectors tend to be better for training classifiers. Why might that be?"
   ]
  },
  {
   "cell_type": "markdown",
   "metadata": {},
   "source": [
    "__Create vectorizer object__"
   ]
  },
  {
   "cell_type": "markdown",
   "metadata": {},
   "source": [
    "scikit-learn has its own vectorizer function called ```TfidfVectorizer()```that creates vectors. This is when we start to manually tweek the model to get the best results (parameters that best fit the data).\n",
    "\n",
    "When using this function we are creating a vectorizer and taking these inputs: <br>\n",
    "\n",
    "```ngram_range```: combinations of tokens that appear in the data. A unigram is one word, while a bigram is two words (e.g. names like \"Donald Trump\"). Below, we are saying that we want both unigrams (1) and bigrams (2). <br>\n",
    "\n",
    "```lowercase```: specifying whether we want lowercase letters or not. <br>\n",
    "\n",
    "```max_df```: the maximum number of documents that a word should be allowed to appear in. If a word appears in more than 95% of the documents, then we remove it. Hence, this is used to remove very frequent word. This is instead of using a stopword dictionary, becasue these are often too simplisitc and biased in terms of what is included and not. We could have included a stopword list instead of doing these thresholds by specifying ```stopwords=\"english``` wich takes the inbuilt stopword list in sklearn, but using these thresholds is more generalizable than using a stopword dictionary <br>\n",
    "\n",
    "```min_df```: the minimum number of documents that a would should appear in in order to be included. <br>\n",
    "\n",
    "```max_features```: the maximum number of features that we want to use. If we do not specify this threshold we are going to end up with a huge list of ngrams (features), which is why we choose to work with only a subset of the most important features. \n",
    "\n",
    "\n",
    "NB! We could have used a lot of preprocessing steps, but these are what we are working with in this example.\n",
    "\n",
    "\n",
    "Running the code below means that we end up with an object called a ```vectorizer``` which looks for bigrams and unigrams, lowercases the text, gets rid of common and infrequent word, and is trained on the used dataset to find the ngrams.  "
   ]
  },
  {
   "cell_type": "code",
   "execution_count": 41,
   "metadata": {},
   "outputs": [],
   "source": [
    "vectorizer = TfidfVectorizer(ngram_range = (1,2),     # unigrams and bigrams (1 word and 2 word units)\n",
    "                             lowercase =  True,       # why use lowercase?\n",
    "                             max_df = 0.95,           # remove very common words\n",
    "                             min_df = 0.05,           # remove very rare words\n",
    "                             max_features = 500)      # keep only top 500 features"
   ]
  },
  {
   "cell_type": "markdown",
   "metadata": {},
   "source": [
    "Hence, now we have defined/initialized our vectorizer object. These parameters might not be the most optimal, but we can change them depending on the results we get later. \n",
    "\n",
    "We have used the ```TfidVectorizer``` but we could also have used to ```countVectorizer```"
   ]
  },
  {
   "cell_type": "markdown",
   "metadata": {},
   "source": [
    "This vectorizer is then used to turn all of our documents into a vector of numbers, instead of text. Hence, we fit the vectorizer to our training data. When fitting the vectorizer to the data, we transform the data to a feature representation (intermediate representation). "
   ]
  },
  {
   "cell_type": "code",
   "execution_count": 42,
   "metadata": {},
   "outputs": [],
   "source": [
    "# First we do it for our training data...\n",
    "X_train_feats = vectorizer.fit_transform(X_train) # fitting the vectorizer model to the training data that is then transformed into a feature representation. Hence, we get a list of vector representaions of the features that appear in the training data\n",
    "#... then we do it for our test data\n",
    "X_test_feats = vectorizer.transform(X_test)\n",
    "# We can also create a list of the feature names. \n",
    "feature_names = vectorizer.get_feature_names() # getting the names of the features whichi corresponds to the unigrams and bigrams that the vectorizer has extracted from the data"
   ]
  },
  {
   "cell_type": "markdown",
   "metadata": {},
   "source": [
    "What are we doing when we are fitting and transforming?\n",
    "- Fitting: taking the data and putting it into a feature representation. Hence, we fill the spaces of the vectorizer with tthe training data. \n",
    "- Transform: changing the data we have so that it looks like the shape of the vectorizer we have (i.e. a feature representation). \n"
   ]
  },
  {
   "cell_type": "markdown",
   "metadata": {},
   "source": [
    "What we have done now is taking our dataset and the vectorizer object, fed and transformed the training data to get features, transformed the test data, and now we have the features names which we can now inspect. "
   ]
  },
  {
   "cell_type": "markdown",
   "metadata": {},
   "source": [
    "## Classifying and predicting"
   ]
  },
  {
   "cell_type": "markdown",
   "metadata": {},
   "source": [
    "Now we need to fit a logistic regression model to the data."
   ]
  },
  {
   "cell_type": "markdown",
   "metadata": {},
   "source": [
    "We now have to 'fit' the classifier to our data. This means that the classifier takes our data and finds correlations between features and labels.\n",
    "\n",
    "These correlations are then the *model* that the classifier learns about our data. This model can then be used to predict the label for new, unseen data."
   ]
  },
  {
   "cell_type": "code",
   "execution_count": 43,
   "metadata": {},
   "outputs": [],
   "source": [
    "# Here we are fitting a logistic regression model to the extracted features from the data and the labels for those features\n",
    "classifier = LogisticRegression(random_state=42).fit(X_train_feats, y_train)"
   ]
  },
  {
   "cell_type": "markdown",
   "metadata": {},
   "source": [
    "Q: How do we use the classifier to make predictions?"
   ]
  },
  {
   "cell_type": "code",
   "execution_count": 44,
   "metadata": {},
   "outputs": [],
   "source": [
    "# Predicting the test features - for each data point in the test data\n",
    "y_pred = classifier.predict(X_test_feats) "
   ]
  },
  {
   "cell_type": "markdown",
   "metadata": {},
   "source": [
    "Q: What are the predictions for the first 20 examples of the test data?"
   ]
  },
  {
   "cell_type": "code",
   "execution_count": 45,
   "metadata": {},
   "outputs": [
    {
     "name": "stdout",
     "output_type": "stream",
     "text": [
      "['REAL' 'FAKE' 'REAL' 'FAKE' 'REAL' 'REAL' 'FAKE' 'REAL' 'FAKE' 'REAL'\n",
      " 'FAKE' 'FAKE' 'REAL' 'FAKE' 'FAKE' 'FAKE' 'FAKE' 'FAKE' 'REAL' 'REAL']\n"
     ]
    }
   ],
   "source": [
    "# Examining the predictions that the model has made for the first 20 news\n",
    "print(y_pred[0:20])"
   ]
  },
  {
   "cell_type": "markdown",
   "metadata": {},
   "source": [
    "We can also inspect the model, in order to see which features are most informative when trying to predict a label. \n",
    "\n",
    "To do this, we can use the ```show_features``` function that I defined earlier - how convenient!"
   ]
  },
  {
   "cell_type": "markdown",
   "metadata": {},
   "source": [
    "Q: What are the most informative features? Use ```show_features```to find out!"
   ]
  },
  {
   "cell_type": "code",
   "execution_count": 46,
   "metadata": {
    "scrolled": false
   },
   "outputs": [
    {
     "name": "stdout",
     "output_type": "stream",
     "text": [
      "FAKE\t\t\t\tREAL\n",
      "\n",
      "-2.9780\thillary        \t\t2.5194\tbut            \n",
      "-2.8956\toctober        \t\t2.0789\tsanders        \n",
      "-2.1252\telection       \t\t1.9963\trepublican     \n",
      "-2.1119\tby             \t\t1.9796\ttax            \n",
      "-1.5837\tyour           \t\t1.9631\tcruz           \n",
      "-1.5213\tus             \t\t1.8650\tthat           \n",
      "-1.5097\tcom            \t\t1.7671\tcandidates     \n",
      "-1.4217\tfbi            \t\t1.7355\tdebate         \n",
      "-1.3862\tnovember       \t\t1.7327\tgop            \n",
      "-1.3715\temail          \t\t1.6828\tstate          \n",
      "-1.3279\tthe us         \t\t1.6495\tsen            \n",
      "-1.2822\trussia         \t\t1.6391\tconservative   \n",
      "-1.2676\thillary clinton\t\t1.6077\trubio          \n",
      "-1.2397\tthis           \t\t1.5743\tislamic        \n",
      "-1.2352\tbeing          \t\t1.5499\tfox            \n",
      "-1.2042\tanti           \t\t1.5443\tdepartment     \n",
      "-1.2038\tyou            \t\t1.5243\the             \n",
      "-1.1866\tjust           \t\t1.5124\tsays           \n",
      "-1.0828\thowever        \t\t1.4651\trepublicans    \n"
     ]
    }
   ],
   "source": [
    "# Now we get the weights and coeffficient for the unigrams and bigrams which most closely correspond to each class (fake and real)\n",
    "clf.show_features(vectorizer, y_train, classifier, n=20)\n",
    "# Hence, these are the features that mostly correspnd to each class\n",
    "# We can see a very clear distribution - real news focus on reporting the election campaign, while fake news focus heavily on the tabloid aspects of hte news (hillary, fbi, russia) "
   ]
  },
  {
   "cell_type": "markdown",
   "metadata": {},
   "source": [
    "^The values we get here are the coefficients (weights) for the features that the model has learned.\n",
    "\n",
    "We can see that words like \"you\", \"but\", \"by\" are in there, which means that we should maybe change the max threshold for when to exlude words that appear frequently. "
   ]
  },
  {
   "cell_type": "markdown",
   "metadata": {},
   "source": [
    "It seems that the classifier is performing in a way that we would expect it to whihc is good"
   ]
  },
  {
   "cell_type": "markdown",
   "metadata": {},
   "source": [
    "## Evaluate"
   ]
  },
  {
   "cell_type": "markdown",
   "metadata": {},
   "source": [
    "The computer has now learned a model of how our data behaves. Well done, computer! But is it accurate?"
   ]
  },
  {
   "cell_type": "markdown",
   "metadata": {},
   "source": [
    "Q: How do we measure accuracy?"
   ]
  },
  {
   "cell_type": "markdown",
   "metadata": {},
   "source": [
    "<img src=\"../img/confusionMatrix.jpg\">"
   ]
  },
  {
   "cell_type": "markdown",
   "metadata": {},
   "source": [
    "Thankfully, libraries like ```sklearn``` come with a range of tools that are useful for evaluating models.\n",
    "\n",
    "One way to do this, is to use a confusion matrix, similar to what you see above."
   ]
  },
  {
   "cell_type": "markdown",
   "metadata": {},
   "source": [
    "Q: What should go in the argument called ```labels```?"
   ]
  },
  {
   "cell_type": "code",
   "execution_count": 51,
   "metadata": {
    "scrolled": true
   },
   "outputs": [
    {
     "data": {
      "image/png": "[encoded data removed]",
      "text/plain": [
       "<Figure size 720x720 with 1 Axes>"
      ]
     },
     "metadata": {
      "needs_background": "light"
     },
     "output_type": "display_data"
    },
    {
     "data": {
      "image/png": "[encoded data removed]",
      "text/plain": [
       "<Figure size 720x720 with 1 Axes>"
      ]
     },
     "metadata": {
      "needs_background": "light"
     },
     "output_type": "display_data"
    }
   ],
   "source": [
    "# Here we take the actual test labels and the predicted test labels and we plot how well the nodel is performing.\n",
    "clf.plot_cm(y_test, y_pred, normalized=False) # showing actual numbers\n",
    "clf.plot_cm(y_test, y_pred, normalized=True) # showing percentage"
   ]
  },
  {
   "cell_type": "markdown",
   "metadata": {},
   "source": [
    "We can see that the model is performing quite well. <br>\n",
    "Black: misclassifications. "
   ]
  },
  {
   "cell_type": "markdown",
   "metadata": {},
   "source": [
    "We can also do some quick calculations, in order to assess just how well our model performs."
   ]
  },
  {
   "cell_type": "code",
   "execution_count": 48,
   "metadata": {
    "scrolled": false
   },
   "outputs": [
    {
     "name": "stdout",
     "output_type": "stream",
     "text": [
      "              precision    recall  f1-score   support\n",
      "\n",
      "        FAKE       0.84      0.92      0.88       199\n",
      "        REAL       0.92      0.83      0.87       201\n",
      "\n",
      "    accuracy                           0.88       400\n",
      "   macro avg       0.88      0.88      0.88       400\n",
      "weighted avg       0.88      0.88      0.88       400\n",
      "\n"
     ]
    }
   ],
   "source": [
    "# Now we get some actual report of the model's performance\n",
    "classifier_metrics = metrics.classification_report(y_test, y_pred)\n",
    "print(classifier_metrics)"
   ]
  },
  {
   "cell_type": "markdown",
   "metadata": {},
   "source": [
    "__Conclusion:__ the model performs pretty well in classifying real and fake news (it is correct around 85% of the time)"
   ]
  },
  {
   "cell_type": "markdown",
   "metadata": {},
   "source": [
    "__Potential problems with this classifier?__\n",
    "1. This performance is dependent on the training data that we have trained the model on on the test data we test it on. Because we are taking a random sample of the real and fake news, how the model performs is dependent on this sample it has been trained and tested on. Hence, the performance of the model will depend on the split that we have made, which means that we cannot really generalize these results. The performance of the model also depends on whether we focus on unigrams, bigrams, or trigams etc. because this impacts how well the model performs. To solve this we can perform cross validation - this will give us a measure of how well the model performs in general and not just on a particular sample of the data. "
   ]
  },
  {
   "cell_type": "markdown",
   "metadata": {},
   "source": [
    "## Cross validation and further evaluation"
   ]
  },
  {
   "cell_type": "markdown",
   "metadata": {},
   "source": [
    "One thing we can't be sure of is that our model performance is simply related to how the train-test split is made.\n",
    "\n",
    "To try to mitigate this, we can perform cross-validation, in order to test a number of different train-test splits and finding the average scores.\n",
    "\n",
    "When performing cross-validation, we crate many different training and test splits and come up with an average of those splits, and then test the model on that average. \n",
    "\n",
    "Let's do this on the full dataset"
   ]
  },
  {
   "cell_type": "code",
   "execution_count": 49,
   "metadata": {},
   "outputs": [],
   "source": [
    "# We run the vectorizer object (i.e. fit the model) on the entire data\n",
    "X_vect = vectorizer.fit_transform(texts)\n",
    "# X_vect is the vectorized representations on the entire dataset."
   ]
  },
  {
   "cell_type": "code",
   "execution_count": 50,
   "metadata": {
    "scrolled": true
   },
   "outputs": [
    {
     "data": {
      "image/png": "[encoded data removed]",
      "text/plain": [
       "<Figure size 1440x360 with 3 Axes>"
      ]
     },
     "metadata": {
      "needs_background": "light"
     },
     "output_type": "display_data"
    }
   ],
   "source": [
    "title = \"Learning Curves (Logistic Regression)\"\n",
    "\n",
    "# Using shufflesplit() function to create 100 different samples from the entire data - hence, we iterate over the data 100 times and pick out 80% for training and 20% for testing\n",
    "cv = ShuffleSplit(n_splits=100, test_size=0.2, random_state=0)\n",
    "\n",
    "# We create an estimator object (our model) \n",
    "model = LogisticRegression(random_state=42)\n",
    "\n",
    "# Plotting the learning curves for the model\n",
    "clf.plot_learning_curve(model, title, X_vect, labels, cv=cv, n_jobs=4)\n",
    "# n_jobs is the number of CPU cores"
   ]
  },
  {
   "cell_type": "markdown",
   "metadata": {},
   "source": [
    "These visualizations allow us to estimate the performance of the model on average and not just on a single training split. "
   ]
  },
  {
   "cell_type": "markdown",
   "metadata": {},
   "source": [
    "The first plot is probably the most interesting. Some terminology:\n",
    "\n",
    "- If two curves are \"close to each other\" and both of them but have a low score, the model suffers from an underfitting problem (High Bias). Hence, if the two curves are close togehter, then we are underfitting. \n",
    "\n",
    "- If there are large gaps between two curves, then the model suffer from an overfitting problem (High Variance). Hence, if the curves are far from each other we are overfitting - a lot of variance in the test data cannot be predicted based on the training data. If this is the case, we need to go back and redefine the classifier. "
   ]
  },
  {
   "cell_type": "markdown",
   "metadata": {},
   "source": [
    "- The first plot: This is the learning curve of the model. It shows how well the model is performing over time. \n",
    "- The second plot shows the times required by the models to train with various sizes of training dataset. Hence, as we increase the numberof training samples, the time it takes to calculate the model will increase. \n",
    "- The third plot show how much time was required to train the models for each training sizes. Hence, the more time spent on training produces higher accuracy. "
   ]
  }
 ],
 "metadata": {
  "kernelspec": {
   "display_name": "lang101",
   "language": "python",
   "name": "lang101"
  },
  "language_info": {
   "codemirror_mode": {
    "name": "ipython",
    "version": 3
   },
   "file_extension": ".py",
   "mimetype": "text/x-python",
   "name": "python",
   "nbconvert_exporter": "python",
   "pygments_lexer": "ipython3",
   "version": "3.6.9"
  }
 },
 "nbformat": 4,
 "nbformat_minor": 4
}
