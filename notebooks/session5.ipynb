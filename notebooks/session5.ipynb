{
 "cells": [
  {
   "cell_type": "markdown",
   "metadata": {},
   "source": [
    "## Preflight checks\n",
    "\n",
    "1) Install the following:\n",
    "- plotly-express\n",
    "- googlemaps\n",
    "- tqdm\n",
    "\n",
    "2) Set up an account on Google Places API https://developers.google.com/maps/documentation/places/web-service/overview?hl=PL\n",
    "\n",
    "\n",
    "3) wget https://raw.githubusercontent.com/MarkHershey/CompleteTrumpTweetsArchive/master/data/realDonaldTrump_in_office.csv\n",
    "\n",
    "__or__ \n",
    "\n",
    "wget https://raw.githubusercontent.com/MarkHershey/CompleteTrumpTweetsArchive/master/data/realDonaldTrump_in_office.csv"
   ]
  },
  {
   "cell_type": "code",
   "execution_count": null,
   "metadata": {},
   "outputs": [],
   "source": [
    "# System tools\n",
    "import os\n",
    "import sys\n",
    "sys.path.append(os.path.join(\"..\"))\n",
    "\n",
    "# Google API helper functions\n",
    "import googlemaps\n",
    "from utils.google_utils import get_placeid, process_id\n",
    "\n",
    "# Data analysis\n",
    "import pandas as pd\n",
    "from collections import Counter\n",
    "from tqdm import tqdm\n",
    "\n",
    "# Plotly for visualisation; bit of an issue with Jupyter\n",
    "import plotly.express as px\n",
    "import plotly.io as pio\n",
    "pio.renderers.default='notebook'\n",
    "\n",
    "# NLP\n",
    "import spacy\n",
    "nlp = spacy.load(\"en_core_web_sm\")"
   ]
  },
  {
   "cell_type": "markdown",
   "metadata": {},
   "source": [
    "## Doing NER with ```spaCy```\n",
    "\n",
    "Here, we're only focusing on ```GPE``` in the data, but feel free to explore other kinds of entity!"
   ]
  },
  {
   "cell_type": "markdown",
   "metadata": {},
   "source": [
    "__Read in the data__"
   ]
  },
  {
   "cell_type": "code",
   "execution_count": null,
   "metadata": {},
   "outputs": [],
   "source": [
    "input_file = os.path.join(\"..\", \"data\", \"ner_data\", \"realDonaldTrump_in_office.csv\")"
   ]
  },
  {
   "cell_type": "markdown",
   "metadata": {},
   "source": [
    "Remember that the data format is a little screwy. If you're using your own data, all of this boilerplate might not be necessary."
   ]
  },
  {
   "cell_type": "code",
   "execution_count": null,
   "metadata": {},
   "outputs": [],
   "source": [
    "data = pd.read_csv(input_file, \n",
    "                   sep=',\\s+', \n",
    "                   delimiter=',', \n",
    "                   encoding=\"utf-8\", \n",
    "                   skipinitialspace=True)"
   ]
  },
  {
   "cell_type": "markdown",
   "metadata": {},
   "source": [
    "__Extract GPEs with ```spaCy```__"
   ]
  },
  {
   "cell_type": "code",
   "execution_count": null,
   "metadata": {},
   "outputs": [],
   "source": [
    "doc = nlp(\"My name is Ross\")\n",
    "# For every entity in the doc object\n",
    "for token in doc.ents:\n",
    "    # print the token and the NER label (NB: .label_ not .label)\n",
    "    print(token.text, token.label_)"
   ]
  },
  {
   "cell_type": "code",
   "execution_count": null,
   "metadata": {},
   "outputs": [],
   "source": [
    "# create empty list for our entities\n",
    "gpe_ents = []"
   ]
  },
  {
   "cell_type": "markdown",
   "metadata": {},
   "source": [
    "The next cell extracts only the mentions of entities tagged with ```GPE``` by ```spaCy``` in the tweets.\n",
    "\n",
    "On my computer (MacBook Pro 2017, 16GB RAM, 2.8 GHz Intel Core i7) it takes just under 2 minutes."
   ]
  },
  {
   "cell_type": "code",
   "execution_count": null,
   "metadata": {},
   "outputs": [],
   "source": [
    "# Batch tweets in 200, run through NLP pipe. Try different sizes!\n",
    "# You might also want to use the 'disable' flag in nlp.pipe\n",
    "\n",
    "for posts in tqdm(nlp.pipe(data[\"Tweet Text\"], batch_size=200)):\n",
    "    for entity in posts.ents:\n",
    "        if entity.label_ == \"GPE\":\n",
    "            gpe_ents.append(entity.text)"
   ]
  },
  {
   "cell_type": "markdown",
   "metadata": {},
   "source": [
    "__Count and group__"
   ]
  },
  {
   "cell_type": "markdown",
   "metadata": {},
   "source": [
    "Use a Python ```Counter()``` object to count how often each entity occurs."
   ]
  },
  {
   "cell_type": "code",
   "execution_count": null,
   "metadata": {},
   "outputs": [],
   "source": [
    "counted_gpes = Counter(gpe_ents)"
   ]
  },
  {
   "cell_type": "code",
   "execution_count": null,
   "metadata": {},
   "outputs": [],
   "source": [
    "# Create dataframe from dict\n",
    "locations = pd.DataFrame.from_dict(counted_gpes, orient='index')"
   ]
  },
  {
   "cell_type": "code",
   "execution_count": null,
   "metadata": {},
   "outputs": [],
   "source": [
    "# Reset the index\n",
    "locations.reset_index(level=0, inplace=True)\n",
    "locations.columns = [\"location\", \"count\"]"
   ]
  },
  {
   "cell_type": "markdown",
   "metadata": {},
   "source": [
    "__Explore data__"
   ]
  },
  {
   "cell_type": "code",
   "execution_count": null,
   "metadata": {},
   "outputs": [],
   "source": [
    "# Show a random sample of 10 entities\n",
    "locations.sample(10)"
   ]
  },
  {
   "cell_type": "code",
   "execution_count": null,
   "metadata": {},
   "outputs": [],
   "source": [
    "# Show 10 most frequent\n",
    "locations.sort_values(\"count\", ascending=False).head(10)"
   ]
  },
  {
   "cell_type": "markdown",
   "metadata": {},
   "source": [
    "## Geocoding"
   ]
  },
  {
   "cell_type": "markdown",
   "metadata": {},
   "source": [
    "You might not be interested in exploring entities tagged as ```GPE```. In which case, you obviously don't need to worry about geocoding!\n",
    "\n",
    "If you are intersted in this kind of spatial question, though, you'll need to make sure that you have an API key set up for Google Places.\n",
    "\n",
    "When you have that, save the key to a file called ```api-key.txt``` - it will look like a string of random numbers and letters.\n",
    "\n",
    "API keys are specific to you and only you, so don't share it!"
   ]
  },
  {
   "cell_type": "code",
   "execution_count": null,
   "metadata": {},
   "outputs": [],
   "source": [
    "with open(\"../api-key.txt\", \"r\") as f:\n",
    "    google_key = f.read()"
   ]
  },
  {
   "cell_type": "markdown",
   "metadata": {},
   "source": [
    "These following cells show how to interface with Google Places via the API. \n",
    "\n",
    "We use two helper functions from ```utils/google_utils.py``` imported - ```get_placeid()``` and ```process_id()```"
   ]
  },
  {
   "cell_type": "code",
   "execution_count": null,
   "metadata": {},
   "outputs": [],
   "source": [
    "# Set up googlemaps clientsa\n",
    "gc_rate  = 100 # Geocoding queries per second\n",
    "pl_rate  = 100 # Places queries per second\n",
    "\n",
    "gc_client = googlemaps.Client(key=google_key, queries_per_second=gc_rate) # For Geocoding API\n",
    "pl_client = googlemaps.Client(key=google_key, queries_per_second=pl_rate) # For Places API"
   ]
  },
  {
   "cell_type": "markdown",
   "metadata": {},
   "source": [
    "This will be time consuming, circa 15 minutes or so.\n",
    "\n",
    "__REMEMBER THE GOOGLE PLACES BUSINESS MODEL $$__\n",
    "\n",
    "Free options also exist, such as MapQuest https://developer.mapquest.com/\n",
    "\n",
    "If you use MapQuest, you'll need to use a different Python library https://geocoder.readthedocs.io/providers/MapQuest.html"
   ]
  },
  {
   "cell_type": "code",
   "execution_count": null,
   "metadata": {},
   "outputs": [],
   "source": [
    "# Perform geocoding\n",
    "google_geocode_output = {}\n",
    "for loc in tqdm(locations):\n",
    "    placeid = get_placeid(loc, pl_client)\n",
    "    if placeid:\n",
    "        google_geocode_output[loc] = process_id(placeid, gc_client)"
   ]
  },
  {
   "cell_type": "markdown",
   "metadata": {},
   "source": [
    "__Explore results__"
   ]
  },
  {
   "cell_type": "code",
   "execution_count": null,
   "metadata": {},
   "outputs": [],
   "source": [
    "# Examine output\n",
    "google_geodata = pd.DataFrame.from_dict(google_geocode_output, orient='index')"
   ]
  },
  {
   "cell_type": "code",
   "execution_count": null,
   "metadata": {},
   "outputs": [],
   "source": [
    "# Save for future use\n",
    "\n",
    "#google_geodata.to_csv(\"google_geodata.csv\", sep=\"\\t\")\n",
    "#google_geodata = pd.read_csv(\"google_geodata.csv\", sep=\"\\t\")"
   ]
  },
  {
   "cell_type": "code",
   "execution_count": null,
   "metadata": {},
   "outputs": [],
   "source": [
    "# Merge dataframes\n",
    "merged_data = pd.merge(locations, google_geodata, left_on=\"location\", right_on=\"Unnamed: 0\")"
   ]
  },
  {
   "cell_type": "code",
   "execution_count": null,
   "metadata": {},
   "outputs": [],
   "source": [
    "# Group data by location for plotting\n",
    "subset = pd.DataFrame(merged_data.groupby([\"formatted_address\", \"lat\", \"lon\", \"location_type\"]).sum()).reset_index()"
   ]
  },
  {
   "cell_type": "code",
   "execution_count": null,
   "metadata": {},
   "outputs": [],
   "source": [
    "subset.sort_values(\"count\", ascending=False).head(20)"
   ]
  },
  {
   "cell_type": "markdown",
   "metadata": {},
   "source": [
    "__Visualise__"
   ]
  },
  {
   "cell_type": "code",
   "execution_count": null,
   "metadata": {},
   "outputs": [],
   "source": [
    "# Show locations on a map\n",
    "fig = px.scatter_geo(google_map_data, lat='lat', lon='lon',\n",
    "                     hover_name=\"formatted_address\", size=\"count\",\n",
    "                     color='location_type',\n",
    "                     projection=\"natural earth\")"
   ]
  },
  {
   "cell_type": "code",
   "execution_count": null,
   "metadata": {},
   "outputs": [],
   "source": [
    "fig.show()"
   ]
  }
 ],
 "metadata": {
  "kernelspec": {
   "display_name": "Python 3",
   "language": "python",
   "name": "python3"
  },
  "language_info": {
   "codemirror_mode": {
    "name": "ipython",
    "version": 3
   },
   "file_extension": ".py",
   "mimetype": "text/x-python",
   "name": "python",
   "nbconvert_exporter": "python",
   "pygments_lexer": "ipython3",
   "version": "3.8.7"
  }
 },
 "nbformat": 4,
 "nbformat_minor": 4
}
