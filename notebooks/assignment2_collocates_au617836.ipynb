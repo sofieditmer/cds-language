{
 "cells": [
  {
   "cell_type": "markdown",
   "metadata": {},
   "source": [
    "## String processing with Python\n",
    "\n",
    "Using a text corpus found on the cds-language GitHub repo or a corpus of your own found on a site such as Kaggle, write a Python script which calculates collocates for a specific keyword.\n",
    "\n",
    "The script should take a directory of text files, a keyword, and a window size (number of words) as input parameters, and an output file called out/{filename}.csv\n",
    "These parameters can be defined in the script itself\n",
    "Find out how often each word collocates with the target across the corpus\n",
    "Use this to calculate mutual information between the target word and all collocates across the corpus\n",
    "Save result as a single file consisting of four columns: collocate, raw_frequency, MI"
   ]
  },
  {
   "cell_type": "markdown",
   "metadata": {},
   "source": [
    "__Importing libraries__"
   ]
  },
  {
   "cell_type": "code",
   "execution_count": 1,
   "metadata": {},
   "outputs": [],
   "source": [
    "import os\n",
    "import sys \n",
    "sys.path.append(os.path.join(\"..\")) # enabling communication with home directory\n",
    "import pandas as pd \n",
    "from pathlib import Path\n",
    "import csv \n",
    "import re\n",
    "import string\n",
    "import numpy as np"
   ]
  },
  {
   "cell_type": "markdown",
   "metadata": {},
   "source": [
    "__Defining tokenizer function__"
   ]
  },
  {
   "cell_type": "code",
   "execution_count": 2,
   "metadata": {},
   "outputs": [],
   "source": [
    "def tokenize(input_string):\n",
    "    # Split at all characters except for letters (both lowercase and uppercase) and apostrophes\n",
    "    tokenizer = re.compile(r\"[^a-zA-Z']+\") \n",
    "    # Tokenize\n",
    "    token_list = tokenizer.split(input_string) # return a token list by splitting the input string using the compiling pattern\n",
    "    # Return list of tokens\n",
    "    return token_list"
   ]
  },
  {
   "cell_type": "markdown",
   "metadata": {},
   "source": [
    "__Defining collocate function__"
   ]
  },
  {
   "cell_type": "code",
   "execution_count": 3,
   "metadata": {},
   "outputs": [],
   "source": [
    "def collocates(path, keyword, window_size):\n",
    "    \n",
    "    token_list_all = []\n",
    "    collocates_list = []\n",
    "    data = pd.DataFrame(columns=[\"keyword\", \"collocate\", \"raw_frequency\", \"MI\"])\n",
    "    u = 0\n",
    "    \n",
    "    for filename in Path(path).glob(\"*.txt\"):\n",
    "        with open (filename, \"r\", encoding = \"utf-8\") as file:\n",
    "            text = file.read()\n",
    "            token_list = tokenize(text.lower())\n",
    "            token_list_all.extend(token_list)\n",
    "            indices = [index for index, x in enumerate(token_list) if x == keyword]\n",
    "            u = u + len(indices)\n",
    "            \n",
    "            for index in indices:\n",
    "                window_start = max(0, index - window_size)\n",
    "                window_end = index + window_size\n",
    "                keyword_string = token_list[window_start : window_end + 1]\n",
    "                collocates_list.extend(keyword_string)\n",
    "                collocates_list.remove(keyword)\n",
    "                        \n",
    "    unique_collocates = set(collocates_list)\n",
    "    for collocate in unique_collocates:\n",
    "        v = token_list_all.count(collocate)\n",
    "        O11 = collocates_list.count(collocate)\n",
    "        O12 = u - O11\n",
    "        O21 = v - O11\n",
    "        R1 = O11 + O12\n",
    "        C1 = O11 + O21\n",
    "        N = len(token_list_all)\n",
    "        E11 = R1*C1/N\n",
    "        MI = np.log(O11/E11)\n",
    "        data = data.append({\"keyword\": keyword, \n",
    "                     \"collocate\": collocate, \n",
    "                     \"raw_frequency\": O11,\n",
    "                     \"MI\": MI}, ignore_index = True)\n",
    "        \n",
    "    data = data.sort_values(\"MI\", ascending = False)    \n",
    "    return data"
   ]
  },
  {
   "cell_type": "markdown",
   "metadata": {},
   "source": [
    "O11 = u & v = in lines from KWIC, how often do we have the collocate in it  \n",
    "O12 = u & !v = total number of u’s - O11 <br>\n",
    "O21 = !u & v = total number of v’s - O11 <br>\n",
    "R1 = O11 + O12 <br>\n",
    "C1 = O11 + O21"
   ]
  },
  {
   "cell_type": "code",
   "execution_count": 4,
   "metadata": {},
   "outputs": [],
   "source": [
    "path = os.path.join(\"..\", \"data\", \"100_english_novels\", \"corpus\")\n",
    "collocates_df = collocates(path, \"sunshine\", 2)\n",
    "collocates_df.to_csv(\"Collocates.csv\", index = False)"
   ]
  },
  {
   "cell_type": "code",
   "execution_count": 5,
   "metadata": {},
   "outputs": [
    {
     "data": {
      "text/html": [
       "<div>\n",
       "<style scoped>\n",
       "    .dataframe tbody tr th:only-of-type {\n",
       "        vertical-align: middle;\n",
       "    }\n",
       "\n",
       "    .dataframe tbody tr th {\n",
       "        vertical-align: top;\n",
       "    }\n",
       "\n",
       "    .dataframe thead th {\n",
       "        text-align: right;\n",
       "    }\n",
       "</style>\n",
       "<table border=\"1\" class=\"dataframe\">\n",
       "  <thead>\n",
       "    <tr style=\"text-align: right;\">\n",
       "      <th></th>\n",
       "      <th>keyword</th>\n",
       "      <th>collocate</th>\n",
       "      <th>raw_frequency</th>\n",
       "      <th>MI</th>\n",
       "    </tr>\n",
       "  </thead>\n",
       "  <tbody>\n",
       "    <tr>\n",
       "      <th>92</th>\n",
       "      <td>sunshine</td>\n",
       "      <td>lapt</td>\n",
       "      <td>1</td>\n",
       "      <td>9.926476</td>\n",
       "    </tr>\n",
       "    <tr>\n",
       "      <th>726</th>\n",
       "      <td>sunshine</td>\n",
       "      <td>grateless</td>\n",
       "      <td>1</td>\n",
       "      <td>9.926476</td>\n",
       "    </tr>\n",
       "    <tr>\n",
       "      <th>176</th>\n",
       "      <td>sunshine</td>\n",
       "      <td>slurs</td>\n",
       "      <td>1</td>\n",
       "      <td>9.233329</td>\n",
       "    </tr>\n",
       "    <tr>\n",
       "      <th>13</th>\n",
       "      <td>sunshine</td>\n",
       "      <td>wheriver</td>\n",
       "      <td>1</td>\n",
       "      <td>9.233329</td>\n",
       "    </tr>\n",
       "    <tr>\n",
       "      <th>718</th>\n",
       "      <td>sunshine</td>\n",
       "      <td>mayonaise</td>\n",
       "      <td>1</td>\n",
       "      <td>9.233329</td>\n",
       "    </tr>\n",
       "    <tr>\n",
       "      <th>...</th>\n",
       "      <td>...</td>\n",
       "      <td>...</td>\n",
       "      <td>...</td>\n",
       "      <td>...</td>\n",
       "    </tr>\n",
       "    <tr>\n",
       "      <th>275</th>\n",
       "      <td>sunshine</td>\n",
       "      <td>were</td>\n",
       "      <td>2</td>\n",
       "      <td>-0.163138</td>\n",
       "    </tr>\n",
       "    <tr>\n",
       "      <th>110</th>\n",
       "      <td>sunshine</td>\n",
       "      <td>not</td>\n",
       "      <td>4</td>\n",
       "      <td>-0.184615</td>\n",
       "    </tr>\n",
       "    <tr>\n",
       "      <th>633</th>\n",
       "      <td>sunshine</td>\n",
       "      <td>up</td>\n",
       "      <td>1</td>\n",
       "      <td>-0.526721</td>\n",
       "    </tr>\n",
       "    <tr>\n",
       "      <th>410</th>\n",
       "      <td>sunshine</td>\n",
       "      <td>you</td>\n",
       "      <td>4</td>\n",
       "      <td>-0.572201</td>\n",
       "    </tr>\n",
       "    <tr>\n",
       "      <th>8</th>\n",
       "      <td>sunshine</td>\n",
       "      <td>me</td>\n",
       "      <td>1</td>\n",
       "      <td>-1.254160</td>\n",
       "    </tr>\n",
       "  </tbody>\n",
       "</table>\n",
       "<p>773 rows × 4 columns</p>\n",
       "</div>"
      ],
      "text/plain": [
       "      keyword  collocate raw_frequency        MI\n",
       "92   sunshine       lapt             1  9.926476\n",
       "726  sunshine  grateless             1  9.926476\n",
       "176  sunshine      slurs             1  9.233329\n",
       "13   sunshine   wheriver             1  9.233329\n",
       "718  sunshine  mayonaise             1  9.233329\n",
       "..        ...        ...           ...       ...\n",
       "275  sunshine       were             2 -0.163138\n",
       "110  sunshine        not             4 -0.184615\n",
       "633  sunshine         up             1 -0.526721\n",
       "410  sunshine        you             4 -0.572201\n",
       "8    sunshine         me             1 -1.254160\n",
       "\n",
       "[773 rows x 4 columns]"
      ]
     },
     "execution_count": 5,
     "metadata": {},
     "output_type": "execute_result"
    }
   ],
   "source": [
    "collocates_df"
   ]
  }
 ],
 "metadata": {
  "kernelspec": {
   "display_name": "lang101",
   "language": "python",
   "name": "lang101"
  },
  "language_info": {
   "codemirror_mode": {
    "name": "ipython",
    "version": 3
   },
   "file_extension": ".py",
   "mimetype": "text/x-python",
   "name": "python",
   "nbconvert_exporter": "python",
   "pygments_lexer": "ipython3",
   "version": "3.6.9"
  }
 },
 "nbformat": 4,
 "nbformat_minor": 4
}
