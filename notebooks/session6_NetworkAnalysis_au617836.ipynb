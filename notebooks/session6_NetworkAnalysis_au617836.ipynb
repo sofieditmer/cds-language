{
 "cells": [
  {
   "cell_type": "markdown",
   "metadata": {},
   "source": [
    "# Network Analysis"
   ]
  },
  {
   "cell_type": "markdown",
   "metadata": {},
   "source": [
    "__Libraries__"
   ]
  },
  {
   "cell_type": "code",
   "execution_count": 2,
   "metadata": {},
   "outputs": [],
   "source": [
    "# system tools\n",
    "import os\n",
    "\n",
    "# data analysis\n",
    "import pandas as pd\n",
    "from tqdm import tqdm # the feedback tool so we can see progression when iterating over pandas objects\n",
    "\n",
    "# NLP\n",
    "import spacy\n",
    "nlp = spacy.load(\"en_core_web_sm\")"
   ]
  },
  {
   "cell_type": "markdown",
   "metadata": {},
   "source": [
    "__Read data__"
   ]
  },
  {
   "cell_type": "code",
   "execution_count": 3,
   "metadata": {},
   "outputs": [],
   "source": [
    "input_file = os.path.join(\"..\", \"data\", \"labelled_data\", \"fake_or_real_news.csv\")"
   ]
  },
  {
   "cell_type": "code",
   "execution_count": 4,
   "metadata": {},
   "outputs": [],
   "source": [
    "data = pd.read_csv(input_file)"
   ]
  },
  {
   "cell_type": "code",
   "execution_count": 5,
   "metadata": {
    "scrolled": true
   },
   "outputs": [
    {
     "data": {
      "text/html": [
       "<div>\n",
       "<style scoped>\n",
       "    .dataframe tbody tr th:only-of-type {\n",
       "        vertical-align: middle;\n",
       "    }\n",
       "\n",
       "    .dataframe tbody tr th {\n",
       "        vertical-align: top;\n",
       "    }\n",
       "\n",
       "    .dataframe thead th {\n",
       "        text-align: right;\n",
       "    }\n",
       "</style>\n",
       "<table border=\"1\" class=\"dataframe\">\n",
       "  <thead>\n",
       "    <tr style=\"text-align: right;\">\n",
       "      <th></th>\n",
       "      <th>Unnamed: 0</th>\n",
       "      <th>title</th>\n",
       "      <th>text</th>\n",
       "      <th>label</th>\n",
       "    </tr>\n",
       "  </thead>\n",
       "  <tbody>\n",
       "    <tr>\n",
       "      <th>2311</th>\n",
       "      <td>401</td>\n",
       "      <td>Hillary Clinton's first test</td>\n",
       "      <td>“We obviously spoke about my passion and his p...</td>\n",
       "      <td>REAL</td>\n",
       "    </tr>\n",
       "    <tr>\n",
       "      <th>1776</th>\n",
       "      <td>9798</td>\n",
       "      <td>Comment on She’s fit to be President! Hillary ...</td>\n",
       "      <td>February 4, 2016, in Charleston, SC. \\nAnd thi...</td>\n",
       "      <td>FAKE</td>\n",
       "    </tr>\n",
       "    <tr>\n",
       "      <th>5263</th>\n",
       "      <td>7235</td>\n",
       "      <td>French Jews urged to rally over UNESCO resolut...</td>\n",
       "      <td>October 28, 2016 French Jews urged to rally ov...</td>\n",
       "      <td>FAKE</td>\n",
       "    </tr>\n",
       "    <tr>\n",
       "      <th>5726</th>\n",
       "      <td>5523</td>\n",
       "      <td>A Pimp Just Revealed Trump Also Raped 12-Year-...</td>\n",
       "      <td>Comments \\nRepublican nominee Donald Trump is ...</td>\n",
       "      <td>FAKE</td>\n",
       "    </tr>\n",
       "    <tr>\n",
       "      <th>5167</th>\n",
       "      <td>25</td>\n",
       "      <td>Planned Parenthood gets over $500 million annu...</td>\n",
       "      <td>Republican legislators have repeatedly tried t...</td>\n",
       "      <td>REAL</td>\n",
       "    </tr>\n",
       "    <tr>\n",
       "      <th>5581</th>\n",
       "      <td>6800</td>\n",
       "      <td>Automation: Robots from Korea to America Are R...</td>\n",
       "      <td></td>\n",
       "      <td>FAKE</td>\n",
       "    </tr>\n",
       "    <tr>\n",
       "      <th>670</th>\n",
       "      <td>10061</td>\n",
       "      <td>Manny Pacquiao's Son Dead? Report Says Jimuel ...</td>\n",
       "      <td>Continue Scroll down to preview in browser Man...</td>\n",
       "      <td>FAKE</td>\n",
       "    </tr>\n",
       "    <tr>\n",
       "      <th>4313</th>\n",
       "      <td>1468</td>\n",
       "      <td>Dem insiders: Sanders failed to dent Clinton</td>\n",
       "      <td>Killing Obama administration rules, dismantlin...</td>\n",
       "      <td>REAL</td>\n",
       "    </tr>\n",
       "    <tr>\n",
       "      <th>3455</th>\n",
       "      <td>4947</td>\n",
       "      <td>Stronger together? Yes, Mrs. Clinton, but what...</td>\n",
       "      <td>Hillary Clinton and the Democrats say America ...</td>\n",
       "      <td>REAL</td>\n",
       "    </tr>\n",
       "    <tr>\n",
       "      <th>1128</th>\n",
       "      <td>5165</td>\n",
       "      <td>Donald Trump's Problems Are Much Deeper Than A...</td>\n",
       "      <td>Donald Trump's Problems Are Much Deeper Than A...</td>\n",
       "      <td>REAL</td>\n",
       "    </tr>\n",
       "  </tbody>\n",
       "</table>\n",
       "</div>"
      ],
      "text/plain": [
       "      Unnamed: 0                                              title  \\\n",
       "2311         401                       Hillary Clinton's first test   \n",
       "1776        9798  Comment on She’s fit to be President! Hillary ...   \n",
       "5263        7235  French Jews urged to rally over UNESCO resolut...   \n",
       "5726        5523  A Pimp Just Revealed Trump Also Raped 12-Year-...   \n",
       "5167          25  Planned Parenthood gets over $500 million annu...   \n",
       "5581        6800  Automation: Robots from Korea to America Are R...   \n",
       "670        10061  Manny Pacquiao's Son Dead? Report Says Jimuel ...   \n",
       "4313        1468       Dem insiders: Sanders failed to dent Clinton   \n",
       "3455        4947  Stronger together? Yes, Mrs. Clinton, but what...   \n",
       "1128        5165  Donald Trump's Problems Are Much Deeper Than A...   \n",
       "\n",
       "                                                   text label  \n",
       "2311  “We obviously spoke about my passion and his p...  REAL  \n",
       "1776  February 4, 2016, in Charleston, SC. \\nAnd thi...  FAKE  \n",
       "5263  October 28, 2016 French Jews urged to rally ov...  FAKE  \n",
       "5726  Comments \\nRepublican nominee Donald Trump is ...  FAKE  \n",
       "5167  Republican legislators have repeatedly tried t...  REAL  \n",
       "5581                                                     FAKE  \n",
       "670   Continue Scroll down to preview in browser Man...  FAKE  \n",
       "4313  Killing Obama administration rules, dismantlin...  REAL  \n",
       "3455  Hillary Clinton and the Democrats say America ...  REAL  \n",
       "1128  Donald Trump's Problems Are Much Deeper Than A...  REAL  "
      ]
     },
     "execution_count": 5,
     "metadata": {},
     "output_type": "execute_result"
    }
   ],
   "source": [
    "data.sample(10)"
   ]
  },
  {
   "cell_type": "markdown",
   "metadata": {},
   "source": [
    "Now we want to take only the real news. "
   ]
  },
  {
   "cell_type": "code",
   "execution_count": 6,
   "metadata": {},
   "outputs": [],
   "source": [
    "real_df = data[data[\"label\"]==\"REAL\"][\"text\"] # whenever the text is real we want to extract the text column"
   ]
  },
  {
   "cell_type": "code",
   "execution_count": 7,
   "metadata": {
    "scrolled": true
   },
   "outputs": [
    {
     "data": {
      "text/plain": [
       "2       U.S. Secretary of State John F. Kerry said Mon...\n",
       "4       It's primary day in New York and front-runners...\n",
       "7       A Czech stockbroker who saved more than 650 Je...\n",
       "8       Hillary Clinton and Donald Trump made some ina...\n",
       "9       Iranian negotiators reportedly have made a las...\n",
       "                              ...                        \n",
       "6324    Most conservatives who oppose marriage equalit...\n",
       "6327    The freshman senator from Georgia quoted scrip...\n",
       "6330    The State Department told the Republican Natio...\n",
       "6333    ADDIS ABABA, Ethiopia —President Obama convene...\n",
       "6334    Jeb Bush Is Suddenly Attacking Trump. Here's W...\n",
       "Name: text, Length: 3171, dtype: object"
      ]
     },
     "execution_count": 7,
     "metadata": {},
     "output_type": "execute_result"
    }
   ],
   "source": [
    "real_df # now we have all of the real news articles"
   ]
  },
  {
   "cell_type": "markdown",
   "metadata": {},
   "source": [
    "## Extract named entities"
   ]
  },
  {
   "cell_type": "markdown",
   "metadata": {},
   "source": [
    "Now we are going to take the text column and extract named entities from that column. We want to look at the documents individually and not as batches."
   ]
  },
  {
   "cell_type": "code",
   "execution_count": 8,
   "metadata": {},
   "outputs": [
    {
     "name": "stderr",
     "output_type": "stream",
     "text": [
      "100%|██████████| 3171/3171 [08:19<00:00,  6.35it/s]\n"
     ]
    }
   ],
   "source": [
    "# Creating a new list\n",
    "doc_entities = []\n",
    "\n",
    "# for every real news \n",
    "for post in tqdm(real_df):\n",
    "    # create a temporary list\n",
    "    tmp_list = []\n",
    "    # create spaCy doc object \n",
    "    doc = nlp(post)\n",
    "    # for every named entity in the doc\n",
    "    for entity in doc.ents: # .ents means that we extract the named entities\n",
    "        if entity.label_ == \"PERSON\":\n",
    "            tmp_list.append(entity.text)\n",
    "            \n",
    "    # add tmp_list to main lsit\n",
    "    doc_entities.append(tmp_list)"
   ]
  },
  {
   "cell_type": "markdown",
   "metadata": {},
   "source": [
    "Now we have a list that contains sublist. Each sublist is the named entities people which appear in a particular document. "
   ]
  },
  {
   "cell_type": "code",
   "execution_count": 13,
   "metadata": {
    "scrolled": false
   },
   "outputs": [
    {
     "data": {
      "text/plain": [
       "['John F. Kerry',\n",
       " 'Laurent Fabius',\n",
       " 'Francois Hollande',\n",
       " 'Kerry',\n",
       " 'Obama',\n",
       " 'Kerry',\n",
       " 'Kerry',\n",
       " 'Benjamin Netanyahu',\n",
       " 'Jane Hartley',\n",
       " 'Victoria Nuland',\n",
       " 'Eric H. Holder Jr.',\n",
       " 'Narendra Modi',\n",
       " 'Kerry']"
      ]
     },
     "execution_count": 13,
     "metadata": {},
     "output_type": "execute_result"
    }
   ],
   "source": [
    "# Taking the first sublist\n",
    "doc_entities[0]"
   ]
  },
  {
   "cell_type": "code",
   "execution_count": 14,
   "metadata": {},
   "outputs": [
    {
     "data": {
      "text/plain": [
       "[['John F. Kerry',\n",
       "  'Laurent Fabius',\n",
       "  'Francois Hollande',\n",
       "  'Kerry',\n",
       "  'Obama',\n",
       "  'Kerry',\n",
       "  'Kerry',\n",
       "  'Benjamin Netanyahu',\n",
       "  'Jane Hartley',\n",
       "  'Victoria Nuland',\n",
       "  'Eric H. Holder Jr.',\n",
       "  'Narendra Modi',\n",
       "  'Kerry'],\n",
       " ['Hillary Clinton',\n",
       "  'Donald Trump',\n",
       "  'Ted Cruz',\n",
       "  'Bernie Sanders',\n",
       "  'D-Vt.',\n",
       "  'John Kasich',\n",
       "  'Clinton',\n",
       "  'Trump',\n",
       "  'Clinton',\n",
       "  'Cruz',\n",
       "  'Cruz',\n",
       "  'Hillary',\n",
       "  'Hillary',\n",
       "  'Hillary',\n",
       "  'Cruz',\n",
       "  'Kasich',\n",
       "  'Clinton'],\n",
       " ['Dubbed', 'Nicholas Winton', 'Queen Elizabeth II'],\n",
       " ['Hillary Clinton',\n",
       "  'Donald Trump',\n",
       "  'Clinton',\n",
       "  'Trump',\n",
       "  'Trump',\n",
       "  'Obama',\n",
       "  'Trump',\n",
       "  'Clinton',\n",
       "  'Clinton',\n",
       "  'Moammar Gadhafi',\n",
       "  'Clinton',\n",
       "  'Clinton',\n",
       "  'Clinton',\n",
       "  'Matt Lauer',\n",
       "  'Clinton',\n",
       "  'Trump',\n",
       "  'Howard Stern',\n",
       "  'Trump',\n",
       "  'Clinton',\n",
       "  'Clinton',\n",
       "  'Clinton',\n",
       "  'Neil Cavuto',\n",
       "  'Cavuto',\n",
       "  'Trump',\n",
       "  'Chris Matthews',\n",
       "  'Joe Scarborough',\n",
       "  'Donald Trump',\n",
       "  'Obama',\n",
       "  'George W. Bush',\n",
       "  'Matt Lauer',\n",
       "  'Bush',\n",
       "  'Bush',\n",
       "  'Condoleezza Rice',\n",
       "  'Bush',\n",
       "  'Bush',\n",
       "  'Nouri al-Maliki',\n",
       "  'Leon Panetta',\n",
       "  'Maliki',\n",
       "  'Raul Castro',\n",
       "  'Salman',\n",
       "  'Ronald Reagan',\n",
       "  'Reagan',\n",
       "  'Helmut Kohl',\n",
       "  'Glenn Kessler',\n",
       "  'Kessler',\n",
       "  'Richard Nixon',\n",
       "  'Zhou Enlai',\n",
       "  'Mao',\n",
       "  'Nixon',\n",
       "  'Clinton',\n",
       "  'Clinton',\n",
       "  'Obama',\n",
       "  'Trump',\n",
       "  'Clinton',\n",
       "  'Moammar Gadhafi',\n",
       "  'Lauer',\n",
       "  'Ted Cruz',\n",
       "  'Gadhafi',\n",
       "  'Clinton',\n",
       "  'Gadhafi',\n",
       "  'Clinton',\n",
       "  'Clinton',\n",
       "  'Clinton',\n",
       "  'Clinton',\n",
       "  'Clinton',\n",
       "  'Clinton',\n",
       "  'Rachel Maddow',\n",
       "  'Maddow',\n",
       "  'Maddow',\n",
       "  'Clinton',\n",
       "  'Clinton',\n",
       "  'Clinton',\n",
       "  'Clinton',\n",
       "  'Clinton',\n",
       "  'Clinton',\n",
       "  'Clinton',\n",
       "  'Clinton',\n",
       "  'Clinton',\n",
       "  'Clinton',\n",
       "  'Clinton'],\n",
       " ['Obama',\n",
       "  'Olli Heinonen',\n",
       "  'John Kerry',\n",
       "  'Edward Kennedy',\n",
       "  'Laurent Fabius',\n",
       "  'Frank-Walter Steinmeier',\n",
       "  'Mohammad Javad Zarif']]"
      ]
     },
     "execution_count": 14,
     "metadata": {},
     "output_type": "execute_result"
    }
   ],
   "source": [
    "# Looking at the first five sublists\n",
    "doc_entities[:5]\n",
    "# Hence, now we have a list of the entities that are named in each document (each documnet is a list)"
   ]
  },
  {
   "cell_type": "markdown",
   "metadata": {},
   "source": [
    "Now we want to create an edgelist showing the edges between these named entities (nodes)."
   ]
  },
  {
   "cell_type": "markdown",
   "metadata": {},
   "source": [
    "## Create edgelist using ```itertools.combinations()```"
   ]
  },
  {
   "cell_type": "code",
   "execution_count": 9,
   "metadata": {},
   "outputs": [],
   "source": [
    "from itertools import combinations"
   ]
  },
  {
   "cell_type": "code",
   "execution_count": 10,
   "metadata": {},
   "outputs": [],
   "source": [
    "# Create an empty edgelist\n",
    "edgelist = []\n",
    "\n",
    "# Iterate over every document \n",
    "for doc in doc_entities:\n",
    "    # Create list that pairs the combination in the document\n",
    "    edges = list(combinations(doc, 2)) # this gives us the possible combinations of pairs (which is why we say 2)\n",
    "    # For each combination (i.e. each pair of nodes) \n",
    "    for edge in edges:\n",
    "        # Append this to final edgelist\n",
    "        edgelist.append(tuple(sorted(edge))) # we use sorted() to return the tuples in an ordered way. Because we are working with an undirected network we get duplicates of pairs, and when we use sorted() we order the entries in the tuple to order them in alphabetic order. "
   ]
  },
  {
   "cell_type": "markdown",
   "metadata": {},
   "source": [
    "Now we have created one long edgelist of edge pairs. "
   ]
  },
  {
   "cell_type": "code",
   "execution_count": 20,
   "metadata": {},
   "outputs": [
    {
     "data": {
      "text/plain": [
       "1290248"
      ]
     },
     "execution_count": 20,
     "metadata": {},
     "output_type": "execute_result"
    }
   ],
   "source": [
    "len(edgelist)\n",
    "# About 1.300.000 edges"
   ]
  },
  {
   "cell_type": "code",
   "execution_count": 19,
   "metadata": {
    "scrolled": false
   },
   "outputs": [
    {
     "data": {
      "text/plain": [
       "[('John F. Kerry', 'Laurent Fabius'),\n",
       " ('Francois Hollande', 'John F. Kerry'),\n",
       " ('John F. Kerry', 'Kerry'),\n",
       " ('John F. Kerry', 'Obama'),\n",
       " ('John F. Kerry', 'Kerry'),\n",
       " ('John F. Kerry', 'Kerry'),\n",
       " ('Benjamin Netanyahu', 'John F. Kerry'),\n",
       " ('Jane Hartley', 'John F. Kerry'),\n",
       " ('John F. Kerry', 'Victoria Nuland'),\n",
       " ('Eric H. Holder Jr.', 'John F. Kerry')]"
      ]
     },
     "execution_count": 19,
     "metadata": {},
     "output_type": "execute_result"
    }
   ],
   "source": [
    "# Looking at the first 10 pairs\n",
    "edgelist[:10]"
   ]
  },
  {
   "cell_type": "markdown",
   "metadata": {},
   "source": [
    "## Counting Edges"
   ]
  },
  {
   "cell_type": "markdown",
   "metadata": {},
   "source": [
    "Now we want to take the edgelist with over 1 million edges, and we want to use that to create a weighted edegelist using a counter."
   ]
  },
  {
   "cell_type": "code",
   "execution_count": 11,
   "metadata": {},
   "outputs": [],
   "source": [
    "# Import counter function. The Counter takes a list and coutns how often each entity appears\n",
    "from collections import Counter"
   ]
  },
  {
   "cell_type": "code",
   "execution_count": 12,
   "metadata": {
    "scrolled": true
   },
   "outputs": [
    {
     "data": {
      "text/plain": [
       "[(('Clinton', 'Clinton'), 67546),\n",
       " (('Clinton', 'Hillary Clinton'), 14714),\n",
       " (('Bush', 'Bush'), 12244),\n",
       " (('Clinton', 'Trump'), 10984),\n",
       " (('Cruz', 'Cruz'), 10088),\n",
       " (('Clinton', 'Donald Trump'), 8819),\n",
       " (('Clinton', 'Hillary'), 6956),\n",
       " (('Bernie Sanders', 'Clinton'), 6483),\n",
       " (('Bill Clinton', 'Clinton'), 5653),\n",
       " (('Clinton', 'Clintons'), 5256)]"
      ]
     },
     "execution_count": 12,
     "metadata": {},
     "output_type": "execute_result"
    }
   ],
   "source": [
    "# Count all edges in edgelist and return the 10 most common edges\n",
    "Counter(edgelist).most_common(10)"
   ]
  },
  {
   "cell_type": "markdown",
   "metadata": {},
   "source": [
    "Now we want to loop over the edges in the edgelist and create a dataframe. We want to know how often the pairs of nodes appear together which is a measure of \"weight\" (the strenght of edge between the nodes)"
   ]
  },
  {
   "cell_type": "code",
   "execution_count": 13,
   "metadata": {},
   "outputs": [],
   "source": [
    "counted_edges = []\n",
    "\n",
    "# Cor every pair in the edgelist\n",
    "for pair, weight in Counter(edgelist).items(): # with the .items() we get a simple sequence that Python can iterate over (Python cannot iterate over a dictionary) \n",
    "    nodeA = pair[0]\n",
    "    nodeB = pair[1]\n",
    "    weight = weight # weight = how frequently any pair of nodes occur. The frequencies are across the entire corpus and not the single document\n",
    "    counted_edges.append((nodeA, nodeB, weight))"
   ]
  },
  {
   "cell_type": "code",
   "execution_count": 26,
   "metadata": {
    "scrolled": true
   },
   "outputs": [
    {
     "data": {
      "text/plain": [
       "[('John F. Kerry', 'Laurent Fabius', 2),\n",
       " ('Francois Hollande', 'John F. Kerry', 1),\n",
       " ('John F. Kerry', 'Kerry', 19),\n",
       " ('John F. Kerry', 'Obama', 26),\n",
       " ('Benjamin Netanyahu', 'John F. Kerry', 7),\n",
       " ('Jane Hartley', 'John F. Kerry', 1),\n",
       " ('John F. Kerry', 'Victoria Nuland', 1),\n",
       " ('Eric H. Holder Jr.', 'John F. Kerry', 1),\n",
       " ('John F. Kerry', 'Narendra Modi', 1),\n",
       " ('Francois Hollande', 'Laurent Fabius', 1),\n",
       " ('Kerry', 'Laurent Fabius', 9),\n",
       " ('Laurent Fabius', 'Obama', 6),\n",
       " ('Benjamin Netanyahu', 'Laurent Fabius', 4),\n",
       " ('Jane Hartley', 'Laurent Fabius', 1),\n",
       " ('Laurent Fabius', 'Victoria Nuland', 1),\n",
       " ('Eric H. Holder Jr.', 'Laurent Fabius', 1),\n",
       " ('Laurent Fabius', 'Narendra Modi', 1),\n",
       " ('Francois Hollande', 'Kerry', 12),\n",
       " ('Francois Hollande', 'Obama', 12),\n",
       " ('Benjamin Netanyahu', 'Francois Hollande', 3)]"
      ]
     },
     "execution_count": 26,
     "metadata": {},
     "output_type": "execute_result"
    }
   ],
   "source": [
    "# Looking at the first 20 in the edgelist\n",
    "counted_edges[:20]\n",
    "# We can see how often the pairs occur which is the weight "
   ]
  },
  {
   "cell_type": "code",
   "execution_count": 27,
   "metadata": {
    "scrolled": true
   },
   "outputs": [
    {
     "data": {
      "text/plain": [
       "288614"
      ]
     },
     "execution_count": 27,
     "metadata": {},
     "output_type": "execute_result"
    }
   ],
   "source": [
    "len(counted_edges)\n",
    "# While the original edgelist was over 1 million, the counted edgelist is only about 300.000 because we have weighted it and taken into account how often the pairs occur"
   ]
  },
  {
   "cell_type": "markdown",
   "metadata": {},
   "source": [
    "## Create dataframe"
   ]
  },
  {
   "cell_type": "code",
   "execution_count": 15,
   "metadata": {},
   "outputs": [],
   "source": [
    "edges_df = pd.DataFrame(counted_edges, columns = [\"nodeA\", \"nodeB\", \"weight\"])"
   ]
  },
  {
   "cell_type": "code",
   "execution_count": 31,
   "metadata": {
    "scrolled": true
   },
   "outputs": [
    {
     "data": {
      "text/html": [
       "<div>\n",
       "<style scoped>\n",
       "    .dataframe tbody tr th:only-of-type {\n",
       "        vertical-align: middle;\n",
       "    }\n",
       "\n",
       "    .dataframe tbody tr th {\n",
       "        vertical-align: top;\n",
       "    }\n",
       "\n",
       "    .dataframe thead th {\n",
       "        text-align: right;\n",
       "    }\n",
       "</style>\n",
       "<table border=\"1\" class=\"dataframe\">\n",
       "  <thead>\n",
       "    <tr style=\"text-align: right;\">\n",
       "      <th></th>\n",
       "      <th>nodeA</th>\n",
       "      <th>nodeB</th>\n",
       "      <th>weight</th>\n",
       "    </tr>\n",
       "  </thead>\n",
       "  <tbody>\n",
       "    <tr>\n",
       "      <th>84999</th>\n",
       "      <td>Elizabeth Warren</td>\n",
       "      <td>Hudson</td>\n",
       "      <td>1</td>\n",
       "    </tr>\n",
       "    <tr>\n",
       "      <th>26550</th>\n",
       "      <td>Carter</td>\n",
       "      <td>William Kristol</td>\n",
       "      <td>1</td>\n",
       "    </tr>\n",
       "    <tr>\n",
       "      <th>236277</th>\n",
       "      <td>Anthony Weiner</td>\n",
       "      <td>Schultz</td>\n",
       "      <td>1</td>\n",
       "    </tr>\n",
       "    <tr>\n",
       "      <th>86086</th>\n",
       "      <td>Scott Roeder</td>\n",
       "      <td>Tiller</td>\n",
       "      <td>2</td>\n",
       "    </tr>\n",
       "    <tr>\n",
       "      <th>149557</th>\n",
       "      <td>Michelle Obama</td>\n",
       "      <td>Steve Harvey</td>\n",
       "      <td>1</td>\n",
       "    </tr>\n",
       "    <tr>\n",
       "      <th>34327</th>\n",
       "      <td>Clinton</td>\n",
       "      <td>Roger Stone</td>\n",
       "      <td>70</td>\n",
       "    </tr>\n",
       "    <tr>\n",
       "      <th>17609</th>\n",
       "      <td>Bill Clinton’s</td>\n",
       "      <td>Elizabeth Warren</td>\n",
       "      <td>6</td>\n",
       "    </tr>\n",
       "    <tr>\n",
       "      <th>23199</th>\n",
       "      <td>Clinton</td>\n",
       "      <td>Greg Jaffe</td>\n",
       "      <td>38</td>\n",
       "    </tr>\n",
       "    <tr>\n",
       "      <th>274091</th>\n",
       "      <td>Bill Weld</td>\n",
       "      <td>John McAfee</td>\n",
       "      <td>1</td>\n",
       "    </tr>\n",
       "    <tr>\n",
       "      <th>38565</th>\n",
       "      <td>Joyce Barr</td>\n",
       "      <td>Mount Hermon</td>\n",
       "      <td>1</td>\n",
       "    </tr>\n",
       "  </tbody>\n",
       "</table>\n",
       "</div>"
      ],
      "text/plain": [
       "                   nodeA             nodeB  weight\n",
       "84999   Elizabeth Warren            Hudson       1\n",
       "26550             Carter   William Kristol       1\n",
       "236277    Anthony Weiner           Schultz       1\n",
       "86086       Scott Roeder            Tiller       2\n",
       "149557    Michelle Obama      Steve Harvey       1\n",
       "34327            Clinton       Roger Stone      70\n",
       "17609     Bill Clinton’s  Elizabeth Warren       6\n",
       "23199            Clinton        Greg Jaffe      38\n",
       "274091         Bill Weld       John McAfee       1\n",
       "38565         Joyce Barr      Mount Hermon       1"
      ]
     },
     "execution_count": 31,
     "metadata": {},
     "output_type": "execute_result"
    }
   ],
   "source": [
    "edges_df.sample(10)"
   ]
  },
  {
   "cell_type": "markdown",
   "metadata": {},
   "source": [
    "Now we have a dataframe of the edges and the weight of the edges.\n",
    "Now we want to filter the dataframe based on how chosen weights. "
   ]
  },
  {
   "cell_type": "code",
   "execution_count": 33,
   "metadata": {
    "scrolled": true
   },
   "outputs": [],
   "source": [
    "filtered_df = edges_df[edges_df[\"weight\"] > 500]"
   ]
  },
  {
   "cell_type": "markdown",
   "metadata": {},
   "source": [
    "Now we have taken only the edges that occur over 500 times (they have a weight greater than 500). Now we have only 169 pairs. "
   ]
  },
  {
   "cell_type": "markdown",
   "metadata": {},
   "source": [
    "## Create Network"
   ]
  },
  {
   "cell_type": "code",
   "execution_count": 37,
   "metadata": {},
   "outputs": [],
   "source": [
    "import networkx as nx\n",
    "import matplotlib.pyplot as plt"
   ]
  },
  {
   "cell_type": "code",
   "execution_count": 38,
   "metadata": {},
   "outputs": [],
   "source": [
    "# To create a network graph (G) we take the edgelist, the nodes and the weight and create a graph\n",
    "G = nx.from_pandas_edgelist(filtered_df, \"nodeA\", \"nodeB\", [\"weight\"])"
   ]
  },
  {
   "cell_type": "code",
   "execution_count": 39,
   "metadata": {},
   "outputs": [],
   "source": [
    "# Plot the graph with networkx\n",
    "pos = nx.nx_agraph.graphviz_layout(G, prog = \"neato\")\n",
    "# pos means \"position\" "
   ]
  },
  {
   "cell_type": "code",
   "execution_count": 40,
   "metadata": {
    "scrolled": false
   },
   "outputs": [
    {
     "data": {
      "image/png": "[encoded data removed]",
      "text/plain": [
       "<Figure size 432x288 with 1 Axes>"
      ]
     },
     "metadata": {},
     "output_type": "display_data"
    }
   ],
   "source": [
    "# Draw it with labels\n",
    "nx.draw(G, pos, with_labels = True, node_size = 20, font_size = 10)"
   ]
  },
  {
   "cell_type": "code",
   "execution_count": 42,
   "metadata": {},
   "outputs": [
    {
     "data": {
      "image/png": "[encoded data removed]",
      "text/plain": [
       "<Figure size 432x288 with 1 Axes>"
      ]
     },
     "metadata": {},
     "output_type": "display_data"
    }
   ],
   "source": [
    "# Draw it without labels\n",
    "nx.draw(G, pos, with_labels = False, node_size = 20, font_size = 10)"
   ]
  },
  {
   "cell_type": "code",
   "execution_count": 55,
   "metadata": {
    "scrolled": true
   },
   "outputs": [
    {
     "data": {
      "text/plain": [
       "<Figure size 432x288 with 0 Axes>"
      ]
     },
     "metadata": {},
     "output_type": "display_data"
    }
   ],
   "source": [
    "# Save using matplotlib\n",
    "plt.savefig(\"network.png\", dpi = 300, bbox_inches = \"tight\")"
   ]
  },
  {
   "cell_type": "markdown",
   "metadata": {},
   "source": [
    "This network visualization demonstrates the problem with visualization of networks - we cannot infer much when we are working with large networks. "
   ]
  },
  {
   "cell_type": "markdown",
   "metadata": {},
   "source": [
    "## Calculating centrality measures"
   ]
  },
  {
   "cell_type": "code",
   "execution_count": 43,
   "metadata": {},
   "outputs": [],
   "source": [
    "# Betweenness centrality\n",
    "bc_metric = nx.betweenness_centrality(G)\n",
    "\n",
    "# Eigenvector centrality\n",
    "ev_metric = nx.eigenvector_centrality(G)"
   ]
  },
  {
   "cell_type": "code",
   "execution_count": 44,
   "metadata": {
    "scrolled": false
   },
   "outputs": [
    {
     "data": {
      "text/plain": [
       "dict"
      ]
     },
     "execution_count": 44,
     "metadata": {},
     "output_type": "execute_result"
    }
   ],
   "source": [
    "type(bc_metric)"
   ]
  },
  {
   "cell_type": "code",
   "execution_count": 45,
   "metadata": {
    "scrolled": true
   },
   "outputs": [
    {
     "data": {
      "text/plain": [
       "dict"
      ]
     },
     "execution_count": 45,
     "metadata": {},
     "output_type": "execute_result"
    }
   ],
   "source": [
    "type(ev_metric)"
   ]
  },
  {
   "cell_type": "code",
   "execution_count": 46,
   "metadata": {
    "scrolled": false
   },
   "outputs": [
    {
     "data": {
      "text/plain": [
       "{'Donald Trump': 0.011801242236024845,\n",
       " 'Hillary Clinton': 0.006564398334584669,\n",
       " 'Ted Cruz': 3.981525720656155e-05,\n",
       " 'Bernie Sanders': 0.0,\n",
       " 'Clinton': 0.7326115395991173,\n",
       " 'Trump': 0.020877983300343586,\n",
       " 'Cruz': 0.034759288330716884,\n",
       " 'Hillary': 0.001475439674197438,\n",
       " 'Kasich': 0.0,\n",
       " 'John Kasich': 0.0,\n",
       " 'Obama': 0.0,\n",
       " 'Bush': 0.08769367278684047,\n",
       " 'George W. Bush': 0.0,\n",
       " 'Reagan': 0.0,\n",
       " 'Richard Nixon': 0.0,\n",
       " 'Bill Clinton': 0.0,\n",
       " 'Bill': 0.0,\n",
       " 'John McCain': 0.0,\n",
       " 'Jeb Bush': 0.0,\n",
       " 'Barack Obama': 0.0,\n",
       " 'McConnell': 0.0,\n",
       " 'Joe Biden': 0.0,\n",
       " 'Elizabeth Warren': 0.0,\n",
       " 'Paul Ryan': 0.0,\n",
       " 'Ryan': 0.07566889632107023,\n",
       " 'Marco Rubio': 0.0,\n",
       " 'Romney': 0.0,\n",
       " 'Hillary Rodham Clinton': 0.0,\n",
       " 'Biden': 0.0,\n",
       " 'Warren': 0.0,\n",
       " 'Boehner': 0.058050645007166744,\n",
       " 'John Boehner': 0.0,\n",
       " 'Sanders': 0.0,\n",
       " \"Hillary Clinton's\": 0.0,\n",
       " \"Donald Trump's\": 0.0,\n",
       " 'Mateen': 0.0,\n",
       " 'Paul': 0.019589106545628284,\n",
       " 'Rand Paul': 0.0,\n",
       " 'Stevens': 0.0,\n",
       " 'Ben Carson': 0.0,\n",
       " 'Carson': 0.0,\n",
       " 'Jeb': 0.0,\n",
       " 'Chris Christie': 0.0,\n",
       " 'Johnson': 0.0,\n",
       " 'Wasserman Schultz': 0.0,\n",
       " 'Fiorina': 0.0,\n",
       " 'Bernie': 0.0,\n",
       " 'Clintons': 7.96305144131231e-05,\n",
       " 'Whitewater': 0.0,\n",
       " 'Monica Lewinsky': 0.0,\n",
       " 'Lewinsky': 0.0,\n",
       " 'Osama bin Laden': 0.0,\n",
       " 'Blackberry': 0.0,\n",
       " 'Scalia': 0.0,\n",
       " 'Robby Mook': 0.0,\n",
       " 'Politico': 0.0,\n",
       " 'Kennedy': 0.0,\n",
       " 'Tim Kaine': 0.0,\n",
       " 'Kaine': 0.0,\n",
       " 'Netanyahu': 0.0,\n",
       " 'John Podesta': 0.0,\n",
       " 'Comey': 0.0,\n",
       " 'Michelle Obama': 0.0,\n",
       " 'Mike Pence': 0.0,\n",
       " 'Al Gore': 0.0,\n",
       " 'Vladimir Putin': 0.0,\n",
       " 'Christopher Stevens': 0.0,\n",
       " 'Sidney Blumenthal': 0.0,\n",
       " \"Martin O'Malley\": 0.0,\n",
       " 'Jim Webb': 0.0,\n",
       " 'Putin': 0.0,\n",
       " 'Francis': 0.0,\n",
       " 'McCarthy': 0.0,\n",
       " 'Davis': 0.0,\n",
       " 'Rodham': 0.0,\n",
       " 'BlackBerry': 0.0,\n",
       " 'Sullivan': 0.0,\n",
       " 'Pagliano': 0.0,\n",
       " 'Abedin': 0.019589106545628284,\n",
       " 'Powell': 0.0,\n",
       " 'Marco': 0.0,\n",
       " 'Gowdy': 0.0,\n",
       " 'Blumenthal': 0.0,\n",
       " 'Bannon': 0.0,\n",
       " 'Williams': 0.0,\n",
       " 'Gore': 0.0,\n",
       " 'Murphy': 0.0,\n",
       " 'Tai': 0.0,\n",
       " 'Jordan': 0.0,\n",
       " 'Hillary Rodham': 0.0,\n",
       " 'Huma': 0.0,\n",
       " 'Bergdahl': 0.0,\n",
       " 'Buckley': 0.0}"
      ]
     },
     "execution_count": 46,
     "metadata": {},
     "output_type": "execute_result"
    }
   ],
   "source": [
    "bc_metric"
   ]
  },
  {
   "cell_type": "markdown",
   "metadata": {},
   "source": [
    "Now we have a dictionary with a centrality measure for each node. We can see the problem with not having coreference resolution, because the objects refering to the same person are not counted as one. "
   ]
  },
  {
   "cell_type": "code",
   "execution_count": 52,
   "metadata": {
    "scrolled": true
   },
   "outputs": [
    {
     "data": {
      "text/html": [
       "<div>\n",
       "<style scoped>\n",
       "    .dataframe tbody tr th:only-of-type {\n",
       "        vertical-align: middle;\n",
       "    }\n",
       "\n",
       "    .dataframe tbody tr th {\n",
       "        vertical-align: top;\n",
       "    }\n",
       "\n",
       "    .dataframe thead th {\n",
       "        text-align: right;\n",
       "    }\n",
       "</style>\n",
       "<table border=\"1\" class=\"dataframe\">\n",
       "  <thead>\n",
       "    <tr style=\"text-align: right;\">\n",
       "      <th></th>\n",
       "      <th>node</th>\n",
       "      <th>betweenness</th>\n",
       "    </tr>\n",
       "  </thead>\n",
       "  <tbody>\n",
       "    <tr>\n",
       "      <th>4</th>\n",
       "      <td>Clinton</td>\n",
       "      <td>0.732612</td>\n",
       "    </tr>\n",
       "    <tr>\n",
       "      <th>11</th>\n",
       "      <td>Bush</td>\n",
       "      <td>0.087694</td>\n",
       "    </tr>\n",
       "    <tr>\n",
       "      <th>24</th>\n",
       "      <td>Ryan</td>\n",
       "      <td>0.075669</td>\n",
       "    </tr>\n",
       "    <tr>\n",
       "      <th>30</th>\n",
       "      <td>Boehner</td>\n",
       "      <td>0.058051</td>\n",
       "    </tr>\n",
       "    <tr>\n",
       "      <th>6</th>\n",
       "      <td>Cruz</td>\n",
       "      <td>0.034759</td>\n",
       "    </tr>\n",
       "    <tr>\n",
       "      <th>...</th>\n",
       "      <td>...</td>\n",
       "      <td>...</td>\n",
       "    </tr>\n",
       "    <tr>\n",
       "      <th>34</th>\n",
       "      <td>Donald Trump's</td>\n",
       "      <td>0.000000</td>\n",
       "    </tr>\n",
       "    <tr>\n",
       "      <th>33</th>\n",
       "      <td>Hillary Clinton's</td>\n",
       "      <td>0.000000</td>\n",
       "    </tr>\n",
       "    <tr>\n",
       "      <th>32</th>\n",
       "      <td>Sanders</td>\n",
       "      <td>0.000000</td>\n",
       "    </tr>\n",
       "    <tr>\n",
       "      <th>31</th>\n",
       "      <td>John Boehner</td>\n",
       "      <td>0.000000</td>\n",
       "    </tr>\n",
       "    <tr>\n",
       "      <th>92</th>\n",
       "      <td>Buckley</td>\n",
       "      <td>0.000000</td>\n",
       "    </tr>\n",
       "  </tbody>\n",
       "</table>\n",
       "<p>93 rows × 2 columns</p>\n",
       "</div>"
      ],
      "text/plain": [
       "                 node  betweenness\n",
       "4             Clinton     0.732612\n",
       "11               Bush     0.087694\n",
       "24               Ryan     0.075669\n",
       "30            Boehner     0.058051\n",
       "6                Cruz     0.034759\n",
       "..                ...          ...\n",
       "34     Donald Trump's     0.000000\n",
       "33  Hillary Clinton's     0.000000\n",
       "32            Sanders     0.000000\n",
       "31       John Boehner     0.000000\n",
       "92            Buckley     0.000000\n",
       "\n",
       "[93 rows x 2 columns]"
      ]
     },
     "execution_count": 52,
     "metadata": {},
     "output_type": "execute_result"
    }
   ],
   "source": [
    "# Create a dataframe with the node in one column and the centrality score in another column\n",
    "pd.DataFrame(bc_metric.items(), columns = [\"node\", \"betweenness\"]).sort_values(\"betweenness\", ascending = False)"
   ]
  },
  {
   "cell_type": "markdown",
   "metadata": {},
   "source": [
    "Clinton has the highest betweenness centrality measure. Again, there is a problem with coreference. "
   ]
  },
  {
   "cell_type": "code",
   "execution_count": 54,
   "metadata": {
    "scrolled": true
   },
   "outputs": [
    {
     "data": {
      "text/html": [
       "<div>\n",
       "<style scoped>\n",
       "    .dataframe tbody tr th:only-of-type {\n",
       "        vertical-align: middle;\n",
       "    }\n",
       "\n",
       "    .dataframe tbody tr th {\n",
       "        vertical-align: top;\n",
       "    }\n",
       "\n",
       "    .dataframe thead th {\n",
       "        text-align: right;\n",
       "    }\n",
       "</style>\n",
       "<table border=\"1\" class=\"dataframe\">\n",
       "  <thead>\n",
       "    <tr style=\"text-align: right;\">\n",
       "      <th></th>\n",
       "      <th>node</th>\n",
       "      <th>eigenvector</th>\n",
       "    </tr>\n",
       "  </thead>\n",
       "  <tbody>\n",
       "    <tr>\n",
       "      <th>4</th>\n",
       "      <td>Clinton</td>\n",
       "      <td>5.396411e-01</td>\n",
       "    </tr>\n",
       "    <tr>\n",
       "      <th>11</th>\n",
       "      <td>Bush</td>\n",
       "      <td>2.846430e-01</td>\n",
       "    </tr>\n",
       "    <tr>\n",
       "      <th>5</th>\n",
       "      <td>Trump</td>\n",
       "      <td>2.827424e-01</td>\n",
       "    </tr>\n",
       "    <tr>\n",
       "      <th>0</th>\n",
       "      <td>Donald Trump</td>\n",
       "      <td>2.629741e-01</td>\n",
       "    </tr>\n",
       "    <tr>\n",
       "      <th>6</th>\n",
       "      <td>Cruz</td>\n",
       "      <td>2.522940e-01</td>\n",
       "    </tr>\n",
       "    <tr>\n",
       "      <th>...</th>\n",
       "      <td>...</td>\n",
       "      <td>...</td>\n",
       "    </tr>\n",
       "    <tr>\n",
       "      <th>53</th>\n",
       "      <td>Scalia</td>\n",
       "      <td>2.649137e-17</td>\n",
       "    </tr>\n",
       "    <tr>\n",
       "      <th>73</th>\n",
       "      <td>Davis</td>\n",
       "      <td>2.649137e-17</td>\n",
       "    </tr>\n",
       "    <tr>\n",
       "      <th>71</th>\n",
       "      <td>Francis</td>\n",
       "      <td>2.649137e-17</td>\n",
       "    </tr>\n",
       "    <tr>\n",
       "      <th>70</th>\n",
       "      <td>Putin</td>\n",
       "      <td>2.649137e-17</td>\n",
       "    </tr>\n",
       "    <tr>\n",
       "      <th>92</th>\n",
       "      <td>Buckley</td>\n",
       "      <td>2.649137e-17</td>\n",
       "    </tr>\n",
       "  </tbody>\n",
       "</table>\n",
       "<p>93 rows × 2 columns</p>\n",
       "</div>"
      ],
      "text/plain": [
       "            node   eigenvector\n",
       "4        Clinton  5.396411e-01\n",
       "11          Bush  2.846430e-01\n",
       "5          Trump  2.827424e-01\n",
       "0   Donald Trump  2.629741e-01\n",
       "6           Cruz  2.522940e-01\n",
       "..           ...           ...\n",
       "53        Scalia  2.649137e-17\n",
       "73         Davis  2.649137e-17\n",
       "71       Francis  2.649137e-17\n",
       "70         Putin  2.649137e-17\n",
       "92       Buckley  2.649137e-17\n",
       "\n",
       "[93 rows x 2 columns]"
      ]
     },
     "execution_count": 54,
     "metadata": {},
     "output_type": "execute_result"
    }
   ],
   "source": [
    "# Do the same for eigenvector\n",
    "pd.DataFrame(ev_metric.items(), columns = [\"node\", \"eigenvector\"]).sort_values(\"eigenvector\", ascending = False)"
   ]
  },
  {
   "cell_type": "markdown",
   "metadata": {},
   "source": [
    "When considering eigenvector centrality Trump is suddenly important which he was not with betweenness centrality. "
   ]
  }
 ],
 "metadata": {
  "kernelspec": {
   "display_name": "lang101",
   "language": "python",
   "name": "lang101"
  },
  "language_info": {
   "codemirror_mode": {
    "name": "ipython",
    "version": 3
   },
   "file_extension": ".py",
   "mimetype": "text/x-python",
   "name": "python",
   "nbconvert_exporter": "python",
   "pygments_lexer": "ipython3",
   "version": "3.6.9"
  }
 },
 "nbformat": 4,
 "nbformat_minor": 4
}
