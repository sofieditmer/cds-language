{
 "cells": [
  {
   "cell_type": "markdown",
   "metadata": {},
   "source": [
    "## Assignment 3: Dictionary-Based Sentiment Analysis with Python"
   ]
  },
  {
   "cell_type": "markdown",
   "metadata": {},
   "source": [
    "Download the following CSV file from Kaggle:\n",
    "\n",
    "https://www.kaggle.com/therohk/million-headlines\n",
    "\n",
    "This is a dataset of over a million headlines taken from the Australian news source ABC (Start Date: 2003-02-19 ; End Date: 2020-12-31).\n",
    "\n",
    "Calculate the sentiment score for every headline in the data. You can do this using the spaCyTextBlob approach that we covered in class or any other dictionary-based approach in Python.\n",
    "- Create and save a plot of sentiment over time with a 1-week rolling average\n",
    "- Create and save a plot of sentiment over time with a 1-month rolling average\n",
    "- Make sure that you have clear values on the x-axis and that you include the following: a plot title; labels for the x and y axes; and a legend for the plot\n",
    "- Write a short summary (no more than a paragraph) describing what the two plots show. You should mention the following points: 1) What (if any) are the general trends? 2) What (if any) inferences might you draw from them?\n",
    "\n",
    "__General instructions__\n",
    "- For this assignment, you should upload a standalone .py script which can be executed from the command line.\n",
    "- Save your script as sentiment.py\n",
    "- Make sure to include a requirements.txt file and details about where to find the data\n",
    "- You can either upload the scripts here or push to GitHub and include a link - or both!\n",
    "- Your code should be clearly documented in a way that allows others to easily follow the structure of your script and to use them from the command line\n",
    "\n",
    "__Purpose__\n",
    "- This assignment is designed to test that you have a understanding of:\n",
    "- how to perform dictionary-based sentiment analysis in Python;\n",
    "- how to effectively use pandas and spaCy in a simple NLP workflow;\n",
    "- how to present results visually, working with datetime formats to show trends over time"
   ]
  },
  {
   "cell_type": "markdown",
   "metadata": {},
   "source": [
    "---"
   ]
  },
  {
   "cell_type": "markdown",
   "metadata": {},
   "source": [
    "__Import Dependencies__"
   ]
  },
  {
   "cell_type": "code",
   "execution_count": 1,
   "metadata": {},
   "outputs": [],
   "source": [
    "import os\n",
    "import spacy\n",
    "import pandas as pd\n",
    "import matplotlib.pyplot as plt\n",
    "\n",
    "# Initialize spaCy by creating a spaCy object\n",
    "nlp = spacy.load(\"en_core_web_sm\")\n",
    "\n",
    "# Initializing spacytextblob and adding it to the pipeline\n",
    "from spacytextblob.spacytextblob import SpacyTextBlob\n",
    "spacy_text_blob = SpacyTextBlob()\n",
    "nlp.add_pipe(spacy_text_blob)"
   ]
  },
  {
   "cell_type": "markdown",
   "metadata": {},
   "source": [
    "__Task 1: Calculate the sentiment score for every news headline__"
   ]
  },
  {
   "cell_type": "code",
   "execution_count": 2,
   "metadata": {},
   "outputs": [],
   "source": [
    "# Read file\n",
    "abcnews = os.path.join(\"..\", \"data\", \"abcnews-date-text.csv\")\n",
    "abcnews_df = pd.read_csv(abcnews)"
   ]
  },
  {
   "cell_type": "code",
   "execution_count": 3,
   "metadata": {},
   "outputs": [],
   "source": [
    "# Take a subset of the file containing 50.000 headlines\n",
    "abcnews_subset = abcnews_df[:50000]"
   ]
  },
  {
   "cell_type": "code",
   "execution_count": 4,
   "metadata": {},
   "outputs": [],
   "source": [
    "# Create empty list that we can append to in the loop\n",
    "sentiment_scores = []\n",
    "\n",
    "# Loop through each headline and calculate the sentiment score\n",
    "for headline in nlp.pipe(abcnews_subset[\"headline_text\"], batch_size = 500):\n",
    "    # Caclulate sentiment score\n",
    "    sentiment = headline._.sentiment.polarity\n",
    "    # Append to list\n",
    "    sentiment_scores.append(sentiment)"
   ]
  },
  {
   "cell_type": "code",
   "execution_count": 5,
   "metadata": {},
   "outputs": [
    {
     "data": {
      "text/html": [
       "<div>\n",
       "<style scoped>\n",
       "    .dataframe tbody tr th:only-of-type {\n",
       "        vertical-align: middle;\n",
       "    }\n",
       "\n",
       "    .dataframe tbody tr th {\n",
       "        vertical-align: top;\n",
       "    }\n",
       "\n",
       "    .dataframe thead th {\n",
       "        text-align: right;\n",
       "    }\n",
       "</style>\n",
       "<table border=\"1\" class=\"dataframe\">\n",
       "  <thead>\n",
       "    <tr style=\"text-align: right;\">\n",
       "      <th></th>\n",
       "      <th>publish_date</th>\n",
       "      <th>headline_text</th>\n",
       "      <th>sentiment</th>\n",
       "    </tr>\n",
       "  </thead>\n",
       "  <tbody>\n",
       "    <tr>\n",
       "      <th>0</th>\n",
       "      <td>20030219</td>\n",
       "      <td>aba decides against community broadcasting lic...</td>\n",
       "      <td>0.00</td>\n",
       "    </tr>\n",
       "    <tr>\n",
       "      <th>1</th>\n",
       "      <td>20030219</td>\n",
       "      <td>act fire witnesses must be aware of defamation</td>\n",
       "      <td>0.25</td>\n",
       "    </tr>\n",
       "    <tr>\n",
       "      <th>2</th>\n",
       "      <td>20030219</td>\n",
       "      <td>a g calls for infrastructure protection summit</td>\n",
       "      <td>0.00</td>\n",
       "    </tr>\n",
       "    <tr>\n",
       "      <th>3</th>\n",
       "      <td>20030219</td>\n",
       "      <td>air nz staff in aust strike for pay rise</td>\n",
       "      <td>0.00</td>\n",
       "    </tr>\n",
       "    <tr>\n",
       "      <th>4</th>\n",
       "      <td>20030219</td>\n",
       "      <td>air nz strike to affect australian travellers</td>\n",
       "      <td>0.00</td>\n",
       "    </tr>\n",
       "    <tr>\n",
       "      <th>...</th>\n",
       "      <td>...</td>\n",
       "      <td>...</td>\n",
       "      <td>...</td>\n",
       "    </tr>\n",
       "    <tr>\n",
       "      <th>49995</th>\n",
       "      <td>20031020</td>\n",
       "      <td>two dead as israel targets hamas militants car</td>\n",
       "      <td>-0.20</td>\n",
       "    </tr>\n",
       "    <tr>\n",
       "      <th>49996</th>\n",
       "      <td>20031020</td>\n",
       "      <td>un agencies pledge to boost maternal health</td>\n",
       "      <td>0.00</td>\n",
       "    </tr>\n",
       "    <tr>\n",
       "      <th>49997</th>\n",
       "      <td>20031020</td>\n",
       "      <td>uncommon gene may cause poor memory</td>\n",
       "      <td>0.20</td>\n",
       "    </tr>\n",
       "    <tr>\n",
       "      <th>49998</th>\n",
       "      <td>20031020</td>\n",
       "      <td>united approach sought to fix pacific highway</td>\n",
       "      <td>0.00</td>\n",
       "    </tr>\n",
       "    <tr>\n",
       "      <th>49999</th>\n",
       "      <td>20031020</td>\n",
       "      <td>us australia need to compromise on free trade ...</td>\n",
       "      <td>0.40</td>\n",
       "    </tr>\n",
       "  </tbody>\n",
       "</table>\n",
       "<p>50000 rows × 3 columns</p>\n",
       "</div>"
      ],
      "text/plain": [
       "       publish_date                                      headline_text  \\\n",
       "0          20030219  aba decides against community broadcasting lic...   \n",
       "1          20030219     act fire witnesses must be aware of defamation   \n",
       "2          20030219     a g calls for infrastructure protection summit   \n",
       "3          20030219           air nz staff in aust strike for pay rise   \n",
       "4          20030219      air nz strike to affect australian travellers   \n",
       "...             ...                                                ...   \n",
       "49995      20031020     two dead as israel targets hamas militants car   \n",
       "49996      20031020        un agencies pledge to boost maternal health   \n",
       "49997      20031020                uncommon gene may cause poor memory   \n",
       "49998      20031020      united approach sought to fix pacific highway   \n",
       "49999      20031020  us australia need to compromise on free trade ...   \n",
       "\n",
       "       sentiment  \n",
       "0           0.00  \n",
       "1           0.25  \n",
       "2           0.00  \n",
       "3           0.00  \n",
       "4           0.00  \n",
       "...          ...  \n",
       "49995      -0.20  \n",
       "49996       0.00  \n",
       "49997       0.20  \n",
       "49998       0.00  \n",
       "49999       0.40  \n",
       "\n",
       "[50000 rows x 3 columns]"
      ]
     },
     "execution_count": 5,
     "metadata": {},
     "output_type": "execute_result"
    }
   ],
   "source": [
    "# Create a new column in the dataframe containing the sentiment scores using the insert() function\n",
    "abcnews_subset.insert(len(abcnews_subset.columns), \"sentiment\", sentiment_scores)\n",
    "abcnews_subset"
   ]
  },
  {
   "cell_type": "markdown",
   "metadata": {},
   "source": [
    "__Task 2: Create and save a plot of sentiment over time with a 1-week rolling average__"
   ]
  },
  {
   "cell_type": "code",
   "execution_count": 6,
   "metadata": {},
   "outputs": [],
   "source": [
    "# Create a new dataframe, convert the dates to datetime format and make them the index\n",
    "rolling_data = pd.DataFrame({\"sentiment\": sentiment_scores}, \n",
    "                            index = pd.to_datetime(abcnews_subset[\"publish_date\"], format='%Y%m%d', errors='ignore'))"
   ]
  },
  {
   "cell_type": "code",
   "execution_count": 10,
   "metadata": {},
   "outputs": [],
   "source": [
    "# Calcuate sentiment with a 1-week rolling average\n",
    "smoothed_sentiment_week = rolling_data.sort_index().rolling(\"7d\").mean()"
   ]
  },
  {
   "cell_type": "code",
   "execution_count": 18,
   "metadata": {
    "scrolled": true
   },
   "outputs": [
    {
     "data": {
      "image/png": "[encoded data removed]",
      "text/plain": [
       "<Figure size 432x288 with 1 Axes>"
      ]
     },
     "metadata": {
      "needs_background": "light"
     },
     "output_type": "display_data"
    }
   ],
   "source": [
    "output = os.path.join(\"..\", \"plots\")\n",
    "\n",
    "# Plotting\n",
    "plt.figure() # create plot figure\n",
    "plt.title(\"Sentiment over time with a 1-week rolling average\") # plot title\n",
    "plt.xlabel(\"Date\") # x-label\n",
    "plt.xticks(rotation=45) # rotate the x-labels so they do not overlap\n",
    "plt.ylabel(\"Sentiment score\") # y-label\n",
    "plt.plot(smoothed_sentiment_week, label = \"One week rolling average\") # plot \n",
    "plt.legend(loc = \"upper right\") # legend\n",
    "plt.savefig(os.path.join(output, 'smoothed_sentiment_week.png'), bbox_inches='tight') # save plot"
   ]
  },
  {
   "cell_type": "markdown",
   "metadata": {},
   "source": [
    "__Task 2: Create and save a plot of sentiment over time with a 1-month rolling average__"
   ]
  },
  {
   "cell_type": "code",
   "execution_count": 16,
   "metadata": {},
   "outputs": [],
   "source": [
    "# Calcuate sentiment with a 1-month rolling average\n",
    "smoothed_sentiment_month = rolling_data.rolling(\"30d\").mean()"
   ]
  },
  {
   "cell_type": "code",
   "execution_count": 17,
   "metadata": {
    "scrolled": true
   },
   "outputs": [
    {
     "data": {
      "image/png": "[encoded data removed]",
      "text/plain": [
       "<Figure size 432x288 with 1 Axes>"
      ]
     },
     "metadata": {
      "needs_background": "light"
     },
     "output_type": "display_data"
    }
   ],
   "source": [
    "# Plotting\n",
    "plt.figure() # create plot figure\n",
    "plt.title(\"Sentiment over time with a 1-month rolling average\") # plot title\n",
    "plt.xlabel(\"Date\") # x-label\n",
    "plt.xticks(rotation=45) # rotate the x-labels so they do not overlap\n",
    "plt.ylabel(\"Sentiment score\") # y-label\n",
    "plt.plot(smoothed_sentiment_month, label = \"One month rolling average\") # plot\n",
    "plt.legend(loc = \"upper right\") # legend\n",
    "plt.savefig(os.path.join(output, 'smoothed_sentiment_month.png'), bbox_inches='tight') # save plot"
   ]
  },
  {
   "cell_type": "markdown",
   "metadata": {},
   "source": [
    "__Task 3: Write a short summary describing what the two plots show__ \n",
    "\n",
    "You should mention the following points: \n",
    "1) What (if any) are the general trends? <br>\n",
    "2) What (if any) inferences might you draw from them?"
   ]
  },
  {
   "cell_type": "markdown",
   "metadata": {},
   "source": []
  }
 ],
 "metadata": {
  "kernelspec": {
   "display_name": "sentiment_environment",
   "language": "python",
   "name": "sentiment_environment"
  },
  "language_info": {
   "codemirror_mode": {
    "name": "ipython",
    "version": 3
   },
   "file_extension": ".py",
   "mimetype": "text/x-python",
   "name": "python",
   "nbconvert_exporter": "python",
   "pygments_lexer": "ipython3",
   "version": "3.6.9"
  }
 },
 "nbformat": 4,
 "nbformat_minor": 4
}
