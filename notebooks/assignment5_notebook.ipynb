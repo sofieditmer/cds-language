{
 "cells": [
  {
   "cell_type": "markdown",
   "metadata": {},
   "source": [
    "# Assignment 5: (Un)supervised Machine Learning\n",
    "\n",
    "__Task:__ Train an LDA model on your data to extract structured information that can provide insight into your data. For example, maybe you are interested in seeing how different authors cluster together or how concepts change over time in this dataset."
   ]
  },
  {
   "cell_type": "code",
   "execution_count": null,
   "metadata": {
    "scrolled": true
   },
   "outputs": [],
   "source": [
    "# standard library\n",
    "import sys,os\n",
    "sys.path.append(os.path.join(\"..\"))\n",
    "from pprint import pprint\n",
    "\n",
    "# data and nlp\n",
    "import pandas as pd\n",
    "import spacy\n",
    "nlp = spacy.load(\"en_core_web_sm\", disable=[\"ner\"])\n",
    "nlp.max_length = 67000000\n",
    "\n",
    "# visualisation\n",
    "import pyLDAvis.gensim\n",
    "pyLDAvis.enable_notebook()\n",
    "import seaborn as sns\n",
    "from matplotlib import rcParams\n",
    "# figure size in inches\n",
    "rcParams['figure.figsize'] = 20,10\n",
    "\n",
    "# LDA tools\n",
    "import gensim\n",
    "import gensim.corpora as corpora\n",
    "from gensim.models import CoherenceModel\n",
    "from utils import lda_utils\n",
    "\n",
    "# warnings\n",
    "import logging, warnings\n",
    "warnings.filterwarnings('ignore')\n",
    "logging.basicConfig(format='%(asctime)s : %(levelname)s : %(message)s', level=logging.ERROR)"
   ]
  },
  {
   "cell_type": "markdown",
   "metadata": {},
   "source": [
    "__Load text__"
   ]
  },
  {
   "cell_type": "code",
   "execution_count": null,
   "metadata": {},
   "outputs": [],
   "source": [
    "filename = os.path.join(\"..\", \"assignments\", \"data\", \"IMDB_reviews.txt\")"
   ]
  },
  {
   "cell_type": "code",
   "execution_count": 43,
   "metadata": {},
   "outputs": [],
   "source": [
    "with open(filename) as f:\n",
    "    text = f.read()"
   ]
  },
  {
   "cell_type": "markdown",
   "metadata": {},
   "source": [
    "__Split into individual sentences__"
   ]
  },
  {
   "cell_type": "code",
   "execution_count": 44,
   "metadata": {
    "scrolled": true
   },
   "outputs": [],
   "source": [
    "doc = nlp(text[:10000], disable = ['ner'])\n",
    "sentences = [sent.string.strip() for sent in doc.sents]"
   ]
  },
  {
   "cell_type": "markdown",
   "metadata": {},
   "source": [
    "__Create chunks of 10 sentences at a time__"
   ]
  },
  {
   "cell_type": "code",
   "execution_count": 45,
   "metadata": {},
   "outputs": [],
   "source": [
    "chunks = []\n",
    "for index in range(0, len(sentences), 10):\n",
    "    chunks.append(' '.join(sentences[index:index+10]))"
   ]
  },
  {
   "cell_type": "markdown",
   "metadata": {},
   "source": [
    "__Process using ```gensim```__"
   ]
  },
  {
   "cell_type": "code",
   "execution_count": 46,
   "metadata": {},
   "outputs": [],
   "source": [
    "bigram = gensim.models.Phrases(chunks, min_count=3, threshold=50) \n",
    "trigram = gensim.models.Phrases(bigram[chunks], threshold=50)\n",
    "\n",
    "bigram_mod = gensim.models.phrases.Phraser(bigram)\n",
    "trigram_mod = gensim.models.phrases.Phraser(trigram)"
   ]
  },
  {
   "cell_type": "code",
   "execution_count": 47,
   "metadata": {},
   "outputs": [],
   "source": [
    "# Lemmatizing and part-of-speech tagging\n",
    "data_processed = lda_utils.process_words(chunks,\n",
    "                                         nlp, \n",
    "                                         bigram_mod, \n",
    "                                         trigram_mod, \n",
    "                                         allowed_postags=[\"NOUN\"]) # we only keep nouns as part-of-speech"
   ]
  },
  {
   "cell_type": "markdown",
   "metadata": {},
   "source": [
    "__Create bag of words__"
   ]
  },
  {
   "cell_type": "code",
   "execution_count": 48,
   "metadata": {},
   "outputs": [],
   "source": [
    "# Create Dictionary\n",
    "id2word = corpora.Dictionary(data_processed)\n",
    "\n",
    "# Create Corpus: Term Document Frequency\n",
    "corpus = [id2word.doc2bow(text) for text in data_processed]"
   ]
  },
  {
   "cell_type": "markdown",
   "metadata": {},
   "source": [
    "__LDA Model__"
   ]
  },
  {
   "cell_type": "code",
   "execution_count": 49,
   "metadata": {},
   "outputs": [],
   "source": [
    "lda_model = gensim.models.LdaMulticore(corpus=corpus,    \n",
    "                                       id2word=id2word,  \n",
    "                                       num_topics=10,    \n",
    "                                       random_state=100, \n",
    "                                       chunksize=10,     \n",
    "                                       passes=10,        \n",
    "                                       iterations=100,   \n",
    "                                       per_word_topics=True, \n",
    "                                       minimum_probability=0.0)"
   ]
  },
  {
   "cell_type": "markdown",
   "metadata": {},
   "source": [
    "__Calculate perplexity and coherence__"
   ]
  },
  {
   "cell_type": "code",
   "execution_count": 50,
   "metadata": {},
   "outputs": [
    {
     "name": "stdout",
     "output_type": "stream",
     "text": [
      "\n",
      "Perplexity:  -6.0717106681803\n",
      "\n",
      "Coherence Score:  0.4503980590307995\n"
     ]
    }
   ],
   "source": [
    "print('\\nPerplexity: ', lda_model.log_perplexity(corpus))\n",
    "\n",
    "coherence_model_lda = CoherenceModel(model=lda_model, \n",
    "                                     texts=data_processed, \n",
    "                                     dictionary=id2word, \n",
    "                                     coherence='c_v')\n",
    "\n",
    "coherence_lda = coherence_model_lda.get_coherence()\n",
    "print('\\nCoherence Score: ', coherence_lda)"
   ]
  },
  {
   "cell_type": "markdown",
   "metadata": {},
   "source": [
    "__Inspect topics__"
   ]
  },
  {
   "cell_type": "code",
   "execution_count": 51,
   "metadata": {
    "scrolled": true
   },
   "outputs": [
    {
     "name": "stdout",
     "output_type": "stream",
     "text": [
      "[(0,\n",
      "  '0.004*\"movie\" + 0.004*\"br\" + 0.004*\"film\" + 0.004*\"show\" + 0.004*\"time\" + '\n",
      "  '0.004*\"performance\" + 0.004*\"comedy\" + 0.004*\"air\" + 0.004*\"thing\" + '\n",
      "  '0.004*\"prison\"'),\n",
      " (1,\n",
      "  '0.004*\"movie\" + 0.004*\"film\" + 0.004*\"br\" + 0.004*\"time\" + 0.004*\"show\" + '\n",
      "  '0.004*\"way\" + 0.004*\"comedy\" + 0.004*\"performance\" + 0.004*\"cast\" + '\n",
      "  '0.004*\"scene\"'),\n",
      " (2,\n",
      "  '0.056*\"cast\" + 0.029*\"performance\" + 0.029*\"show\" + 0.029*\"air\" + '\n",
      "  '0.029*\"today\" + 0.029*\"success\" + 0.029*\"hack\" + 0.029*\"brilliance\" + '\n",
      "  '0.029*\"star\" + 0.029*\"writing\"'),\n",
      " (3,\n",
      "  '0.005*\"prison\" + 0.005*\"inmate\" + 0.005*\"show\" + 0.005*\"violence\" + '\n",
      "  '0.005*\"injustice\" + 0.005*\"level\" + 0.005*\"episode\" + 0.005*\"guard\" + '\n",
      "  '0.005*\"agreement\" + 0.005*\"street\"'),\n",
      " (4,\n",
      "  '0.004*\"movie\" + 0.004*\"br\" + 0.004*\"film\" + 0.004*\"time\" + 0.004*\"show\" + '\n",
      "  '0.004*\"thing\" + 0.004*\"performance\" + 0.004*\"way\" + 0.004*\"character\" + '\n",
      "  '0.004*\"year\"'),\n",
      " (5,\n",
      "  '0.065*\"movie\" + 0.049*\"film\" + 0.033*\"br\" + 0.033*\"money\" + '\n",
      "  '0.017*\"laughter\" + 0.017*\"joke\" + 0.017*\"mom\" + 0.017*\"budget\" + '\n",
      "  '0.017*\"gut\" + 0.017*\"humour\"'),\n",
      " (6,\n",
      "  '0.059*\"film\" + 0.022*\"br\" + 0.022*\"comedy\" + 0.015*\"air\" + 0.015*\"way\" + '\n",
      "  '0.015*\"scene\" + 0.015*\"character\" + 0.015*\"thing\" + 0.015*\"woody\" + '\n",
      "  '0.015*\"guard\"'),\n",
      " (7,\n",
      "  '0.041*\"br\" + 0.031*\"movie\" + 0.031*\"parent\" + 0.031*\"drama\" + 0.021*\"time\" '\n",
      "  '+ 0.021*\"film\" + 0.021*\"show\" + 0.021*\"violence\" + 0.021*\"word\" + '\n",
      "  '0.021*\"piece\"'),\n",
      " (8,\n",
      "  '0.033*\"time\" + 0.033*\"movie\" + 0.033*\"world\" + 0.022*\"thing\" + 0.022*\"year\" '\n",
      "  '+ 0.022*\"way\" + 0.022*\"people\" + 0.012*\"kid\" + 0.012*\"series\" + '\n",
      "  '0.012*\"vote\"'),\n",
      " (9,\n",
      "  '0.004*\"film\" + 0.004*\"movie\" + 0.004*\"br\" + 0.004*\"time\" + 0.004*\"show\" + '\n",
      "  '0.004*\"thing\" + 0.004*\"character\" + 0.004*\"piece\" + 0.004*\"drama\" + '\n",
      "  '0.004*\"scene\"')]\n"
     ]
    }
   ],
   "source": [
    "pprint(lda_model.print_topics())"
   ]
  },
  {
   "cell_type": "markdown",
   "metadata": {},
   "source": [
    "__Run model multiple times to find best fit__"
   ]
  },
  {
   "cell_type": "code",
   "execution_count": 52,
   "metadata": {},
   "outputs": [
    {
     "data": {
      "image/png": "[encoded data removed]",
      "text/plain": [
       "<Figure size 1440x720 with 1 Axes>"
      ]
     },
     "metadata": {
      "needs_background": "light"
     },
     "output_type": "display_data"
    },
    {
     "name": "stdout",
     "output_type": "stream",
     "text": [
      "Num Topics = 5  has Coherence Value of 0.2967\n",
      "Num Topics = 10  has Coherence Value of 0.5932\n",
      "Num Topics = 15  has Coherence Value of 0.5671\n",
      "Num Topics = 20  has Coherence Value of 0.6946\n",
      "Num Topics = 25  has Coherence Value of 0.6703\n",
      "Num Topics = 30  has Coherence Value of 0.7118\n",
      "Num Topics = 35  has Coherence Value of 0.6511\n"
     ]
    }
   ],
   "source": [
    "model_list, coherence_values = lda_utils.compute_coherence_values(texts=data_processed,\n",
    "                                                                  corpus=corpus, \n",
    "                                                                  dictionary=id2word,  \n",
    "                                                                  start=5, \n",
    "                                                                  limit=40,  \n",
    "                                                                  step=5)"
   ]
  },
  {
   "cell_type": "markdown",
   "metadata": {},
   "source": [
    "__Most dominant topic per chunk__"
   ]
  },
  {
   "cell_type": "code",
   "execution_count": 53,
   "metadata": {},
   "outputs": [
    {
     "data": {
      "text/html": [
       "<div>\n",
       "<style scoped>\n",
       "    .dataframe tbody tr th:only-of-type {\n",
       "        vertical-align: middle;\n",
       "    }\n",
       "\n",
       "    .dataframe tbody tr th {\n",
       "        vertical-align: top;\n",
       "    }\n",
       "\n",
       "    .dataframe thead th {\n",
       "        text-align: right;\n",
       "    }\n",
       "</style>\n",
       "<table border=\"1\" class=\"dataframe\">\n",
       "  <thead>\n",
       "    <tr style=\"text-align: right;\">\n",
       "      <th></th>\n",
       "      <th>Chunk_No</th>\n",
       "      <th>Dominant_Topic</th>\n",
       "      <th>Topic_Perc_Contrib</th>\n",
       "      <th>Keywords</th>\n",
       "      <th>Text</th>\n",
       "    </tr>\n",
       "  </thead>\n",
       "  <tbody>\n",
       "    <tr>\n",
       "      <th>0</th>\n",
       "      <td>0</td>\n",
       "      <td>7.0</td>\n",
       "      <td>0.9719</td>\n",
       "      <td>br, movie, parent, drama, time, film, show, vi...</td>\n",
       "      <td>[reviewer, episode, thing, brutality, unflinch...</td>\n",
       "    </tr>\n",
       "    <tr>\n",
       "      <th>1</th>\n",
       "      <td>1</td>\n",
       "      <td>6.0</td>\n",
       "      <td>0.9710</td>\n",
       "      <td>film, br, comedy, air, way, scene, character, ...</td>\n",
       "      <td>[death, stare, dealing, agreement, appeal, sho...</td>\n",
       "    </tr>\n",
       "    <tr>\n",
       "      <th>2</th>\n",
       "      <td>2</td>\n",
       "      <td>7.0</td>\n",
       "      <td>0.9550</td>\n",
       "      <td>br, movie, parent, drama, time, film, show, vi...</td>\n",
       "      <td>[touch, side, production, br, technique, time,...</td>\n",
       "    </tr>\n",
       "    <tr>\n",
       "      <th>3</th>\n",
       "      <td>3</td>\n",
       "      <td>6.0</td>\n",
       "      <td>0.9795</td>\n",
       "      <td>film, br, comedy, air, way, scene, character, ...</td>\n",
       "      <td>[production, master, comedy, life, realism, th...</td>\n",
       "    </tr>\n",
       "    <tr>\n",
       "      <th>4</th>\n",
       "      <td>4</td>\n",
       "      <td>7.0</td>\n",
       "      <td>0.9679</td>\n",
       "      <td>br, movie, parent, drama, time, film, show, vi...</td>\n",
       "      <td>[tone, image, woman, superman, comedy, friend,...</td>\n",
       "    </tr>\n",
       "    <tr>\n",
       "      <th>5</th>\n",
       "      <td>5</td>\n",
       "      <td>5.0</td>\n",
       "      <td>0.9667</td>\n",
       "      <td>movie, film, br, money, laughter, joke, mom, b...</td>\n",
       "      <td>[shot, love, time, money, film, portrait, rela...</td>\n",
       "    </tr>\n",
       "    <tr>\n",
       "      <th>6</th>\n",
       "      <td>6</td>\n",
       "      <td>8.0</td>\n",
       "      <td>0.9667</td>\n",
       "      <td>time, movie, world, thing, year, way, people, ...</td>\n",
       "      <td>[people, world, habitat, thing, soul, stage, c...</td>\n",
       "    </tr>\n",
       "    <tr>\n",
       "      <th>7</th>\n",
       "      <td>7</td>\n",
       "      <td>8.0</td>\n",
       "      <td>0.9690</td>\n",
       "      <td>time, movie, world, thing, year, way, people, ...</td>\n",
       "      <td>[time, year, performance, tear, eye, role, kid...</td>\n",
       "    </tr>\n",
       "    <tr>\n",
       "      <th>8</th>\n",
       "      <td>8</td>\n",
       "      <td>8.0</td>\n",
       "      <td>0.9550</td>\n",
       "      <td>time, movie, world, thing, year, way, people, ...</td>\n",
       "      <td>[pace, world, water, adventure, way, outlet, v...</td>\n",
       "    </tr>\n",
       "    <tr>\n",
       "      <th>9</th>\n",
       "      <td>9</td>\n",
       "      <td>2.0</td>\n",
       "      <td>0.9437</td>\n",
       "      <td>cast, performance, show, air, today, success, ...</td>\n",
       "      <td>[today, writing, performance, guest, host, air...</td>\n",
       "    </tr>\n",
       "  </tbody>\n",
       "</table>\n",
       "</div>"
      ],
      "text/plain": [
       "   Chunk_No  Dominant_Topic  Topic_Perc_Contrib  \\\n",
       "0         0             7.0              0.9719   \n",
       "1         1             6.0              0.9710   \n",
       "2         2             7.0              0.9550   \n",
       "3         3             6.0              0.9795   \n",
       "4         4             7.0              0.9679   \n",
       "5         5             5.0              0.9667   \n",
       "6         6             8.0              0.9667   \n",
       "7         7             8.0              0.9690   \n",
       "8         8             8.0              0.9550   \n",
       "9         9             2.0              0.9437   \n",
       "\n",
       "                                            Keywords  \\\n",
       "0  br, movie, parent, drama, time, film, show, vi...   \n",
       "1  film, br, comedy, air, way, scene, character, ...   \n",
       "2  br, movie, parent, drama, time, film, show, vi...   \n",
       "3  film, br, comedy, air, way, scene, character, ...   \n",
       "4  br, movie, parent, drama, time, film, show, vi...   \n",
       "5  movie, film, br, money, laughter, joke, mom, b...   \n",
       "6  time, movie, world, thing, year, way, people, ...   \n",
       "7  time, movie, world, thing, year, way, people, ...   \n",
       "8  time, movie, world, thing, year, way, people, ...   \n",
       "9  cast, performance, show, air, today, success, ...   \n",
       "\n",
       "                                                Text  \n",
       "0  [reviewer, episode, thing, brutality, unflinch...  \n",
       "1  [death, stare, dealing, agreement, appeal, sho...  \n",
       "2  [touch, side, production, br, technique, time,...  \n",
       "3  [production, master, comedy, life, realism, th...  \n",
       "4  [tone, image, woman, superman, comedy, friend,...  \n",
       "5  [shot, love, time, money, film, portrait, rela...  \n",
       "6  [people, world, habitat, thing, soul, stage, c...  \n",
       "7  [time, year, performance, tear, eye, role, kid...  \n",
       "8  [pace, world, water, adventure, way, outlet, v...  \n",
       "9  [today, writing, performance, guest, host, air...  "
      ]
     },
     "execution_count": 53,
     "metadata": {},
     "output_type": "execute_result"
    }
   ],
   "source": [
    "df_topic_keywords = lda_utils.format_topics_sentences(ldamodel=lda_model, \n",
    "                                                      corpus=corpus, \n",
    "                                                      texts=data_processed)\n",
    "\n",
    "# Format\n",
    "df_dominant_topic = df_topic_keywords.reset_index()\n",
    "df_dominant_topic.columns = ['Chunk_No', 'Dominant_Topic', 'Topic_Perc_Contrib', 'Keywords', 'Text']\n",
    "df_dominant_topic.head(10)"
   ]
  },
  {
   "cell_type": "code",
   "execution_count": 54,
   "metadata": {
    "scrolled": true
   },
   "outputs": [
    {
     "data": {
      "text/html": [
       "<div>\n",
       "<style scoped>\n",
       "    .dataframe tbody tr th:only-of-type {\n",
       "        vertical-align: middle;\n",
       "    }\n",
       "\n",
       "    .dataframe tbody tr th {\n",
       "        vertical-align: top;\n",
       "    }\n",
       "\n",
       "    .dataframe thead th {\n",
       "        text-align: right;\n",
       "    }\n",
       "</style>\n",
       "<table border=\"1\" class=\"dataframe\">\n",
       "  <thead>\n",
       "    <tr style=\"text-align: right;\">\n",
       "      <th></th>\n",
       "      <th>Topic_Num</th>\n",
       "      <th>Topic_Perc_Contrib</th>\n",
       "      <th>Keywords</th>\n",
       "      <th>Representative Text</th>\n",
       "    </tr>\n",
       "  </thead>\n",
       "  <tbody>\n",
       "    <tr>\n",
       "      <th>0</th>\n",
       "      <td>2.0</td>\n",
       "      <td>0.9437</td>\n",
       "      <td>cast, performance, show, air, today, success, hack, brilliance, star, writing</td>\n",
       "      <td>[today, writing, performance, guest, host, air, creator, cast, band, hack, brilliance, star, cas...</td>\n",
       "    </tr>\n",
       "    <tr>\n",
       "      <th>1</th>\n",
       "      <td>5.0</td>\n",
       "      <td>0.9667</td>\n",
       "      <td>movie, film, br, money, laughter, joke, mom, budget, gut, humour</td>\n",
       "      <td>[shot, love, time, money, film, portrait, relation, movie, money, power, success, people, situat...</td>\n",
       "    </tr>\n",
       "    <tr>\n",
       "      <th>2</th>\n",
       "      <td>6.0</td>\n",
       "      <td>0.9795</td>\n",
       "      <td>film, br, comedy, air, way, scene, character, thing, woody, guard</td>\n",
       "      <td>[production, master, comedy, life, realism, thing, fantasy, guard, dream, technique, disappear, ...</td>\n",
       "    </tr>\n",
       "    <tr>\n",
       "      <th>3</th>\n",
       "      <td>7.0</td>\n",
       "      <td>0.9719</td>\n",
       "      <td>br, movie, parent, drama, time, film, show, violence, word, piece</td>\n",
       "      <td>[reviewer, episode, thing, brutality, unflinching, scene, violence, word, trust, show, show, pun...</td>\n",
       "    </tr>\n",
       "    <tr>\n",
       "      <th>4</th>\n",
       "      <td>8.0</td>\n",
       "      <td>0.9690</td>\n",
       "      <td>time, movie, world, thing, year, way, people, kid, series, vote</td>\n",
       "      <td>[time, year, performance, tear, eye, role, kid, grandma, midget, child, fun, mother, awakening, ...</td>\n",
       "    </tr>\n",
       "  </tbody>\n",
       "</table>\n",
       "</div>"
      ],
      "text/plain": [
       "   Topic_Num  Topic_Perc_Contrib  \\\n",
       "0        2.0              0.9437   \n",
       "1        5.0              0.9667   \n",
       "2        6.0              0.9795   \n",
       "3        7.0              0.9719   \n",
       "4        8.0              0.9690   \n",
       "\n",
       "                                                                        Keywords  \\\n",
       "0  cast, performance, show, air, today, success, hack, brilliance, star, writing   \n",
       "1               movie, film, br, money, laughter, joke, mom, budget, gut, humour   \n",
       "2              film, br, comedy, air, way, scene, character, thing, woody, guard   \n",
       "3              br, movie, parent, drama, time, film, show, violence, word, piece   \n",
       "4                time, movie, world, thing, year, way, people, kid, series, vote   \n",
       "\n",
       "                                                                                   Representative Text  \n",
       "0  [today, writing, performance, guest, host, air, creator, cast, band, hack, brilliance, star, cas...  \n",
       "1  [shot, love, time, money, film, portrait, relation, movie, money, power, success, people, situat...  \n",
       "2  [production, master, comedy, life, realism, thing, fantasy, guard, dream, technique, disappear, ...  \n",
       "3  [reviewer, episode, thing, brutality, unflinching, scene, violence, word, trust, show, show, pun...  \n",
       "4  [time, year, performance, tear, eye, role, kid, grandma, midget, child, fun, mother, awakening, ...  "
      ]
     },
     "execution_count": 54,
     "metadata": {},
     "output_type": "execute_result"
    }
   ],
   "source": [
    "# Display setting to show more characters in column\n",
    "pd.options.display.max_colwidth = 100\n",
    "\n",
    "sent_topics_sorteddf = pd.DataFrame()\n",
    "sent_topics_outdf_grpd = df_topic_keywords.groupby('Dominant_Topic')\n",
    "\n",
    "for i, grp in sent_topics_outdf_grpd:\n",
    "    sent_topics_sorteddf = pd.concat([sent_topics_sorteddf, \n",
    "                                      grp.sort_values(['Perc_Contribution'], ascending=False).head(1)], \n",
    "                                      axis=0)\n",
    "\n",
    "# Reset Index    \n",
    "sent_topics_sorteddf.reset_index(drop=True, inplace=True)\n",
    "\n",
    "# Format\n",
    "sent_topics_sorteddf.columns = ['Topic_Num', \"Topic_Perc_Contrib\", \"Keywords\", \"Representative Text\"]\n",
    "\n",
    "# Show\n",
    "sent_topics_sorteddf.head(10)"
   ]
  },
  {
   "cell_type": "markdown",
   "metadata": {},
   "source": [
    "__Visualizations with pyLDAvis__"
   ]
  },
  {
   "cell_type": "code",
   "execution_count": 55,
   "metadata": {},
   "outputs": [
    {
     "ename": "TypeError",
     "evalue": "Object of type 'complex' is not JSON serializable",
     "output_type": "error",
     "traceback": [
      "\u001b[0;31m---------------------------------------------------------------------------\u001b[0m",
      "\u001b[0;31mTypeError\u001b[0m                                 Traceback (most recent call last)",
      "\u001b[0;32m~/cds-language-forked/lang101/lib/python3.6/site-packages/IPython/core/formatters.py\u001b[0m in \u001b[0;36m__call__\u001b[0;34m(self, obj)\u001b[0m\n\u001b[1;32m    339\u001b[0m                 \u001b[0;32mpass\u001b[0m\u001b[0;34m\u001b[0m\u001b[0;34m\u001b[0m\u001b[0m\n\u001b[1;32m    340\u001b[0m             \u001b[0;32melse\u001b[0m\u001b[0;34m:\u001b[0m\u001b[0;34m\u001b[0m\u001b[0;34m\u001b[0m\u001b[0m\n\u001b[0;32m--> 341\u001b[0;31m                 \u001b[0;32mreturn\u001b[0m \u001b[0mprinter\u001b[0m\u001b[0;34m(\u001b[0m\u001b[0mobj\u001b[0m\u001b[0;34m)\u001b[0m\u001b[0;34m\u001b[0m\u001b[0;34m\u001b[0m\u001b[0m\n\u001b[0m\u001b[1;32m    342\u001b[0m             \u001b[0;31m# Finally look for special method names\u001b[0m\u001b[0;34m\u001b[0m\u001b[0;34m\u001b[0m\u001b[0;34m\u001b[0m\u001b[0m\n\u001b[1;32m    343\u001b[0m             \u001b[0mmethod\u001b[0m \u001b[0;34m=\u001b[0m \u001b[0mget_real_method\u001b[0m\u001b[0;34m(\u001b[0m\u001b[0mobj\u001b[0m\u001b[0;34m,\u001b[0m \u001b[0mself\u001b[0m\u001b[0;34m.\u001b[0m\u001b[0mprint_method\u001b[0m\u001b[0;34m)\u001b[0m\u001b[0;34m\u001b[0m\u001b[0;34m\u001b[0m\u001b[0m\n",
      "\u001b[0;32m~/cds-language-forked/lang101/lib/python3.6/site-packages/pyLDAvis/_display.py\u001b[0m in \u001b[0;36m<lambda>\u001b[0;34m(data, kwds)\u001b[0m\n\u001b[1;32m    309\u001b[0m     \u001b[0mformatter\u001b[0m \u001b[0;34m=\u001b[0m \u001b[0mip\u001b[0m\u001b[0;34m.\u001b[0m\u001b[0mdisplay_formatter\u001b[0m\u001b[0;34m.\u001b[0m\u001b[0mformatters\u001b[0m\u001b[0;34m[\u001b[0m\u001b[0;34m'text/html'\u001b[0m\u001b[0;34m]\u001b[0m\u001b[0;34m\u001b[0m\u001b[0;34m\u001b[0m\u001b[0m\n\u001b[1;32m    310\u001b[0m     formatter.for_type(PreparedData,\n\u001b[0;32m--> 311\u001b[0;31m                        lambda data, kwds=kwargs: prepared_data_to_html(data, **kwds))\n\u001b[0m\u001b[1;32m    312\u001b[0m \u001b[0;34m\u001b[0m\u001b[0m\n\u001b[1;32m    313\u001b[0m \u001b[0;34m\u001b[0m\u001b[0m\n",
      "\u001b[0;32m~/cds-language-forked/lang101/lib/python3.6/site-packages/pyLDAvis/_display.py\u001b[0m in \u001b[0;36mprepared_data_to_html\u001b[0;34m(data, d3_url, ldavis_url, ldavis_css_url, template_type, visid, use_http)\u001b[0m\n\u001b[1;32m    176\u001b[0m                            \u001b[0md3_url\u001b[0m\u001b[0;34m=\u001b[0m\u001b[0md3_url\u001b[0m\u001b[0;34m,\u001b[0m\u001b[0;34m\u001b[0m\u001b[0;34m\u001b[0m\u001b[0m\n\u001b[1;32m    177\u001b[0m                            \u001b[0mldavis_url\u001b[0m\u001b[0;34m=\u001b[0m\u001b[0mldavis_url\u001b[0m\u001b[0;34m,\u001b[0m\u001b[0;34m\u001b[0m\u001b[0;34m\u001b[0m\u001b[0m\n\u001b[0;32m--> 178\u001b[0;31m                            \u001b[0mvis_json\u001b[0m\u001b[0;34m=\u001b[0m\u001b[0mdata\u001b[0m\u001b[0;34m.\u001b[0m\u001b[0mto_json\u001b[0m\u001b[0;34m(\u001b[0m\u001b[0;34m)\u001b[0m\u001b[0;34m,\u001b[0m\u001b[0;34m\u001b[0m\u001b[0;34m\u001b[0m\u001b[0m\n\u001b[0m\u001b[1;32m    179\u001b[0m                            ldavis_css_url=ldavis_css_url)\n\u001b[1;32m    180\u001b[0m \u001b[0;34m\u001b[0m\u001b[0m\n",
      "\u001b[0;32m~/cds-language-forked/lang101/lib/python3.6/site-packages/pyLDAvis/_prepare.py\u001b[0m in \u001b[0;36mto_json\u001b[0;34m(self)\u001b[0m\n\u001b[1;32m    470\u001b[0m \u001b[0;34m\u001b[0m\u001b[0m\n\u001b[1;32m    471\u001b[0m     \u001b[0;32mdef\u001b[0m \u001b[0mto_json\u001b[0m\u001b[0;34m(\u001b[0m\u001b[0mself\u001b[0m\u001b[0;34m)\u001b[0m\u001b[0;34m:\u001b[0m\u001b[0;34m\u001b[0m\u001b[0;34m\u001b[0m\u001b[0m\n\u001b[0;32m--> 472\u001b[0;31m         \u001b[0;32mreturn\u001b[0m \u001b[0mjson\u001b[0m\u001b[0;34m.\u001b[0m\u001b[0mdumps\u001b[0m\u001b[0;34m(\u001b[0m\u001b[0mself\u001b[0m\u001b[0;34m.\u001b[0m\u001b[0mto_dict\u001b[0m\u001b[0;34m(\u001b[0m\u001b[0;34m)\u001b[0m\u001b[0;34m,\u001b[0m \u001b[0mcls\u001b[0m\u001b[0;34m=\u001b[0m\u001b[0mNumPyEncoder\u001b[0m\u001b[0;34m)\u001b[0m\u001b[0;34m\u001b[0m\u001b[0;34m\u001b[0m\u001b[0m\n\u001b[0m",
      "\u001b[0;32m/usr/lib/python3.6/json/__init__.py\u001b[0m in \u001b[0;36mdumps\u001b[0;34m(obj, skipkeys, ensure_ascii, check_circular, allow_nan, cls, indent, separators, default, sort_keys, **kw)\u001b[0m\n\u001b[1;32m    236\u001b[0m         \u001b[0mcheck_circular\u001b[0m\u001b[0;34m=\u001b[0m\u001b[0mcheck_circular\u001b[0m\u001b[0;34m,\u001b[0m \u001b[0mallow_nan\u001b[0m\u001b[0;34m=\u001b[0m\u001b[0mallow_nan\u001b[0m\u001b[0;34m,\u001b[0m \u001b[0mindent\u001b[0m\u001b[0;34m=\u001b[0m\u001b[0mindent\u001b[0m\u001b[0;34m,\u001b[0m\u001b[0;34m\u001b[0m\u001b[0;34m\u001b[0m\u001b[0m\n\u001b[1;32m    237\u001b[0m         \u001b[0mseparators\u001b[0m\u001b[0;34m=\u001b[0m\u001b[0mseparators\u001b[0m\u001b[0;34m,\u001b[0m \u001b[0mdefault\u001b[0m\u001b[0;34m=\u001b[0m\u001b[0mdefault\u001b[0m\u001b[0;34m,\u001b[0m \u001b[0msort_keys\u001b[0m\u001b[0;34m=\u001b[0m\u001b[0msort_keys\u001b[0m\u001b[0;34m,\u001b[0m\u001b[0;34m\u001b[0m\u001b[0;34m\u001b[0m\u001b[0m\n\u001b[0;32m--> 238\u001b[0;31m         **kw).encode(obj)\n\u001b[0m\u001b[1;32m    239\u001b[0m \u001b[0;34m\u001b[0m\u001b[0m\n\u001b[1;32m    240\u001b[0m \u001b[0;34m\u001b[0m\u001b[0m\n",
      "\u001b[0;32m/usr/lib/python3.6/json/encoder.py\u001b[0m in \u001b[0;36mencode\u001b[0;34m(self, o)\u001b[0m\n\u001b[1;32m    197\u001b[0m         \u001b[0;31m# exceptions aren't as detailed.  The list call should be roughly\u001b[0m\u001b[0;34m\u001b[0m\u001b[0;34m\u001b[0m\u001b[0;34m\u001b[0m\u001b[0m\n\u001b[1;32m    198\u001b[0m         \u001b[0;31m# equivalent to the PySequence_Fast that ''.join() would do.\u001b[0m\u001b[0;34m\u001b[0m\u001b[0;34m\u001b[0m\u001b[0;34m\u001b[0m\u001b[0m\n\u001b[0;32m--> 199\u001b[0;31m         \u001b[0mchunks\u001b[0m \u001b[0;34m=\u001b[0m \u001b[0mself\u001b[0m\u001b[0;34m.\u001b[0m\u001b[0miterencode\u001b[0m\u001b[0;34m(\u001b[0m\u001b[0mo\u001b[0m\u001b[0;34m,\u001b[0m \u001b[0m_one_shot\u001b[0m\u001b[0;34m=\u001b[0m\u001b[0;32mTrue\u001b[0m\u001b[0;34m)\u001b[0m\u001b[0;34m\u001b[0m\u001b[0;34m\u001b[0m\u001b[0m\n\u001b[0m\u001b[1;32m    200\u001b[0m         \u001b[0;32mif\u001b[0m \u001b[0;32mnot\u001b[0m \u001b[0misinstance\u001b[0m\u001b[0;34m(\u001b[0m\u001b[0mchunks\u001b[0m\u001b[0;34m,\u001b[0m \u001b[0;34m(\u001b[0m\u001b[0mlist\u001b[0m\u001b[0;34m,\u001b[0m \u001b[0mtuple\u001b[0m\u001b[0;34m)\u001b[0m\u001b[0;34m)\u001b[0m\u001b[0;34m:\u001b[0m\u001b[0;34m\u001b[0m\u001b[0;34m\u001b[0m\u001b[0m\n\u001b[1;32m    201\u001b[0m             \u001b[0mchunks\u001b[0m \u001b[0;34m=\u001b[0m \u001b[0mlist\u001b[0m\u001b[0;34m(\u001b[0m\u001b[0mchunks\u001b[0m\u001b[0;34m)\u001b[0m\u001b[0;34m\u001b[0m\u001b[0;34m\u001b[0m\u001b[0m\n",
      "\u001b[0;32m/usr/lib/python3.6/json/encoder.py\u001b[0m in \u001b[0;36miterencode\u001b[0;34m(self, o, _one_shot)\u001b[0m\n\u001b[1;32m    255\u001b[0m                 \u001b[0mself\u001b[0m\u001b[0;34m.\u001b[0m\u001b[0mkey_separator\u001b[0m\u001b[0;34m,\u001b[0m \u001b[0mself\u001b[0m\u001b[0;34m.\u001b[0m\u001b[0mitem_separator\u001b[0m\u001b[0;34m,\u001b[0m \u001b[0mself\u001b[0m\u001b[0;34m.\u001b[0m\u001b[0msort_keys\u001b[0m\u001b[0;34m,\u001b[0m\u001b[0;34m\u001b[0m\u001b[0;34m\u001b[0m\u001b[0m\n\u001b[1;32m    256\u001b[0m                 self.skipkeys, _one_shot)\n\u001b[0;32m--> 257\u001b[0;31m         \u001b[0;32mreturn\u001b[0m \u001b[0m_iterencode\u001b[0m\u001b[0;34m(\u001b[0m\u001b[0mo\u001b[0m\u001b[0;34m,\u001b[0m \u001b[0;36m0\u001b[0m\u001b[0;34m)\u001b[0m\u001b[0;34m\u001b[0m\u001b[0;34m\u001b[0m\u001b[0m\n\u001b[0m\u001b[1;32m    258\u001b[0m \u001b[0;34m\u001b[0m\u001b[0m\n\u001b[1;32m    259\u001b[0m def _make_iterencode(markers, _default, _encoder, _indent, _floatstr,\n",
      "\u001b[0;32m~/cds-language-forked/lang101/lib/python3.6/site-packages/pyLDAvis/utils.py\u001b[0m in \u001b[0;36mdefault\u001b[0;34m(self, obj)\u001b[0m\n\u001b[1;32m    148\u001b[0m         \u001b[0;32mif\u001b[0m \u001b[0misinstance\u001b[0m\u001b[0;34m(\u001b[0m\u001b[0mobj\u001b[0m\u001b[0;34m,\u001b[0m \u001b[0mnp\u001b[0m\u001b[0;34m.\u001b[0m\u001b[0mfloat64\u001b[0m\u001b[0;34m)\u001b[0m \u001b[0;32mor\u001b[0m \u001b[0misinstance\u001b[0m\u001b[0;34m(\u001b[0m\u001b[0mobj\u001b[0m\u001b[0;34m,\u001b[0m \u001b[0mnp\u001b[0m\u001b[0;34m.\u001b[0m\u001b[0mfloat32\u001b[0m\u001b[0;34m)\u001b[0m\u001b[0;34m:\u001b[0m\u001b[0;34m\u001b[0m\u001b[0;34m\u001b[0m\u001b[0m\n\u001b[1;32m    149\u001b[0m             \u001b[0;32mreturn\u001b[0m \u001b[0mfloat\u001b[0m\u001b[0;34m(\u001b[0m\u001b[0mobj\u001b[0m\u001b[0;34m)\u001b[0m\u001b[0;34m\u001b[0m\u001b[0;34m\u001b[0m\u001b[0m\n\u001b[0;32m--> 150\u001b[0;31m         \u001b[0;32mreturn\u001b[0m \u001b[0mjson\u001b[0m\u001b[0;34m.\u001b[0m\u001b[0mJSONEncoder\u001b[0m\u001b[0;34m.\u001b[0m\u001b[0mdefault\u001b[0m\u001b[0;34m(\u001b[0m\u001b[0mself\u001b[0m\u001b[0;34m,\u001b[0m \u001b[0mobj\u001b[0m\u001b[0;34m)\u001b[0m\u001b[0;34m\u001b[0m\u001b[0;34m\u001b[0m\u001b[0m\n\u001b[0m",
      "\u001b[0;32m/usr/lib/python3.6/json/encoder.py\u001b[0m in \u001b[0;36mdefault\u001b[0;34m(self, o)\u001b[0m\n\u001b[1;32m    178\u001b[0m         \"\"\"\n\u001b[1;32m    179\u001b[0m         raise TypeError(\"Object of type '%s' is not JSON serializable\" %\n\u001b[0;32m--> 180\u001b[0;31m                         o.__class__.__name__)\n\u001b[0m\u001b[1;32m    181\u001b[0m \u001b[0;34m\u001b[0m\u001b[0m\n\u001b[1;32m    182\u001b[0m     \u001b[0;32mdef\u001b[0m \u001b[0mencode\u001b[0m\u001b[0;34m(\u001b[0m\u001b[0mself\u001b[0m\u001b[0;34m,\u001b[0m \u001b[0mo\u001b[0m\u001b[0;34m)\u001b[0m\u001b[0;34m:\u001b[0m\u001b[0;34m\u001b[0m\u001b[0;34m\u001b[0m\u001b[0m\n",
      "\u001b[0;31mTypeError\u001b[0m: Object of type 'complex' is not JSON serializable"
     ]
    },
    {
     "data": {
      "text/plain": [
       "PreparedData(topic_coordinates=                        x                   y  topics  cluster       Freq\n",
       "topic                                                                    \n",
       "6     -0.118189+0.000000j  0.130579+0.000000j       1        1  35.214692\n",
       "7     -0.113817+0.000000j -0.159848+0.000000j       2        1  23.404436\n",
       "8      0.184112+0.000000j -0.020147+0.000000j       3        1  22.163611\n",
       "5      0.016633+0.000000j  0.013928+0.000000j       4        1  12.529477\n",
       "2      0.026869+0.000000j  0.026404+0.000000j       5        1   4.753999\n",
       "9      0.000986+0.000000j  0.001716+0.000000j       6        1   0.386757\n",
       "4      0.000986+0.000000j  0.001716+0.000000j       7        1   0.386757\n",
       "3      0.000447+0.000000j  0.002223+0.000000j       8        1   0.386757\n",
       "1      0.000986+0.000000j  0.001716+0.000000j       9        1   0.386757\n",
       "0      0.000986+0.000000j  0.001716+0.000000j      10        1   0.386757, topic_info=        Term       Freq      Total Category  logprob  loglift\n",
       "102     film  10.000000  10.000000  Default  30.0000  30.0000\n",
       "105    movie   8.000000   8.000000  Default  29.0000  29.0000\n",
       "130     cast   1.000000   1.000000  Default  28.0000  28.0000\n",
       "20      show   4.000000   4.000000  Default  27.0000  27.0000\n",
       "67       air   2.000000   2.000000  Default  26.0000  26.0000\n",
       "..       ...        ...        ...      ...      ...      ...\n",
       "156      kid   0.005585   1.934864  Topic10  -5.4072  -0.2927\n",
       "167    today   0.005585   1.524784  Topic10  -5.4072  -0.0545\n",
       "219   planet   0.005585   1.186004  Topic10  -5.4072   0.1968\n",
       "4       city   0.005585   1.872143  Topic10  -5.4072  -0.2597\n",
       "6    episode   0.005585   1.941428  Topic10  -5.4072  -0.2960\n",
       "\n",
       "[516 rows x 6 columns], token_table=      Topic      Freq       Term\n",
       "term                            \n",
       "112       4  0.995091     action\n",
       "212       1  0.843168  afternoon\n",
       "0         2  0.890248     agenda\n",
       "28        1  0.844777  agreement\n",
       "67        1  0.827529        air\n",
       "...     ...       ...        ...\n",
       "95        1  0.996842      woody\n",
       "27        2  1.063233       word\n",
       "145       3  0.765656      world\n",
       "96        1  0.372626       year\n",
       "96        3  0.745253       year\n",
       "\n",
       "[198 rows x 3 columns], R=30, lambda_step=0.01, plot_opts={'xlab': 'PC1', 'ylab': 'PC2'}, topic_order=[7, 8, 9, 6, 3, 10, 5, 4, 2, 1])"
      ]
     },
     "execution_count": 55,
     "metadata": {},
     "output_type": "execute_result"
    }
   ],
   "source": [
    "vis = pyLDAvis.gensim.prepare(lda_model, corpus, dictionary=lda_model.id2word)\n",
    "vis"
   ]
  },
  {
   "cell_type": "markdown",
   "metadata": {},
   "source": [
    "__Visualizations with seaborn__"
   ]
  },
  {
   "cell_type": "code",
   "execution_count": 56,
   "metadata": {},
   "outputs": [],
   "source": [
    "# Preprocessing\n",
    "values = list(lda_model.get_document_topics(corpus))\n",
    "\n",
    "split = []\n",
    "for entry in values:\n",
    "    topic_prevelance = []\n",
    "    for topic in entry:\n",
    "        topic_prevelance.append(topic[1])\n",
    "    split.append(topic_prevelance)\n",
    "\n",
    "df = pd.DataFrame(map(list,zip(*split)))"
   ]
  },
  {
   "cell_type": "code",
   "execution_count": 57,
   "metadata": {},
   "outputs": [
    {
     "data": {
      "text/plain": [
       "<AxesSubplot:>"
      ]
     },
     "execution_count": 57,
     "metadata": {},
     "output_type": "execute_result"
    },
    {
     "data": {
      "image/png": "[encoded data removed]",
      "text/plain": [
       "<Figure size 1440x720 with 1 Axes>"
      ]
     },
     "metadata": {
      "needs_background": "light"
     },
     "output_type": "display_data"
    }
   ],
   "source": [
    "sns.lineplot(data=df.T.rolling(50).mean())"
   ]
  }
 ],
 "metadata": {
  "kernelspec": {
   "display_name": "lang101",
   "language": "python",
   "name": "lang101"
  },
  "language_info": {
   "codemirror_mode": {
    "name": "ipython",
    "version": 3
   },
   "file_extension": ".py",
   "mimetype": "text/x-python",
   "name": "python",
   "nbconvert_exporter": "python",
   "pygments_lexer": "ipython3",
   "version": "3.6.9"
  }
 },
 "nbformat": 4,
 "nbformat_minor": 4
}
